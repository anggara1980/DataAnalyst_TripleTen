{
 "cells": [
  {
   "cell_type": "markdown",
   "metadata": {},
   "source": [
    "<div style=\"border:solid black 2px; padding: 20px\">\n",
    "\n",
    "# Reviewer's feedback v.1\n",
    "\n",
    "**Halo Arie**\n",
    "    \n",
    "**Greetings from Chamdani**\n",
    "\n",
    "Terima kasih telah mengirimkan project kamu dengan ini kamu sudah memulai sebuah langkah yang luar biasa saat ini. Disini saya akan mereview proyek kamu ya.\n",
    "\n",
    "Saya akan memberikan beberapa komentar dan feedback seperti dibawah ini, **mohon jangan dipindah, dirubah, maupun dihapus ya :).**\n",
    "    \n",
    "> Mohon diperhatikan bahwa apabila ada temuan atau kesalahan yang sama namun tidak ada komentar perbaikan disana, itu berarti kamu masih tetap harus memperbaikinya yaa.\n",
    "\n",
    "Komentar yang saya berikan akan muncul dalam warna hijau, kuning, atau pun merah seperti ini:\n",
    "\n",
    "</div>\n",
    "\n",
    "<div class=\"alert alert-success\">\n",
    "<b>Chamdani's comment v.*</b> <a class=\"tocSkip\"></a>\n",
    "\n",
    "Bagus, semua berjalan lancar.\n",
    "\n",
    "</div>\n",
    "\n",
    "<div class=\"alert alert-warning\">\n",
    "<b>Chamdani's comment v.*</b> <a class=\"tocSkip\"></a>\n",
    "\n",
    "Ada beberapa catatan.\n",
    "\n",
    "</div>\n",
    "\n",
    "<div class=\"alert alert-danger\">\n",
    "<b>Chamdani's comment v.*</b> <a class=\"tocSkip\"></a>\n",
    "\n",
    "Perlu beberapa perbaikan.\n",
    "\n",
    "</div>\n",
    "\n",
    "<div class=\"alert alert-info\">\n",
    "<b>Chamdani's info v.1</b> <a class=\"tocSkip\"></a>\n",
    "\n",
    "Catatan umum:\n",
    "* Fungsi `print` tidak diperlukan untuk mencetak suatu nilai\n",
    "* Lebih baik tulis kode pada bagian akhir cell code untuk menampilkan output tanpa `print`\n",
    "* Perintah soal yang ada dalam tanda kurung siku `[...]` sebaiknya dihilangkan\n",
    "* Sangat disarankan untuk menggunakan cell markdown untuk memberikan deskripsi temuan atau kesimpulan.\n",
    "* Tidak disarankan menggunakan cell code untuk memberikan penjelasan / deskripsi.\n",
    "* Untuk menghindari galat pada notebook project kamu. Batasi jumlah output yang dikeluarkan setiap kode dengan batas max 10 baris data.\n",
    "\n",
    "</div>\n",
    "\n",
    "<div style=\"border:solid gray 5px; padding: 20px\" class=\"alert alert-warning\">\n",
    "\n",
    "**INGATLAH** \n",
    "* Project kamu tidak akan bisa diterima bila kamu masih memiliki feedback berwarna merah. \n",
    "* Kamu hanya memiliki 3 kali kesempatan iterasi submission disetiap projectnya \n",
    "* Jika merasa kesulitan kamu dapat menuliskan responmu atas feedback saya menggunakan blok markdown warna biru dan kamu bisa mengirimkan project pada submission selanjutnya untuk mendapatkan jawaban / respon dari saya segera yaa\n",
    "\n",
    "Kamu dapat menjawab saya dengan menggunakan blok berwarna biru seperti ini\n",
    "\n",
    "<div class=\"alert alert-info\">\n",
    "<b>Student answer</b> <a class=\"tocSkip\"></a>\n",
    "\n",
    "Siap kak.\n",
    "\n",
    "</div>"
   ]
  },
  {
   "cell_type": "markdown",
   "metadata": {},
   "source": [
    "<div style=\"border:solid black 2px; padding: 20px\" class=\"alert alert-success\">\n",
    "    \n",
    "# General feedback v.1 *Project Accepted*\n",
    "\n",
    "Terima kasih banyak telah mengirimkan proyek Anda! \n",
    "<br>\n",
    "    \n",
    "Secara keseluruhan, proyek Anda **SANGAT** mengesankan. Semoga apa yang kamu pelajari dalam project ini dapat membantu meningkatkan kemampuanmu. Pertahankan apa yang sudah bagus, dan tingkatkan apa yang menurutmu masih perlu ditingkatkan. Semoga berhasil pada project selanjutnya yaa :)\n",
    "\n",
    "**TETAP SEMANGAT!!**\n",
    "    \n",
    "</div>"
   ]
  },
  {
   "cell_type": "markdown",
   "metadata": {},
   "source": [
    "# Riset Pasar Restoran di Los Angeles"
   ]
  },
  {
   "cell_type": "markdown",
   "metadata": {},
   "source": [
    "Kami telah memutuskan untuk membuka sebuah kafe kecil di Los Angeles. Kafe kami bisa dibilang cukup unik, karena Anda \"memperkerjakan\" robot sebagai pelayan atau pramusaji. Proyek ini memang menjanjikan, namun membutuhkan modal yang besar. Oleh karena itu, kami dan para mitra Anda memutuskan untuk menarik minat investor. Mereka tertarik dengan kondisi pasar saat ini.\n",
    "\n",
    "Para mitra pun meminta kami untuk mempersiapkan sejumlah riset pasar. Kami memiliki data dari sumber terbuka (open source) terkait jenis-jenis usaha tempat makan di Los Angeles."
   ]
  },
  {
   "cell_type": "markdown",
   "metadata": {},
   "source": [
    "## Tujuan"
   ]
  },
  {
   "cell_type": "markdown",
   "metadata": {},
   "source": [
    "Proyek ini berfokus pada data storytelling untuk mengikat para investor berdasarkan data Market Research. Data dilakukan pre-processing untuk membersihkan dan merapihkan data agar dapat diolah. Kemudian dilakukan analisis data untuk menentukan peluang pengembangan usaha berbasis waralaba beserta rekomendasi tentang jenis usaha dan jumlah kursinya"
   ]
  },
  {
   "cell_type": "markdown",
   "metadata": {},
   "source": [
    "## Tahapan"
   ]
  },
  {
   "cell_type": "markdown",
   "metadata": {},
   "source": [
    "Data proyek analisis bisnis ini disimpan dalam file rest_data_us.csv\n",
    "\n",
    "Proyek ini terdiri dari dua tahap:\n",
    "\n",
    "1. Pra-pemrosesan Data\n",
    "1.1. Memuat Data\n",
    "1.2. Mengkesplorasi Data\n",
    "1.3. mengatasi Nilai-nilai yang Hilang\n",
    "1.4. Pre-processing - 'address' column\n",
    "\n",
    "2. Analisis Data Exploratif (EDA)\n",
    "2.1. Proporsi dari Berbagai jenis Usaha\n",
    "2.2. Proporsi dari usaha berbasis waralaba dan norwealaba\n",
    "2.3. Jenis usaha yang berbasis waralaba\n",
    "2.4. Karakteristik jenis usaha berbasis waralaba\n",
    "2.5. Jumlah rata-rata kursi untuk setiap jenis usaha\n",
    "2.6. Data nama jalan dari kolom address ke kolom terpisah\n",
    "2.7. Sepuluh nama jalan teratas berdasarkan jumlah usaha (tempat makan)\n",
    "2.8. Jumlah jalan yang hanya memiliki satu usaha (tempat makan)\n",
    "2.9. Jalan yang dihuni oleh banyak usaha (tempat makan)\n",
    "\n",
    "Kesimpulan Umum"
   ]
  },
  {
   "cell_type": "markdown",
   "metadata": {},
   "source": [
    "<div class=\"alert alert-success\">\n",
    "<b>Chamdani's comment v.1</b> <a class=\"tocSkip\"></a>\n",
    "\n",
    "Hebat, Kerja bagus!\n",
    "\n",
    "</div>"
   ]
  },
  {
   "cell_type": "markdown",
   "metadata": {},
   "source": [
    "## 1. Pra-pemrosesan Data"
   ]
  },
  {
   "cell_type": "code",
   "execution_count": 1,
   "metadata": {},
   "outputs": [],
   "source": [
    "# Import library\n",
    "import pandas as pd\n",
    "import matplotlib.pyplot as plt\n",
    "import seaborn as sns\n",
    "import numpy as np\n",
    "from scipy import stats as st\n",
    "\n",
    "from datetime import date, timedelta\n",
    "import datetime as dt\n",
    "\n",
    "import warnings\n",
    "warnings.filterwarnings('ignore')\n",
    "from IPython.display import Markdown, display"
   ]
  },
  {
   "cell_type": "code",
   "execution_count": 2,
   "metadata": {},
   "outputs": [],
   "source": [
    "# Define printmd() function to print code in blue color.\n",
    "def printmd(string, color=None):\n",
    "    colorstr = \"<span style='color:{}'>{}</span>\".format(color, string)\n",
    "    display(Markdown(colorstr))"
   ]
  },
  {
   "cell_type": "code",
   "execution_count": 3,
   "metadata": {},
   "outputs": [
    {
     "name": "stdout",
     "output_type": "stream",
     "text": [
      "Collecting usaddress\n",
      "  Downloading usaddress-0.5.10-py2.py3-none-any.whl (63 kB)\n",
      "\u001b[K     |████████████████████████████████| 63 kB 4.4 MB/s  eta 0:00:01\n",
      "\u001b[?25hCollecting python-crfsuite>=0.7\n",
      "  Downloading python_crfsuite-0.9.10-cp39-cp39-manylinux_2_17_x86_64.manylinux2014_x86_64.whl (1.1 MB)\n",
      "\u001b[K     |████████████████████████████████| 1.1 MB 27.0 MB/s eta 0:00:01\n",
      "\u001b[?25hCollecting probableparsing\n",
      "  Downloading probableparsing-0.0.1-py2.py3-none-any.whl (3.1 kB)\n",
      "Collecting future>=0.14\n",
      "  Downloading future-0.18.3.tar.gz (840 kB)\n",
      "\u001b[K     |████████████████████████████████| 840 kB 57.8 MB/s eta 0:00:01\n",
      "\u001b[?25hBuilding wheels for collected packages: future\n",
      "  Building wheel for future (setup.py) ... \u001b[?25ldone\n",
      "\u001b[?25h  Created wheel for future: filename=future-0.18.3-py3-none-any.whl size=492026 sha256=299dd8dcd55948bd7243c6091e04e7af0da5668fa57f189d06e28138957c5d05\n",
      "  Stored in directory: /home/jovyan/.cache/pip/wheels/bf/5d/6a/2e53874f7ec4e2bede522385439531fafec8fafe005b5c3d1b\n",
      "Successfully built future\n",
      "Installing collected packages: python-crfsuite, probableparsing, future, usaddress\n",
      "Successfully installed future-0.18.3 probableparsing-0.0.1 python-crfsuite-0.9.10 usaddress-0.5.10\n"
     ]
    }
   ],
   "source": [
    "!pip install usaddress"
   ]
  },
  {
   "cell_type": "code",
   "execution_count": 4,
   "metadata": {},
   "outputs": [],
   "source": [
    "# Import usaddress library\n",
    "import usaddress"
   ]
  },
  {
   "cell_type": "markdown",
   "metadata": {},
   "source": [
    "<div class=\"alert alert-success\">\n",
    "<b>Chamdani's comment v.1</b> <a class=\"tocSkip\"></a>\n",
    "\n",
    "Hebat, Kerja bagus!\n",
    "\n",
    "</div>"
   ]
  },
  {
   "cell_type": "markdown",
   "metadata": {},
   "source": [
    "## 1.1. Memuat Data"
   ]
  },
  {
   "cell_type": "code",
   "execution_count": 5,
   "metadata": {},
   "outputs": [
    {
     "name": "stdout",
     "output_type": "stream",
     "text": [
      "<class 'pandas.core.frame.DataFrame'>\n",
      "RangeIndex: 9651 entries, 0 to 9650\n",
      "Data columns (total 6 columns):\n",
      " #   Column       Non-Null Count  Dtype \n",
      "---  ------       --------------  ----- \n",
      " 0   id           9651 non-null   int64 \n",
      " 1   object_name  9651 non-null   object\n",
      " 2   address      9651 non-null   object\n",
      " 3   chain        9648 non-null   object\n",
      " 4   object_type  9651 non-null   object\n",
      " 5   number       9651 non-null   int64 \n",
      "dtypes: int64(2), object(4)\n",
      "memory usage: 452.5+ KB\n"
     ]
    },
    {
     "data": {
      "text/html": [
       "<div>\n",
       "<style scoped>\n",
       "    .dataframe tbody tr th:only-of-type {\n",
       "        vertical-align: middle;\n",
       "    }\n",
       "\n",
       "    .dataframe tbody tr th {\n",
       "        vertical-align: top;\n",
       "    }\n",
       "\n",
       "    .dataframe thead th {\n",
       "        text-align: right;\n",
       "    }\n",
       "</style>\n",
       "<table border=\"1\" class=\"dataframe\">\n",
       "  <thead>\n",
       "    <tr style=\"text-align: right;\">\n",
       "      <th></th>\n",
       "      <th>id</th>\n",
       "      <th>object_name</th>\n",
       "      <th>address</th>\n",
       "      <th>chain</th>\n",
       "      <th>object_type</th>\n",
       "      <th>number</th>\n",
       "    </tr>\n",
       "  </thead>\n",
       "  <tbody>\n",
       "    <tr>\n",
       "      <th>0</th>\n",
       "      <td>11786</td>\n",
       "      <td>HABITAT COFFEE SHOP</td>\n",
       "      <td>3708 N EAGLE ROCK BLVD</td>\n",
       "      <td>False</td>\n",
       "      <td>Cafe</td>\n",
       "      <td>26</td>\n",
       "    </tr>\n",
       "    <tr>\n",
       "      <th>1</th>\n",
       "      <td>11787</td>\n",
       "      <td>REILLY'S</td>\n",
       "      <td>100 WORLD WAY # 120</td>\n",
       "      <td>False</td>\n",
       "      <td>Restaurant</td>\n",
       "      <td>9</td>\n",
       "    </tr>\n",
       "    <tr>\n",
       "      <th>2</th>\n",
       "      <td>11788</td>\n",
       "      <td>STREET CHURROS</td>\n",
       "      <td>6801 HOLLYWOOD BLVD # 253</td>\n",
       "      <td>False</td>\n",
       "      <td>Fast Food</td>\n",
       "      <td>20</td>\n",
       "    </tr>\n",
       "    <tr>\n",
       "      <th>3</th>\n",
       "      <td>11789</td>\n",
       "      <td>TRINITI ECHO PARK</td>\n",
       "      <td>1814 W SUNSET BLVD</td>\n",
       "      <td>False</td>\n",
       "      <td>Restaurant</td>\n",
       "      <td>22</td>\n",
       "    </tr>\n",
       "    <tr>\n",
       "      <th>4</th>\n",
       "      <td>11790</td>\n",
       "      <td>POLLEN</td>\n",
       "      <td>2100 ECHO PARK AVE</td>\n",
       "      <td>False</td>\n",
       "      <td>Restaurant</td>\n",
       "      <td>20</td>\n",
       "    </tr>\n",
       "  </tbody>\n",
       "</table>\n",
       "</div>"
      ],
      "text/plain": [
       "      id          object_name                    address  chain object_type  \\\n",
       "0  11786  HABITAT COFFEE SHOP     3708 N EAGLE ROCK BLVD  False        Cafe   \n",
       "1  11787             REILLY'S        100 WORLD WAY # 120  False  Restaurant   \n",
       "2  11788       STREET CHURROS  6801 HOLLYWOOD BLVD # 253  False   Fast Food   \n",
       "3  11789    TRINITI ECHO PARK         1814 W SUNSET BLVD  False  Restaurant   \n",
       "4  11790               POLLEN         2100 ECHO PARK AVE  False  Restaurant   \n",
       "\n",
       "   number  \n",
       "0      26  \n",
       "1       9  \n",
       "2      20  \n",
       "3      22  \n",
       "4      20  "
      ]
     },
     "metadata": {},
     "output_type": "display_data"
    }
   ],
   "source": [
    "# Read dataset\n",
    "rest_data = pd.read_csv('https://practicum-content.s3.us-west-1.amazonaws.com/datasets/rest_data_us.csv', sep=',')\n",
    "rest_data.info()\n",
    "display(rest_data.head())"
   ]
  },
  {
   "cell_type": "markdown",
   "metadata": {},
   "source": [
    "**Deskripsi rest_data:**\n",
    "\n",
    "- id — unik ID\n",
    "- object_name — nama usaha\n",
    "- address — alamat\n",
    "- chain — usaha berbasis waralaba (TRUE/FALSE)\n",
    "- object_type — jenis usaha\n",
    "- number — jumlah kursi\n",
    "\n",
    "**Kesimpulan:**\n",
    "\n",
    "-Tabel data rest_data memiliki format data yang sudah rapih."
   ]
  },
  {
   "cell_type": "markdown",
   "metadata": {},
   "source": [
    "<div class=\"alert alert-success\">\n",
    "<b>Chamdani's comment v.1</b> <a class=\"tocSkip\"></a>\n",
    "\n",
    "Hebat, Kerja bagus!\n",
    "\n",
    "</div>"
   ]
  },
  {
   "cell_type": "markdown",
   "metadata": {},
   "source": [
    "## 1.2. Mengeksplorasi Data Awal"
   ]
  },
  {
   "cell_type": "code",
   "execution_count": 6,
   "metadata": {},
   "outputs": [
    {
     "data": {
      "text/plain": [
       "chain          3\n",
       "id             0\n",
       "object_name    0\n",
       "address        0\n",
       "object_type    0\n",
       "number         0\n",
       "dtype: int64"
      ]
     },
     "execution_count": 6,
     "metadata": {},
     "output_type": "execute_result"
    }
   ],
   "source": [
    "# Check total missing values descending\n",
    "rest_data.isna().sum().sort_values(ascending=False)"
   ]
  },
  {
   "cell_type": "code",
   "execution_count": 7,
   "metadata": {},
   "outputs": [
    {
     "data": {
      "text/plain": [
       "0"
      ]
     },
     "execution_count": 7,
     "metadata": {},
     "output_type": "execute_result"
    }
   ],
   "source": [
    "# Check duplicated data\n",
    "rest_data.duplicated().sum()"
   ]
  },
  {
   "cell_type": "markdown",
   "metadata": {},
   "source": [
    "**Kesimpulan Sementara:**\n",
    "\n",
    "- Kolom chain terdapat nilai hilang.\n",
    "- Tidak terdapat duplikat pada data."
   ]
  },
  {
   "cell_type": "markdown",
   "metadata": {},
   "source": [
    "<div class=\"alert alert-success\">\n",
    "<b>Chamdani's comment v.1</b> <a class=\"tocSkip\"></a>\n",
    "\n",
    "Hebat, Kerja bagus!\n",
    "\n",
    "</div>"
   ]
  },
  {
   "cell_type": "markdown",
   "metadata": {},
   "source": [
    "## 1.3. Mengatasi Nilai-nilai yang Hilang"
   ]
  },
  {
   "cell_type": "code",
   "execution_count": 8,
   "metadata": {},
   "outputs": [
    {
     "data": {
      "text/html": [
       "<div>\n",
       "<style scoped>\n",
       "    .dataframe tbody tr th:only-of-type {\n",
       "        vertical-align: middle;\n",
       "    }\n",
       "\n",
       "    .dataframe tbody tr th {\n",
       "        vertical-align: top;\n",
       "    }\n",
       "\n",
       "    .dataframe thead th {\n",
       "        text-align: right;\n",
       "    }\n",
       "</style>\n",
       "<table border=\"1\" class=\"dataframe\">\n",
       "  <thead>\n",
       "    <tr style=\"text-align: right;\">\n",
       "      <th></th>\n",
       "      <th>id</th>\n",
       "      <th>object_name</th>\n",
       "      <th>address</th>\n",
       "      <th>chain</th>\n",
       "      <th>object_type</th>\n",
       "      <th>number</th>\n",
       "    </tr>\n",
       "  </thead>\n",
       "  <tbody>\n",
       "    <tr>\n",
       "      <th>7408</th>\n",
       "      <td>19194</td>\n",
       "      <td>TAQUERIA LOS 3 CARNALES</td>\n",
       "      <td>5000 E WHITTIER BLVD</td>\n",
       "      <td>NaN</td>\n",
       "      <td>Restaurant</td>\n",
       "      <td>14</td>\n",
       "    </tr>\n",
       "    <tr>\n",
       "      <th>7523</th>\n",
       "      <td>19309</td>\n",
       "      <td>JAMMIN JIMMY'S PIZZA</td>\n",
       "      <td>1641 FIRESTONE BLVD</td>\n",
       "      <td>NaN</td>\n",
       "      <td>Pizza</td>\n",
       "      <td>1</td>\n",
       "    </tr>\n",
       "    <tr>\n",
       "      <th>8648</th>\n",
       "      <td>20434</td>\n",
       "      <td>THE LEXINGTON THEATER</td>\n",
       "      <td>129 E 3RD ST</td>\n",
       "      <td>NaN</td>\n",
       "      <td>Restaurant</td>\n",
       "      <td>35</td>\n",
       "    </tr>\n",
       "  </tbody>\n",
       "</table>\n",
       "</div>"
      ],
      "text/plain": [
       "         id              object_name               address chain object_type  \\\n",
       "7408  19194  TAQUERIA LOS 3 CARNALES  5000 E WHITTIER BLVD   NaN  Restaurant   \n",
       "7523  19309     JAMMIN JIMMY'S PIZZA   1641 FIRESTONE BLVD   NaN       Pizza   \n",
       "8648  20434    THE LEXINGTON THEATER          129 E 3RD ST   NaN  Restaurant   \n",
       "\n",
       "      number  \n",
       "7408      14  \n",
       "7523       1  \n",
       "8648      35  "
      ]
     },
     "execution_count": 8,
     "metadata": {},
     "output_type": "execute_result"
    }
   ],
   "source": [
    "rest_data[rest_data.isnull().any(axis=1)]"
   ]
  },
  {
   "cell_type": "markdown",
   "metadata": {},
   "source": [
    "**Kesimpulan Sementara:**\n",
    "\n",
    "- Terdapat 3 nilai yang hilang pada kolom chain.\n",
    "- Object_name pada id 19309 sebaiknya ditulis tanpa tada ' untuk mempermudah analisa data.\n",
    "- Ketiga data ini diketahui bukan merupakan usaha berbasis waralaba, maka dapat diisi dengan FALSE."
   ]
  },
  {
   "cell_type": "markdown",
   "metadata": {},
   "source": [
    "<div class=\"alert alert-success\">\n",
    "<b>Chamdani's comment v.1</b> <a class=\"tocSkip\"></a>\n",
    "\n",
    "Hebat, Kerja bagus!\n",
    "\n",
    "</div>"
   ]
  },
  {
   "cell_type": "code",
   "execution_count": 9,
   "metadata": {},
   "outputs": [
    {
     "data": {
      "text/html": [
       "<div>\n",
       "<style scoped>\n",
       "    .dataframe tbody tr th:only-of-type {\n",
       "        vertical-align: middle;\n",
       "    }\n",
       "\n",
       "    .dataframe tbody tr th {\n",
       "        vertical-align: top;\n",
       "    }\n",
       "\n",
       "    .dataframe thead th {\n",
       "        text-align: right;\n",
       "    }\n",
       "</style>\n",
       "<table border=\"1\" class=\"dataframe\">\n",
       "  <thead>\n",
       "    <tr style=\"text-align: right;\">\n",
       "      <th></th>\n",
       "      <th>id</th>\n",
       "      <th>object_name</th>\n",
       "      <th>address</th>\n",
       "      <th>chain</th>\n",
       "      <th>object_type</th>\n",
       "      <th>number</th>\n",
       "    </tr>\n",
       "  </thead>\n",
       "  <tbody>\n",
       "    <tr>\n",
       "      <th>7523</th>\n",
       "      <td>19309</td>\n",
       "      <td>JAMMIN JIMMYS PIZZA</td>\n",
       "      <td>1641 FIRESTONE BLVD</td>\n",
       "      <td>NaN</td>\n",
       "      <td>Pizza</td>\n",
       "      <td>1</td>\n",
       "    </tr>\n",
       "  </tbody>\n",
       "</table>\n",
       "</div>"
      ],
      "text/plain": [
       "         id          object_name              address chain object_type  \\\n",
       "7523  19309  JAMMIN JIMMYS PIZZA  1641 FIRESTONE BLVD   NaN       Pizza   \n",
       "\n",
       "      number  \n",
       "7523       1  "
      ]
     },
     "execution_count": 9,
     "metadata": {},
     "output_type": "execute_result"
    }
   ],
   "source": [
    "rest_data['object_name'].replace({\"JAMMIN JIMMY'S PIZZA\": \"JAMMIN JIMMYS PIZZA\"}, inplace=True)\n",
    "rest_data.query('id == 19309')"
   ]
  },
  {
   "cell_type": "code",
   "execution_count": 10,
   "metadata": {},
   "outputs": [
    {
     "data": {
      "text/html": [
       "<div>\n",
       "<style scoped>\n",
       "    .dataframe tbody tr th:only-of-type {\n",
       "        vertical-align: middle;\n",
       "    }\n",
       "\n",
       "    .dataframe tbody tr th {\n",
       "        vertical-align: top;\n",
       "    }\n",
       "\n",
       "    .dataframe thead th {\n",
       "        text-align: right;\n",
       "    }\n",
       "</style>\n",
       "<table border=\"1\" class=\"dataframe\">\n",
       "  <thead>\n",
       "    <tr style=\"text-align: right;\">\n",
       "      <th></th>\n",
       "      <th>id</th>\n",
       "      <th>object_name</th>\n",
       "      <th>address</th>\n",
       "      <th>chain</th>\n",
       "      <th>object_type</th>\n",
       "      <th>number</th>\n",
       "    </tr>\n",
       "  </thead>\n",
       "  <tbody>\n",
       "    <tr>\n",
       "      <th>7408</th>\n",
       "      <td>19194</td>\n",
       "      <td>TAQUERIA LOS 3 CARNALES</td>\n",
       "      <td>5000 E WHITTIER BLVD</td>\n",
       "      <td>False</td>\n",
       "      <td>Restaurant</td>\n",
       "      <td>14</td>\n",
       "    </tr>\n",
       "  </tbody>\n",
       "</table>\n",
       "</div>"
      ],
      "text/plain": [
       "         id              object_name               address  chain object_type  \\\n",
       "7408  19194  TAQUERIA LOS 3 CARNALES  5000 E WHITTIER BLVD  False  Restaurant   \n",
       "\n",
       "      number  \n",
       "7408      14  "
      ]
     },
     "execution_count": 10,
     "metadata": {},
     "output_type": "execute_result"
    }
   ],
   "source": [
    "rest_data['chain'].fillna(False, inplace = True) \n",
    "rest_data.query('id == 19194')"
   ]
  },
  {
   "cell_type": "markdown",
   "metadata": {},
   "source": [
    "**Kesimpulan:**\n",
    "\n",
    "- Data hilang telah teratasi."
   ]
  },
  {
   "cell_type": "markdown",
   "metadata": {},
   "source": [
    "<div class=\"alert alert-success\">\n",
    "<b>Chamdani's comment v.1</b> <a class=\"tocSkip\"></a>\n",
    "\n",
    "Hebat, Kerja bagus!\n",
    "\n",
    "</div>"
   ]
  },
  {
   "cell_type": "markdown",
   "metadata": {},
   "source": [
    "## 1.4. Pre-processing - 'address' column"
   ]
  },
  {
   "cell_type": "code",
   "execution_count": 11,
   "metadata": {},
   "outputs": [
    {
     "data": {
      "text/plain": [
       "'3708 N EAGLE ROCK BLVD'"
      ]
     },
     "execution_count": 11,
     "metadata": {},
     "output_type": "execute_result"
    }
   ],
   "source": [
    "# Example street to test the library\n",
    "\n",
    "street_example = rest_data.iloc[0]['address']\n",
    "street_example"
   ]
  },
  {
   "cell_type": "code",
   "execution_count": 12,
   "metadata": {},
   "outputs": [
    {
     "data": {
      "text/plain": [
       "[('3708', 'AddressNumber'),\n",
       " ('N', 'StreetNamePreDirectional'),\n",
       " ('EAGLE', 'StreetName'),\n",
       " ('ROCK', 'StreetName'),\n",
       " ('BLVD', 'StreetNamePostType')]"
      ]
     },
     "execution_count": 12,
     "metadata": {},
     "output_type": "execute_result"
    }
   ],
   "source": [
    "# Use .parse() method and pass to it any unstructed address\n",
    "# The library will split it into components\n",
    "\n",
    "usaddress.parse(street_example)"
   ]
  },
  {
   "cell_type": "code",
   "execution_count": 13,
   "metadata": {},
   "outputs": [],
   "source": [
    "# Now it's a list of tuples with the component and it's name\n",
    "\n",
    "raw_address = usaddress.parse(street_example)"
   ]
  },
  {
   "cell_type": "code",
   "execution_count": 14,
   "metadata": {},
   "outputs": [
    {
     "data": {
      "text/plain": [
       "{'AddressNumber': '3708',\n",
       " 'StreetNamePreDirectional': 'N',\n",
       " 'StreetName': 'ROCK',\n",
       " 'StreetNamePostType': 'BLVD'}"
      ]
     },
     "execution_count": 14,
     "metadata": {},
     "output_type": "execute_result"
    }
   ],
   "source": [
    "# Iterate over a list with components\n",
    "\n",
    "dict_address = {}\n",
    "for i in raw_address:\n",
    "    dict_address.update({i[1]:i[0]})\n",
    "\n",
    "dict_address"
   ]
  },
  {
   "cell_type": "markdown",
   "metadata": {},
   "source": [
    "<div class=\"alert alert-success\">\n",
    "<b>Chamdani's comment v.1</b> <a class=\"tocSkip\"></a>\n",
    "\n",
    "Hebat, Kerja bagus!\n",
    "\n",
    "</div>"
   ]
  },
  {
   "cell_type": "code",
   "execution_count": 15,
   "metadata": {},
   "outputs": [
    {
     "data": {
      "text/plain": [
       "'N,ROCK,3708'"
      ]
     },
     "execution_count": 15,
     "metadata": {},
     "output_type": "execute_result"
    }
   ],
   "source": [
    "# Take only street name and number\n",
    "\n",
    "dict_address['StreetNamePreDirectional'] + ',' + dict_address['StreetName'] + ',' + dict_address['AddressNumber']"
   ]
  },
  {
   "cell_type": "code",
   "execution_count": 16,
   "metadata": {},
   "outputs": [],
   "source": [
    "# Apply to all our rows and include a loop that will check the addresses \"without street or number\"\n",
    "\n",
    "def cleaning_check(raw):\n",
    "    raw_address = usaddress.parse(raw)\n",
    "    dict_address = {}\n",
    "    for i in raw_address:\n",
    "        dict_address.update({i[1]:i[0]})\n",
    "    # Checks for normal case with street and number    \n",
    "    if 'StreetName' in dict_address.keys() and 'AddressNumber' in dict_address.keys():\n",
    "        clean_address = dict_address['AddressNumber'] + \",\" + str(dict_address['StreetName'])\n",
    "        return clean_address\n",
    "    else:\n",
    "        return 'no street or number'"
   ]
  },
  {
   "cell_type": "code",
   "execution_count": 17,
   "metadata": {},
   "outputs": [
    {
     "data": {
      "text/plain": [
       "667       6360,SUNSET\n",
       "753     4560,WHITTIER\n",
       "6294     11127,VENICE\n",
       "1074          401,6TH\n",
       "6104       10571,PICO\n",
       "5302    4166,BROADWAY\n",
       "6315    5922,FIGUEROA\n",
       "298     11726,VICENTE\n",
       "4633      7288,SUNSET\n",
       "2984         1811,7TH\n",
       "4283         3540,1ST\n",
       "6558     3629,VERMONT\n",
       "7362         0800,6TH\n",
       "1138      5226,POMONA\n",
       "176         1525,BREA\n",
       "Name: address, dtype: object"
      ]
     },
     "execution_count": 17,
     "metadata": {},
     "output_type": "execute_result"
    }
   ],
   "source": [
    "# Apply it to random rows\n",
    "\n",
    "rest_data.address.sample(15).apply(cleaning_check)"
   ]
  },
  {
   "cell_type": "code",
   "execution_count": 18,
   "metadata": {},
   "outputs": [],
   "source": [
    "# Apply it to all data set\n",
    "\n",
    "rest_data['clean_street_check'] = rest_data.address.apply(cleaning_check)"
   ]
  },
  {
   "cell_type": "code",
   "execution_count": 19,
   "metadata": {},
   "outputs": [
    {
     "data": {
      "text/html": [
       "<div>\n",
       "<style scoped>\n",
       "    .dataframe tbody tr th:only-of-type {\n",
       "        vertical-align: middle;\n",
       "    }\n",
       "\n",
       "    .dataframe tbody tr th {\n",
       "        vertical-align: top;\n",
       "    }\n",
       "\n",
       "    .dataframe thead th {\n",
       "        text-align: right;\n",
       "    }\n",
       "</style>\n",
       "<table border=\"1\" class=\"dataframe\">\n",
       "  <thead>\n",
       "    <tr style=\"text-align: right;\">\n",
       "      <th></th>\n",
       "      <th>id</th>\n",
       "      <th>object_name</th>\n",
       "      <th>address</th>\n",
       "      <th>chain</th>\n",
       "      <th>object_type</th>\n",
       "      <th>number</th>\n",
       "      <th>clean_street_check</th>\n",
       "    </tr>\n",
       "  </thead>\n",
       "  <tbody>\n",
       "    <tr>\n",
       "      <th>1888</th>\n",
       "      <td>13674</td>\n",
       "      <td>MAGDALENO DEBBIE</td>\n",
       "      <td>OLVERA ST E17</td>\n",
       "      <td>False</td>\n",
       "      <td>Restaurant</td>\n",
       "      <td>15</td>\n",
       "      <td>no street or number</td>\n",
       "    </tr>\n",
       "    <tr>\n",
       "      <th>3719</th>\n",
       "      <td>15505</td>\n",
       "      <td>LAS ANITAS</td>\n",
       "      <td>OLVERA ST 26</td>\n",
       "      <td>False</td>\n",
       "      <td>Restaurant</td>\n",
       "      <td>38</td>\n",
       "      <td>no street or number</td>\n",
       "    </tr>\n",
       "    <tr>\n",
       "      <th>7003</th>\n",
       "      <td>18789</td>\n",
       "      <td>D.K. DONUTS</td>\n",
       "      <td>1033 1/2 LOS ANGELES ST</td>\n",
       "      <td>False</td>\n",
       "      <td>Fast Food</td>\n",
       "      <td>8</td>\n",
       "      <td>no street or number</td>\n",
       "    </tr>\n",
       "    <tr>\n",
       "      <th>7281</th>\n",
       "      <td>19067</td>\n",
       "      <td>CIELITO LINDO</td>\n",
       "      <td>OLVERA ST 23</td>\n",
       "      <td>False</td>\n",
       "      <td>Restaurant</td>\n",
       "      <td>2</td>\n",
       "      <td>no street or number</td>\n",
       "    </tr>\n",
       "    <tr>\n",
       "      <th>7319</th>\n",
       "      <td>19105</td>\n",
       "      <td>JUANITA'S CAFE</td>\n",
       "      <td>OLVERA ST 20</td>\n",
       "      <td>False</td>\n",
       "      <td>Restaurant</td>\n",
       "      <td>12</td>\n",
       "      <td>no street or number</td>\n",
       "    </tr>\n",
       "    <tr>\n",
       "      <th>7321</th>\n",
       "      <td>19107</td>\n",
       "      <td>KITTY'S SNOW CONES</td>\n",
       "      <td>OLVERA ST 2</td>\n",
       "      <td>False</td>\n",
       "      <td>Restaurant</td>\n",
       "      <td>11</td>\n",
       "      <td>no street or number</td>\n",
       "    </tr>\n",
       "    <tr>\n",
       "      <th>7327</th>\n",
       "      <td>19113</td>\n",
       "      <td>LA NOCHE BUENA</td>\n",
       "      <td>OLVERA ST E8</td>\n",
       "      <td>False</td>\n",
       "      <td>Restaurant</td>\n",
       "      <td>1</td>\n",
       "      <td>no street or number</td>\n",
       "    </tr>\n",
       "    <tr>\n",
       "      <th>7438</th>\n",
       "      <td>19224</td>\n",
       "      <td>LA GOLONDRINA</td>\n",
       "      <td>OLVERA ST W17</td>\n",
       "      <td>False</td>\n",
       "      <td>Restaurant</td>\n",
       "      <td>204</td>\n",
       "      <td>no street or number</td>\n",
       "    </tr>\n",
       "    <tr>\n",
       "      <th>7741</th>\n",
       "      <td>19527</td>\n",
       "      <td>RODOLFO'S RESTAURANT</td>\n",
       "      <td>OLVERA ST 5</td>\n",
       "      <td>True</td>\n",
       "      <td>Restaurant</td>\n",
       "      <td>4</td>\n",
       "      <td>no street or number</td>\n",
       "    </tr>\n",
       "  </tbody>\n",
       "</table>\n",
       "</div>"
      ],
      "text/plain": [
       "         id           object_name                  address  chain object_type  \\\n",
       "1888  13674      MAGDALENO DEBBIE            OLVERA ST E17  False  Restaurant   \n",
       "3719  15505            LAS ANITAS             OLVERA ST 26  False  Restaurant   \n",
       "7003  18789           D.K. DONUTS  1033 1/2 LOS ANGELES ST  False   Fast Food   \n",
       "7281  19067         CIELITO LINDO             OLVERA ST 23  False  Restaurant   \n",
       "7319  19105        JUANITA'S CAFE             OLVERA ST 20  False  Restaurant   \n",
       "7321  19107    KITTY'S SNOW CONES              OLVERA ST 2  False  Restaurant   \n",
       "7327  19113        LA NOCHE BUENA             OLVERA ST E8  False  Restaurant   \n",
       "7438  19224         LA GOLONDRINA            OLVERA ST W17  False  Restaurant   \n",
       "7741  19527  RODOLFO'S RESTAURANT              OLVERA ST 5   True  Restaurant   \n",
       "\n",
       "      number   clean_street_check  \n",
       "1888      15  no street or number  \n",
       "3719      38  no street or number  \n",
       "7003       8  no street or number  \n",
       "7281       2  no street or number  \n",
       "7319      12  no street or number  \n",
       "7321      11  no street or number  \n",
       "7327       1  no street or number  \n",
       "7438     204  no street or number  \n",
       "7741       4  no street or number  "
      ]
     },
     "execution_count": 19,
     "metadata": {},
     "output_type": "execute_result"
    }
   ],
   "source": [
    "# Check what streets has no number\n",
    "\n",
    "rest_data[rest_data['clean_street_check'] == 'no street or number']"
   ]
  },
  {
   "cell_type": "markdown",
   "metadata": {},
   "source": [
    "**Kesimpulan Sementara:**\n",
    "\n",
    "- Terdapat 2 jalan, jalan Olvera dan 1033 1/2 Los Angeles ST."
   ]
  },
  {
   "cell_type": "markdown",
   "metadata": {},
   "source": [
    "<div class=\"alert alert-success\">\n",
    "<b>Chamdani's comment v.1</b> <a class=\"tocSkip\"></a>\n",
    "\n",
    "Hebat, Kerja bagus!\n",
    "\n",
    "</div>"
   ]
  },
  {
   "cell_type": "code",
   "execution_count": 20,
   "metadata": {},
   "outputs": [
    {
     "data": {
      "text/plain": [
       "[('OLVERA', 'PlaceName'), ('ST', 'StateName'), ('E17', 'ZipCode')]"
      ]
     },
     "execution_count": 20,
     "metadata": {},
     "output_type": "execute_result"
    }
   ],
   "source": [
    "# Handle it with library\n",
    "usaddress.parse(rest_data.iloc[1888]['address'])"
   ]
  },
  {
   "cell_type": "markdown",
   "metadata": {},
   "source": [
    "**Kesimpulan Sementara:**\n",
    "\n",
    "- Library mengatasinya dengan menyebut Olvera sebagai PlaceName dengan tanpa jalan."
   ]
  },
  {
   "cell_type": "markdown",
   "metadata": {},
   "source": [
    "<div class=\"alert alert-success\">\n",
    "<b>Chamdani's comment v.1</b> <a class=\"tocSkip\"></a>\n",
    "\n",
    "Hebat, Kerja bagus!\n",
    "\n",
    "</div>"
   ]
  },
  {
   "cell_type": "code",
   "execution_count": 21,
   "metadata": {},
   "outputs": [
    {
     "data": {
      "text/html": [
       "<div>\n",
       "<style scoped>\n",
       "    .dataframe tbody tr th:only-of-type {\n",
       "        vertical-align: middle;\n",
       "    }\n",
       "\n",
       "    .dataframe tbody tr th {\n",
       "        vertical-align: top;\n",
       "    }\n",
       "\n",
       "    .dataframe thead th {\n",
       "        text-align: right;\n",
       "    }\n",
       "</style>\n",
       "<table border=\"1\" class=\"dataframe\">\n",
       "  <thead>\n",
       "    <tr style=\"text-align: right;\">\n",
       "      <th></th>\n",
       "      <th>id</th>\n",
       "      <th>object_name</th>\n",
       "      <th>address</th>\n",
       "      <th>chain</th>\n",
       "      <th>object_type</th>\n",
       "      <th>number</th>\n",
       "      <th>clean_street_check</th>\n",
       "      <th>clean_street_final</th>\n",
       "    </tr>\n",
       "  </thead>\n",
       "  <tbody>\n",
       "    <tr>\n",
       "      <th>515</th>\n",
       "      <td>12301</td>\n",
       "      <td>VEGGIE GRILL - WESTWOOD</td>\n",
       "      <td>10916 LINDBROOK DR</td>\n",
       "      <td>False</td>\n",
       "      <td>Restaurant</td>\n",
       "      <td>111</td>\n",
       "      <td>10916,LINDBROOK</td>\n",
       "      <td>10916 LINDBROOK, Los Angeles,USA</td>\n",
       "    </tr>\n",
       "    <tr>\n",
       "      <th>1828</th>\n",
       "      <td>13614</td>\n",
       "      <td>SUBWAY #6082</td>\n",
       "      <td>4949 W SLAUSON AVE # A</td>\n",
       "      <td>True</td>\n",
       "      <td>Fast Food</td>\n",
       "      <td>48</td>\n",
       "      <td>4949,SLAUSON</td>\n",
       "      <td>4949 SLAUSON, Los Angeles,USA</td>\n",
       "    </tr>\n",
       "    <tr>\n",
       "      <th>2438</th>\n",
       "      <td>14224</td>\n",
       "      <td>WAKU WAKU</td>\n",
       "      <td>1511 N CAHUENGA BLVD</td>\n",
       "      <td>False</td>\n",
       "      <td>Restaurant</td>\n",
       "      <td>42</td>\n",
       "      <td>1511,CAHUENGA</td>\n",
       "      <td>1511 CAHUENGA, Los Angeles,USA</td>\n",
       "    </tr>\n",
       "    <tr>\n",
       "      <th>4049</th>\n",
       "      <td>15835</td>\n",
       "      <td>QUE RICOS</td>\n",
       "      <td>1000 N SOTO ST</td>\n",
       "      <td>True</td>\n",
       "      <td>Restaurant</td>\n",
       "      <td>42</td>\n",
       "      <td>1000,SOTO</td>\n",
       "      <td>1000 SOTO, Los Angeles,USA</td>\n",
       "    </tr>\n",
       "    <tr>\n",
       "      <th>7531</th>\n",
       "      <td>19317</td>\n",
       "      <td>DONIBURGER</td>\n",
       "      <td>621 S WESTERN AVE #303</td>\n",
       "      <td>False</td>\n",
       "      <td>Fast Food</td>\n",
       "      <td>112</td>\n",
       "      <td>621,WESTERN</td>\n",
       "      <td>621 WESTERN, Los Angeles,USA</td>\n",
       "    </tr>\n",
       "    <tr>\n",
       "      <th>6818</th>\n",
       "      <td>18604</td>\n",
       "      <td>THANH VI RESTAURANT</td>\n",
       "      <td>422 ORD ST # #1A</td>\n",
       "      <td>True</td>\n",
       "      <td>Restaurant</td>\n",
       "      <td>36</td>\n",
       "      <td>422,ORD</td>\n",
       "      <td>422 ORD, Los Angeles,USA</td>\n",
       "    </tr>\n",
       "    <tr>\n",
       "      <th>2876</th>\n",
       "      <td>14662</td>\n",
       "      <td>ROLL CALL</td>\n",
       "      <td>3183 WILSHIRE BLVD STE 186</td>\n",
       "      <td>False</td>\n",
       "      <td>Restaurant</td>\n",
       "      <td>35</td>\n",
       "      <td>3183,WILSHIRE</td>\n",
       "      <td>3183 WILSHIRE, Los Angeles,USA</td>\n",
       "    </tr>\n",
       "    <tr>\n",
       "      <th>8302</th>\n",
       "      <td>20088</td>\n",
       "      <td>WINCHELL'S DONUT #9381</td>\n",
       "      <td>2100 BEVERLY BLVD</td>\n",
       "      <td>False</td>\n",
       "      <td>Fast Food</td>\n",
       "      <td>17</td>\n",
       "      <td>2100,BEVERLY</td>\n",
       "      <td>2100 BEVERLY, Los Angeles,USA</td>\n",
       "    </tr>\n",
       "    <tr>\n",
       "      <th>4113</th>\n",
       "      <td>15899</td>\n",
       "      <td>WETZEL'S PRETZELS</td>\n",
       "      <td>6922 HOLLYWOOD BLVD STE #107</td>\n",
       "      <td>True</td>\n",
       "      <td>Restaurant</td>\n",
       "      <td>14</td>\n",
       "      <td>6922,HOLLYWOOD</td>\n",
       "      <td>6922 HOLLYWOOD, Los Angeles,USA</td>\n",
       "    </tr>\n",
       "    <tr>\n",
       "      <th>7923</th>\n",
       "      <td>19709</td>\n",
       "      <td>ANGELES BAKERY</td>\n",
       "      <td>1833 W 6TH ST</td>\n",
       "      <td>True</td>\n",
       "      <td>Bakery</td>\n",
       "      <td>21</td>\n",
       "      <td>1833,6TH</td>\n",
       "      <td>1833 6TH, Los Angeles,USA</td>\n",
       "    </tr>\n",
       "  </tbody>\n",
       "</table>\n",
       "</div>"
      ],
      "text/plain": [
       "         id              object_name                       address  chain  \\\n",
       "515   12301  VEGGIE GRILL - WESTWOOD            10916 LINDBROOK DR  False   \n",
       "1828  13614             SUBWAY #6082        4949 W SLAUSON AVE # A   True   \n",
       "2438  14224                WAKU WAKU          1511 N CAHUENGA BLVD  False   \n",
       "4049  15835                QUE RICOS                1000 N SOTO ST   True   \n",
       "7531  19317               DONIBURGER        621 S WESTERN AVE #303  False   \n",
       "6818  18604      THANH VI RESTAURANT              422 ORD ST # #1A   True   \n",
       "2876  14662                ROLL CALL    3183 WILSHIRE BLVD STE 186  False   \n",
       "8302  20088   WINCHELL'S DONUT #9381             2100 BEVERLY BLVD  False   \n",
       "4113  15899        WETZEL'S PRETZELS  6922 HOLLYWOOD BLVD STE #107   True   \n",
       "7923  19709           ANGELES BAKERY                 1833 W 6TH ST   True   \n",
       "\n",
       "     object_type  number clean_street_check                clean_street_final  \n",
       "515   Restaurant     111    10916,LINDBROOK  10916 LINDBROOK, Los Angeles,USA  \n",
       "1828   Fast Food      48       4949,SLAUSON     4949 SLAUSON, Los Angeles,USA  \n",
       "2438  Restaurant      42      1511,CAHUENGA    1511 CAHUENGA, Los Angeles,USA  \n",
       "4049  Restaurant      42          1000,SOTO        1000 SOTO, Los Angeles,USA  \n",
       "7531   Fast Food     112        621,WESTERN      621 WESTERN, Los Angeles,USA  \n",
       "6818  Restaurant      36            422,ORD          422 ORD, Los Angeles,USA  \n",
       "2876  Restaurant      35      3183,WILSHIRE    3183 WILSHIRE, Los Angeles,USA  \n",
       "8302   Fast Food      17       2100,BEVERLY     2100 BEVERLY, Los Angeles,USA  \n",
       "4113  Restaurant      14     6922,HOLLYWOOD   6922 HOLLYWOOD, Los Angeles,USA  \n",
       "7923      Bakery      21           1833,6TH         1833 6TH, Los Angeles,USA  "
      ]
     },
     "execution_count": 21,
     "metadata": {},
     "output_type": "execute_result"
    }
   ],
   "source": [
    "# Update our function\n",
    "\n",
    "def cleaning_final(raw):\n",
    "    if raw.startswith('OLVERA'):\n",
    "        clean_address = 'OLVERA,Los Angeles,USA'\n",
    "    elif raw.startswith('1033 1/2 LOS ANGELES'):\n",
    "        clean_address = '1033 1/2 LOS ANGELES ST,Los Angeles,USA'\n",
    "    else:\n",
    "        raw_address = usaddress.parse(raw)\n",
    "        dict_address = {}\n",
    "        for i in raw_address:\n",
    "            dict_address.update({i[1]:i[0]})\n",
    "        clean_address = dict_address['AddressNumber'] + \" \" + str(dict_address['StreetName']) + str(', Los Angeles,USA')\n",
    "    return clean_address\n",
    "\n",
    "rest_data['clean_street_final'] = rest_data.address.apply(cleaning_final)\n",
    "rest_data.sample(10)"
   ]
  },
  {
   "cell_type": "markdown",
   "metadata": {},
   "source": [
    "**Kesimpulan:**\n",
    "\n",
    "- Data ini menyimpan data terbuka mengenai restoran di LA. Data disimpan dalam tabel rest_data.\n",
    "\n",
    "- Data mengandung 9651 baris dengan mewakili satu restoran.\n",
    "\n",
    "- Tidak terdapat data duplikat.\n",
    "\n",
    "- Nilai hilang diatasi dengan mengisi dengan 'False' karena 3 data tersebut bukan merupakan toko waralaba.\n",
    "\n",
    "Kolom alamat. Untuk bekerja dengan baik dengan alamat Amerika Serikat, pustaka usaddress diimport dan kemudian membuat sebuah fungsi yang mendekonstruksi jalan hingga mendapatkan nama dan nomor jalan untuk mendapatkan alamat bersih yang disimpan di kolom yang didekonstruksi clean_street_final."
   ]
  },
  {
   "cell_type": "markdown",
   "metadata": {},
   "source": [
    "<div class=\"alert alert-success\">\n",
    "<b>Chamdani's comment v.1</b> <a class=\"tocSkip\"></a>\n",
    "\n",
    "Hebat, Kerja bagus!\n",
    "\n",
    "</div>"
   ]
  },
  {
   "cell_type": "markdown",
   "metadata": {},
   "source": [
    "## 2. Analisis Data Eksploratif (EDA)"
   ]
  },
  {
   "cell_type": "markdown",
   "metadata": {},
   "source": [
    "## 2.1. Proporsi dari Berbagai jenis Usaha"
   ]
  },
  {
   "cell_type": "code",
   "execution_count": 22,
   "metadata": {
    "scrolled": true
   },
   "outputs": [
    {
     "data": {
      "text/html": [
       "<div>\n",
       "<style scoped>\n",
       "    .dataframe tbody tr th:only-of-type {\n",
       "        vertical-align: middle;\n",
       "    }\n",
       "\n",
       "    .dataframe tbody tr th {\n",
       "        vertical-align: top;\n",
       "    }\n",
       "\n",
       "    .dataframe thead th {\n",
       "        text-align: right;\n",
       "    }\n",
       "</style>\n",
       "<table border=\"1\" class=\"dataframe\">\n",
       "  <thead>\n",
       "    <tr style=\"text-align: right;\">\n",
       "      <th></th>\n",
       "      <th>type</th>\n",
       "      <th>rest_count</th>\n",
       "      <th>rest_part</th>\n",
       "    </tr>\n",
       "  </thead>\n",
       "  <tbody>\n",
       "    <tr>\n",
       "      <th>0</th>\n",
       "      <td>Bakery</td>\n",
       "      <td>283</td>\n",
       "      <td>3.0</td>\n",
       "    </tr>\n",
       "    <tr>\n",
       "      <th>1</th>\n",
       "      <td>Bar</td>\n",
       "      <td>292</td>\n",
       "      <td>3.0</td>\n",
       "    </tr>\n",
       "    <tr>\n",
       "      <th>4</th>\n",
       "      <td>Pizza</td>\n",
       "      <td>320</td>\n",
       "      <td>3.0</td>\n",
       "    </tr>\n",
       "    <tr>\n",
       "      <th>2</th>\n",
       "      <td>Cafe</td>\n",
       "      <td>435</td>\n",
       "      <td>5.0</td>\n",
       "    </tr>\n",
       "    <tr>\n",
       "      <th>3</th>\n",
       "      <td>Fast Food</td>\n",
       "      <td>1066</td>\n",
       "      <td>11.0</td>\n",
       "    </tr>\n",
       "    <tr>\n",
       "      <th>5</th>\n",
       "      <td>Restaurant</td>\n",
       "      <td>7255</td>\n",
       "      <td>75.0</td>\n",
       "    </tr>\n",
       "  </tbody>\n",
       "</table>\n",
       "</div>"
      ],
      "text/plain": [
       "         type  rest_count  rest_part\n",
       "0      Bakery         283        3.0\n",
       "1         Bar         292        3.0\n",
       "4       Pizza         320        3.0\n",
       "2        Cafe         435        5.0\n",
       "3   Fast Food        1066       11.0\n",
       "5  Restaurant        7255       75.0"
      ]
     },
     "execution_count": 22,
     "metadata": {},
     "output_type": "execute_result"
    }
   ],
   "source": [
    "rest = rest_data.groupby('object_type').agg({'id':'nunique'}).reset_index()\n",
    "rest.columns = ['type','rest_count']\n",
    "rest['rest_part'] = round(100 * rest['rest_count'] / rest.rest_count.sum())\n",
    "rest.sort_values('rest_part', axis=0, ascending=True)"
   ]
  },
  {
   "cell_type": "code",
   "execution_count": 23,
   "metadata": {},
   "outputs": [
    {
     "data": {
      "image/png": "[encoded data removed]",
      "text/plain": [
       "<Figure size 504x504 with 1 Axes>"
      ]
     },
     "metadata": {},
     "output_type": "display_data"
    }
   ],
   "source": [
    "pie_colors = [\"#532F1C\", \"#4F3D32\", \"#A56E3F\", \"#7B5742\", \"#3B3024\", \"#6D4F38\"]\n",
    "\n",
    "labels = rest.type\n",
    "sizes = rest.rest_part\n",
    "explode = (0,0,0,0,0,0.05)  \n",
    "\n",
    "fig1, ax1 = plt.subplots(figsize=(7,7))\n",
    "_, _, text = ax1.pie(sizes, explode = explode, labels = labels, autopct = '%0.0f%%',\n",
    "                     shadow = True, startangle = 90, colors = pie_colors)\n",
    "\n",
    "for t in text:\n",
    "    t.set_color('#F8F8F8')\n",
    "\n",
    "ax1.axis('equal')  \n",
    "\n",
    "plt.title('Proporsi dari berbagai jenis usaha', fontdict={'size':15}).set_position([.5, 1.05])\n",
    "\n",
    "plt.show()"
   ]
  },
  {
   "cell_type": "markdown",
   "metadata": {},
   "source": [
    "<div class=\"alert alert-success\">\n",
    "<b>Chamdani's comment v.1</b> <a class=\"tocSkip\"></a>\n",
    "\n",
    "Hebat, Kerja bagus!\n",
    "\n",
    "</div>"
   ]
  },
  {
   "cell_type": "code",
   "execution_count": 24,
   "metadata": {},
   "outputs": [
    {
     "data": {
      "image/png": "[encoded data removed]",
      "text/plain": [
       "<Figure size 1080x216 with 1 Axes>"
      ]
     },
     "metadata": {
      "needs_background": "light"
     },
     "output_type": "display_data"
    }
   ],
   "source": [
    "# Plot chart for absolute retaurant type partition\n",
    "\n",
    "fig,ax = plt.subplots(figsize = (15,3))\n",
    "plt.grid()\n",
    "ax.vlines(x = rest.type, ymin = 0, ymax = rest.rest_part, color = '#532F1C', alpha = 0.7,linewidth = 5)\n",
    "ax.set_title('Proporsi dari berbagai jenis usaha', fontdict = {'size':16})\n",
    "ax.set_ylabel('Percentage', fontdict = {'size':16})\n",
    "ax.set_xticks(rest.type)\n",
    "ax.set_xticklabels(rest.type, rotation = 30, fontdict = {'size':16})\n",
    "\n",
    "ax.scatter(x = rest.type, y = rest.rest_part, s = 75, color = '#f573df', alpha = 0.7)\n",
    "\n",
    "for row in rest.itertuples():\n",
    "    ax.text(row.type, row.rest_part, s = round(row.rest_part), fontdict = {'size':16})"
   ]
  },
  {
   "cell_type": "markdown",
   "metadata": {},
   "source": [
    "**Kesimpulan Sementara :**\n",
    "\n",
    "- Data terlihat bahwa 75% adalah restoran, 3% adalah Toko roti, bar, dan toko pizza, 5% adalah kafe dan 11% adalah makanan cepat saji."
   ]
  },
  {
   "cell_type": "markdown",
   "metadata": {},
   "source": [
    "<div class=\"alert alert-success\">\n",
    "<b>Chamdani's comment v.1</b> <a class=\"tocSkip\"></a>\n",
    "\n",
    "Hebat, Kerja bagus!\n",
    "\n",
    "</div>"
   ]
  },
  {
   "cell_type": "markdown",
   "metadata": {},
   "source": [
    "## 2.2. Proporsi dari usaha berbasis waralaba dan nonwaralaba"
   ]
  },
  {
   "cell_type": "code",
   "execution_count": 25,
   "metadata": {},
   "outputs": [],
   "source": [
    "rest_type = rest_data.groupby(['object_type','chain']).agg({'id':'nunique'}).reset_index()\n",
    "rest_type.columns = ['type','chain','rest_count']\n",
    "rest_type['rest_part'] = round(\n",
    "    100 * rest_type['rest_count'] / rest_type.rest_count.sum())"
   ]
  },
  {
   "cell_type": "code",
   "execution_count": 26,
   "metadata": {},
   "outputs": [],
   "source": [
    "# Change chain column from True False to Chain Not-chain values\n",
    "\n",
    "rest_type['chain'] = rest_type['chain'].astype(str).replace({'True':'Chain', 'False':'Not-chain'})"
   ]
  },
  {
   "cell_type": "code",
   "execution_count": 27,
   "metadata": {},
   "outputs": [],
   "source": [
    "rest_type[\"type_chain\"] = rest_type['type'] + \" \" + rest_type['chain'].astype(str)"
   ]
  },
  {
   "cell_type": "code",
   "execution_count": 28,
   "metadata": {},
   "outputs": [
    {
     "data": {
      "image/png": "[encoded data removed]",
      "text/plain": [
       "<Figure size 1080x216 with 1 Axes>"
      ]
     },
     "metadata": {
      "needs_background": "light"
     },
     "output_type": "display_data"
    }
   ],
   "source": [
    "# Plot chart for absolute retaurant type partition \n",
    "fig,ax = plt.subplots(figsize = (15,3))\n",
    "plt.grid()\n",
    "ax.vlines(x = rest_type.type_chain, ymin = 0,\n",
    "          ymax = rest_type.rest_part, color = '#3B3024', alpha = 0.7,linewidth = 2)\n",
    "ax.set_title('Partisi tipe retaurant absolut', fontdict = {'size':16})\n",
    "ax.set_ylabel('Absolute Percentage', fontdict = {'size':16})\n",
    "ax.set_xticks(rest_type.type_chain)\n",
    "ax.set_xticklabels(rest_type.type_chain, rotation = 30, fontdict = {'size':14})\n",
    "\n",
    "ax.scatter(x=rest_type.type_chain, y=rest_type.rest_part, s = 75, color = '#10c4c0', alpha = 0.7)\n",
    "\n",
    "for row in rest_type.itertuples():\n",
    "    ax.text(row.type_chain, row.rest_part, s = round(row.rest_part), fontdict = {'size':14})"
   ]
  },
  {
   "cell_type": "markdown",
   "metadata": {},
   "source": [
    "<div class=\"alert alert-success\">\n",
    "<b>Chamdani's comment v.1</b> <a class=\"tocSkip\"></a>\n",
    "\n",
    "Hebat, Kerja bagus!\n",
    "\n",
    "</div>"
   ]
  },
  {
   "cell_type": "code",
   "execution_count": 29,
   "metadata": {},
   "outputs": [
    {
     "name": "stdout",
     "output_type": "stream",
     "text": [
      "<class 'pandas.core.frame.DataFrame'>\n",
      "Index: 2 entries, False to True\n",
      "Data columns (total 6 columns):\n",
      " #   Column      Non-Null Count  Dtype  \n",
      "---  ------      --------------  -----  \n",
      " 0   Bakery      1 non-null      float64\n",
      " 1   Bar         2 non-null      float64\n",
      " 2   Cafe        2 non-null      float64\n",
      " 3   Fast Food   2 non-null      float64\n",
      " 4   Pizza       2 non-null      float64\n",
      " 5   Restaurant  2 non-null      float64\n",
      "dtypes: float64(6)\n",
      "memory usage: 112.0+ bytes\n"
     ]
    }
   ],
   "source": [
    "# Pivot table for graph inside each category\n",
    "pv_rest_type = rest_data.pivot_table(index = 'object_type', columns = 'chain', values = 'id', aggfunc = 'count')\n",
    "rest_type_t = pv_rest_type.T\n",
    "rest_type_t.info()"
   ]
  },
  {
   "cell_type": "code",
   "execution_count": 30,
   "metadata": {},
   "outputs": [
    {
     "data": {
      "text/html": [
       "<div>\n",
       "<style scoped>\n",
       "    .dataframe tbody tr th:only-of-type {\n",
       "        vertical-align: middle;\n",
       "    }\n",
       "\n",
       "    .dataframe tbody tr th {\n",
       "        vertical-align: top;\n",
       "    }\n",
       "\n",
       "    .dataframe thead th {\n",
       "        text-align: right;\n",
       "    }\n",
       "</style>\n",
       "<table border=\"1\" class=\"dataframe\">\n",
       "  <thead>\n",
       "    <tr style=\"text-align: right;\">\n",
       "      <th>object_type</th>\n",
       "      <th>Bakery</th>\n",
       "      <th>Bar</th>\n",
       "      <th>Cafe</th>\n",
       "      <th>Fast Food</th>\n",
       "      <th>Pizza</th>\n",
       "      <th>Restaurant</th>\n",
       "    </tr>\n",
       "    <tr>\n",
       "      <th>chain</th>\n",
       "      <th></th>\n",
       "      <th></th>\n",
       "      <th></th>\n",
       "      <th></th>\n",
       "      <th></th>\n",
       "      <th></th>\n",
       "    </tr>\n",
       "  </thead>\n",
       "  <tbody>\n",
       "    <tr>\n",
       "      <th>False</th>\n",
       "      <td>NaN</td>\n",
       "      <td>3.598326</td>\n",
       "      <td>2.828452</td>\n",
       "      <td>7.715481</td>\n",
       "      <td>2.794979</td>\n",
       "      <td>83.062762</td>\n",
       "    </tr>\n",
       "    <tr>\n",
       "      <th>True</th>\n",
       "      <td>7.698585</td>\n",
       "      <td>2.094668</td>\n",
       "      <td>7.236126</td>\n",
       "      <td>16.458107</td>\n",
       "      <td>4.162133</td>\n",
       "      <td>62.350381</td>\n",
       "    </tr>\n",
       "  </tbody>\n",
       "</table>\n",
       "</div>"
      ],
      "text/plain": [
       "object_type    Bakery       Bar      Cafe  Fast Food     Pizza  Restaurant\n",
       "chain                                                                     \n",
       "False             NaN  3.598326  2.828452   7.715481  2.794979   83.062762\n",
       "True         7.698585  2.094668  7.236126  16.458107  4.162133   62.350381"
      ]
     },
     "metadata": {},
     "output_type": "display_data"
    },
    {
     "data": {
      "image/png": "[encoded data removed]",
      "text/plain": [
       "<Figure size 1080x792 with 1 Axes>"
      ]
     },
     "metadata": {
      "needs_background": "light"
     },
     "output_type": "display_data"
    }
   ],
   "source": [
    "bar_colors = [\"#532F1C\", \"#4F3D32\", \"#A56E3F\", \"#7B5742\", \"#3B3024\", \"#6D4F38\"]\n",
    "\n",
    "ax = rest_type_t.apply(lambda r: r/r.sum()*100, axis = 1)\n",
    "ax_1 = ax.plot.bar(figsize = (15,11),stacked = True, rot = 0, color = bar_colors)\n",
    "display(ax)\n",
    "\n",
    "plt.legend(loc = 'upper center', bbox_to_anchor = (0.06, 0.9), title = \"Type\")\n",
    "\n",
    "plt.xlabel('Waralaba')\n",
    "plt.ylabel('Percent Distribution')\n",
    "\n",
    "for rec in ax_1.patches:\n",
    "    height = rec.get_height()\n",
    "    ax_1.text(rec.get_x() + rec.get_width() / 2, \n",
    "              rec.get_y() + height / 2,\n",
    "              \"{:.0f}%\".format(height),\n",
    "              color = '#F8F8F8',\n",
    "              fontsize=12,\n",
    "              ha = 'center', \n",
    "              va = 'bottom')\n",
    "plt.title('Proporsi dari usaha berbasis waralaba dan nonwaralaba')\n",
    "plt.grid(axis = 'y')\n",
    "plt.show()"
   ]
  },
  {
   "cell_type": "markdown",
   "metadata": {},
   "source": [
    "**Kesimpulan Sementara:**\n",
    "\n",
    "- Restoran nonwaralaba lebih banyak dibandingkan restoran waralaba.\n",
    "- Toko roti waralaba di LA mewakili 8% toko-toko waralaba. Sedangkan nonwaralaba hanya 0%."
   ]
  },
  {
   "cell_type": "markdown",
   "metadata": {},
   "source": [
    "<div class=\"alert alert-success\">\n",
    "<b>Chamdani's comment v.1</b> <a class=\"tocSkip\"></a>\n",
    "\n",
    "Hebat, Kerja bagus!\n",
    "\n",
    "</div>"
   ]
  },
  {
   "cell_type": "markdown",
   "metadata": {},
   "source": [
    "## 2.3. Jenis usaha yang berbasis waralaba"
   ]
  },
  {
   "cell_type": "code",
   "execution_count": 31,
   "metadata": {},
   "outputs": [],
   "source": [
    "chain = rest_type.query('chain == \"Chain\"')"
   ]
  },
  {
   "cell_type": "code",
   "execution_count": 32,
   "metadata": {},
   "outputs": [
    {
     "data": {
      "text/html": [
       "<div>\n",
       "<style scoped>\n",
       "    .dataframe tbody tr th:only-of-type {\n",
       "        vertical-align: middle;\n",
       "    }\n",
       "\n",
       "    .dataframe tbody tr th {\n",
       "        vertical-align: top;\n",
       "    }\n",
       "\n",
       "    .dataframe thead th {\n",
       "        text-align: right;\n",
       "    }\n",
       "</style>\n",
       "<table border=\"1\" class=\"dataframe\">\n",
       "  <thead>\n",
       "    <tr style=\"text-align: right;\">\n",
       "      <th></th>\n",
       "      <th>type</th>\n",
       "      <th>chain</th>\n",
       "      <th>rest_count</th>\n",
       "      <th>rest_part</th>\n",
       "      <th>type_chain</th>\n",
       "    </tr>\n",
       "  </thead>\n",
       "  <tbody>\n",
       "    <tr>\n",
       "      <th>0</th>\n",
       "      <td>Bakery</td>\n",
       "      <td>Chain</td>\n",
       "      <td>283</td>\n",
       "      <td>3.0</td>\n",
       "      <td>Bakery Chain</td>\n",
       "    </tr>\n",
       "    <tr>\n",
       "      <th>1</th>\n",
       "      <td>Bar</td>\n",
       "      <td>Not-chain</td>\n",
       "      <td>215</td>\n",
       "      <td>2.0</td>\n",
       "      <td>Bar Not-chain</td>\n",
       "    </tr>\n",
       "    <tr>\n",
       "      <th>2</th>\n",
       "      <td>Bar</td>\n",
       "      <td>Chain</td>\n",
       "      <td>77</td>\n",
       "      <td>1.0</td>\n",
       "      <td>Bar Chain</td>\n",
       "    </tr>\n",
       "    <tr>\n",
       "      <th>3</th>\n",
       "      <td>Cafe</td>\n",
       "      <td>Not-chain</td>\n",
       "      <td>169</td>\n",
       "      <td>2.0</td>\n",
       "      <td>Cafe Not-chain</td>\n",
       "    </tr>\n",
       "    <tr>\n",
       "      <th>4</th>\n",
       "      <td>Cafe</td>\n",
       "      <td>Chain</td>\n",
       "      <td>266</td>\n",
       "      <td>3.0</td>\n",
       "      <td>Cafe Chain</td>\n",
       "    </tr>\n",
       "    <tr>\n",
       "      <th>5</th>\n",
       "      <td>Fast Food</td>\n",
       "      <td>Not-chain</td>\n",
       "      <td>461</td>\n",
       "      <td>5.0</td>\n",
       "      <td>Fast Food Not-chain</td>\n",
       "    </tr>\n",
       "    <tr>\n",
       "      <th>6</th>\n",
       "      <td>Fast Food</td>\n",
       "      <td>Chain</td>\n",
       "      <td>605</td>\n",
       "      <td>6.0</td>\n",
       "      <td>Fast Food Chain</td>\n",
       "    </tr>\n",
       "    <tr>\n",
       "      <th>7</th>\n",
       "      <td>Pizza</td>\n",
       "      <td>Not-chain</td>\n",
       "      <td>167</td>\n",
       "      <td>2.0</td>\n",
       "      <td>Pizza Not-chain</td>\n",
       "    </tr>\n",
       "    <tr>\n",
       "      <th>8</th>\n",
       "      <td>Pizza</td>\n",
       "      <td>Chain</td>\n",
       "      <td>153</td>\n",
       "      <td>2.0</td>\n",
       "      <td>Pizza Chain</td>\n",
       "    </tr>\n",
       "    <tr>\n",
       "      <th>9</th>\n",
       "      <td>Restaurant</td>\n",
       "      <td>Not-chain</td>\n",
       "      <td>4963</td>\n",
       "      <td>51.0</td>\n",
       "      <td>Restaurant Not-chain</td>\n",
       "    </tr>\n",
       "    <tr>\n",
       "      <th>10</th>\n",
       "      <td>Restaurant</td>\n",
       "      <td>Chain</td>\n",
       "      <td>2292</td>\n",
       "      <td>24.0</td>\n",
       "      <td>Restaurant Chain</td>\n",
       "    </tr>\n",
       "  </tbody>\n",
       "</table>\n",
       "</div>"
      ],
      "text/plain": [
       "          type      chain  rest_count  rest_part            type_chain\n",
       "0       Bakery      Chain         283        3.0          Bakery Chain\n",
       "1          Bar  Not-chain         215        2.0         Bar Not-chain\n",
       "2          Bar      Chain          77        1.0             Bar Chain\n",
       "3         Cafe  Not-chain         169        2.0        Cafe Not-chain\n",
       "4         Cafe      Chain         266        3.0            Cafe Chain\n",
       "5    Fast Food  Not-chain         461        5.0   Fast Food Not-chain\n",
       "6    Fast Food      Chain         605        6.0       Fast Food Chain\n",
       "7        Pizza  Not-chain         167        2.0       Pizza Not-chain\n",
       "8        Pizza      Chain         153        2.0           Pizza Chain\n",
       "9   Restaurant  Not-chain        4963       51.0  Restaurant Not-chain\n",
       "10  Restaurant      Chain        2292       24.0      Restaurant Chain"
      ]
     },
     "execution_count": 32,
     "metadata": {},
     "output_type": "execute_result"
    }
   ],
   "source": [
    "rest_type"
   ]
  },
  {
   "cell_type": "code",
   "execution_count": 33,
   "metadata": {},
   "outputs": [
    {
     "data": {
      "text/html": [
       "<div>\n",
       "<style scoped>\n",
       "    .dataframe tbody tr th:only-of-type {\n",
       "        vertical-align: middle;\n",
       "    }\n",
       "\n",
       "    .dataframe tbody tr th {\n",
       "        vertical-align: top;\n",
       "    }\n",
       "\n",
       "    .dataframe thead th {\n",
       "        text-align: right;\n",
       "    }\n",
       "</style>\n",
       "<table border=\"1\" class=\"dataframe\">\n",
       "  <thead>\n",
       "    <tr style=\"text-align: right;\">\n",
       "      <th>chain</th>\n",
       "      <th>False</th>\n",
       "      <th>True</th>\n",
       "    </tr>\n",
       "    <tr>\n",
       "      <th>object_type</th>\n",
       "      <th></th>\n",
       "      <th></th>\n",
       "    </tr>\n",
       "  </thead>\n",
       "  <tbody>\n",
       "    <tr>\n",
       "      <th>Bakery</th>\n",
       "      <td>NaN</td>\n",
       "      <td>283.0</td>\n",
       "    </tr>\n",
       "    <tr>\n",
       "      <th>Bar</th>\n",
       "      <td>215.0</td>\n",
       "      <td>77.0</td>\n",
       "    </tr>\n",
       "    <tr>\n",
       "      <th>Cafe</th>\n",
       "      <td>169.0</td>\n",
       "      <td>266.0</td>\n",
       "    </tr>\n",
       "    <tr>\n",
       "      <th>Fast Food</th>\n",
       "      <td>461.0</td>\n",
       "      <td>605.0</td>\n",
       "    </tr>\n",
       "    <tr>\n",
       "      <th>Pizza</th>\n",
       "      <td>167.0</td>\n",
       "      <td>153.0</td>\n",
       "    </tr>\n",
       "    <tr>\n",
       "      <th>Restaurant</th>\n",
       "      <td>4963.0</td>\n",
       "      <td>2292.0</td>\n",
       "    </tr>\n",
       "  </tbody>\n",
       "</table>\n",
       "</div>"
      ],
      "text/plain": [
       "chain         False   True \n",
       "object_type                \n",
       "Bakery          NaN   283.0\n",
       "Bar           215.0    77.0\n",
       "Cafe          169.0   266.0\n",
       "Fast Food     461.0   605.0\n",
       "Pizza         167.0   153.0\n",
       "Restaurant   4963.0  2292.0"
      ]
     },
     "execution_count": 33,
     "metadata": {},
     "output_type": "execute_result"
    }
   ],
   "source": [
    "pv_rest_type"
   ]
  },
  {
   "cell_type": "code",
   "execution_count": 34,
   "metadata": {},
   "outputs": [
    {
     "data": {
      "text/html": [
       "<div>\n",
       "<style scoped>\n",
       "    .dataframe tbody tr th:only-of-type {\n",
       "        vertical-align: middle;\n",
       "    }\n",
       "\n",
       "    .dataframe tbody tr th {\n",
       "        vertical-align: top;\n",
       "    }\n",
       "\n",
       "    .dataframe thead th {\n",
       "        text-align: right;\n",
       "    }\n",
       "</style>\n",
       "<table border=\"1\" class=\"dataframe\">\n",
       "  <thead>\n",
       "    <tr style=\"text-align: right;\">\n",
       "      <th></th>\n",
       "      <th>type</th>\n",
       "      <th>chain</th>\n",
       "      <th>rest_count</th>\n",
       "      <th>rest_part</th>\n",
       "      <th>type_chain</th>\n",
       "      <th>chain_part</th>\n",
       "    </tr>\n",
       "  </thead>\n",
       "  <tbody>\n",
       "    <tr>\n",
       "      <th>0</th>\n",
       "      <td>Bakery</td>\n",
       "      <td>Chain</td>\n",
       "      <td>283</td>\n",
       "      <td>3.0</td>\n",
       "      <td>Bakery Chain</td>\n",
       "      <td>8.0</td>\n",
       "    </tr>\n",
       "    <tr>\n",
       "      <th>2</th>\n",
       "      <td>Bar</td>\n",
       "      <td>Chain</td>\n",
       "      <td>77</td>\n",
       "      <td>1.0</td>\n",
       "      <td>Bar Chain</td>\n",
       "      <td>2.0</td>\n",
       "    </tr>\n",
       "    <tr>\n",
       "      <th>4</th>\n",
       "      <td>Cafe</td>\n",
       "      <td>Chain</td>\n",
       "      <td>266</td>\n",
       "      <td>3.0</td>\n",
       "      <td>Cafe Chain</td>\n",
       "      <td>7.0</td>\n",
       "    </tr>\n",
       "    <tr>\n",
       "      <th>6</th>\n",
       "      <td>Fast Food</td>\n",
       "      <td>Chain</td>\n",
       "      <td>605</td>\n",
       "      <td>6.0</td>\n",
       "      <td>Fast Food Chain</td>\n",
       "      <td>16.0</td>\n",
       "    </tr>\n",
       "    <tr>\n",
       "      <th>8</th>\n",
       "      <td>Pizza</td>\n",
       "      <td>Chain</td>\n",
       "      <td>153</td>\n",
       "      <td>2.0</td>\n",
       "      <td>Pizza Chain</td>\n",
       "      <td>4.0</td>\n",
       "    </tr>\n",
       "    <tr>\n",
       "      <th>10</th>\n",
       "      <td>Restaurant</td>\n",
       "      <td>Chain</td>\n",
       "      <td>2292</td>\n",
       "      <td>24.0</td>\n",
       "      <td>Restaurant Chain</td>\n",
       "      <td>62.0</td>\n",
       "    </tr>\n",
       "  </tbody>\n",
       "</table>\n",
       "</div>"
      ],
      "text/plain": [
       "          type  chain  rest_count  rest_part        type_chain  chain_part\n",
       "0       Bakery  Chain         283        3.0      Bakery Chain         8.0\n",
       "2          Bar  Chain          77        1.0         Bar Chain         2.0\n",
       "4         Cafe  Chain         266        3.0        Cafe Chain         7.0\n",
       "6    Fast Food  Chain         605        6.0   Fast Food Chain        16.0\n",
       "8        Pizza  Chain         153        2.0       Pizza Chain         4.0\n",
       "10  Restaurant  Chain        2292       24.0  Restaurant Chain        62.0"
      ]
     },
     "execution_count": 34,
     "metadata": {},
     "output_type": "execute_result"
    }
   ],
   "source": [
    "chain['chain_part']=round(100 * chain['rest_count'] / chain.rest_count.sum())\n",
    "chain"
   ]
  },
  {
   "cell_type": "markdown",
   "metadata": {},
   "source": [
    "<div class=\"alert alert-success\">\n",
    "<b>Chamdani's comment v.1</b> <a class=\"tocSkip\"></a>\n",
    "\n",
    "Hebat, Kerja bagus!\n",
    "\n",
    "</div>"
   ]
  },
  {
   "cell_type": "code",
   "execution_count": 35,
   "metadata": {},
   "outputs": [
    {
     "data": {
      "image/png": "[encoded data removed]",
      "text/plain": [
       "<Figure size 504x504 with 1 Axes>"
      ]
     },
     "metadata": {},
     "output_type": "display_data"
    }
   ],
   "source": [
    "pie_colors = [\"#532F1C\", \"#4F3D32\", \"#A56E3F\", \"#7B5742\", \"#3B3024\", \"#6D4F38\"]\n",
    "\n",
    "labels = chain.type\n",
    "sizes = chain.chain_part\n",
    "explode = (0,0,0,0,0,0.1)  \n",
    "\n",
    "fig1, ax1 = plt.subplots(figsize = (7,7))\n",
    "_, _, text = ax1.pie(sizes, explode = explode, labels = labels, autopct = '%1.0f%%',\n",
    "        shadow = True, startangle = 90, colors = pie_colors)\n",
    "\n",
    "for t in text:\n",
    "    t.set_color('#F8F8F8')\n",
    "\n",
    "ax1.axis('equal')  \n",
    "plt.title('Jenis usaha berbasis waralaba', fontdict = {'size':16})\n",
    "\n",
    "plt.show()"
   ]
  },
  {
   "cell_type": "markdown",
   "metadata": {},
   "source": [
    "**Kesimpulan Sementara:**\n",
    "\n",
    "- Data waralaba terlihat Restoran sebanyak (63%), fast-food (16%), toko roti (8%) dan kafe (7%)."
   ]
  },
  {
   "cell_type": "markdown",
   "metadata": {},
   "source": [
    "<div class=\"alert alert-success\">\n",
    "<b>Chamdani's comment v.1</b> <a class=\"tocSkip\"></a>\n",
    "\n",
    "Hebat, Kerja bagus!\n",
    "\n",
    "</div>"
   ]
  },
  {
   "cell_type": "markdown",
   "metadata": {},
   "source": [
    "## 2.4. Karakteristik jenis usaha berbasis Waralaba"
   ]
  },
  {
   "cell_type": "markdown",
   "metadata": {},
   "source": [
    "Memiliki banyak tempat dengan jumlah kursi yang sedikit atau memiliki beberapa tempat dengan jumlah kursi yang banyak?"
   ]
  },
  {
   "cell_type": "code",
   "execution_count": 36,
   "metadata": {},
   "outputs": [],
   "source": [
    "pd.set_option(\"display.max_rows\", None, \"display.max_columns\", None)"
   ]
  },
  {
   "cell_type": "code",
   "execution_count": 37,
   "metadata": {},
   "outputs": [
    {
     "data": {
      "text/plain": [
       "229"
      ]
     },
     "execution_count": 37,
     "metadata": {},
     "output_type": "execute_result"
    }
   ],
   "source": [
    "rest_data.query('chain == True')['number'].max()"
   ]
  },
  {
   "cell_type": "code",
   "execution_count": 38,
   "metadata": {},
   "outputs": [
    {
     "data": {
      "text/plain": [
       "count    3676.000000\n",
       "mean       39.694233\n",
       "std        43.437212\n",
       "min         1.000000\n",
       "25%        13.000000\n",
       "50%        25.000000\n",
       "75%        44.000000\n",
       "max       229.000000\n",
       "Name: number, dtype: float64"
      ]
     },
     "execution_count": 38,
     "metadata": {},
     "output_type": "execute_result"
    }
   ],
   "source": [
    "rest_data.query('chain == True')['number'].describe()"
   ]
  },
  {
   "cell_type": "code",
   "execution_count": 39,
   "metadata": {},
   "outputs": [
    {
     "data": {
      "text/plain": [
       "count    203.000000\n",
       "mean      18.108374\n",
       "std       26.401097\n",
       "min        1.000000\n",
       "25%        2.000000\n",
       "50%        5.000000\n",
       "75%       10.000000\n",
       "max       99.000000\n",
       "Name: number, dtype: float64"
      ]
     },
     "execution_count": 39,
     "metadata": {},
     "output_type": "execute_result"
    }
   ],
   "source": [
    "rest_data.query('chain == True')['number'].value_counts().sort_values(ascending=False).describe()"
   ]
  },
  {
   "cell_type": "markdown",
   "metadata": {},
   "source": [
    "**Kesimpulan Sementara:**\n",
    "\n",
    "- Terdapat 203 jenis jumlah kursi yang berbeda di restoran waralaba\n",
    "- Mulai dari 1 sebagai jumlah minimum hingga 229 sebagai jumlah maksimum. Rata-rata, ada 39 kursi.\n",
    "- 25% dari restoran waralaba memiliki 13 kursi, 50% memiliki 25 kursi, dan 75% memiliki 44 kursi."
   ]
  },
  {
   "cell_type": "markdown",
   "metadata": {},
   "source": [
    "<div class=\"alert alert-success\">\n",
    "<b>Chamdani's comment v.1</b> <a class=\"tocSkip\"></a>\n",
    "\n",
    "Hebat, Kerja bagus!\n",
    "\n",
    "</div>"
   ]
  },
  {
   "cell_type": "code",
   "execution_count": 40,
   "metadata": {},
   "outputs": [],
   "source": [
    "seats_chain=rest_data.query('chain == True')['number']"
   ]
  },
  {
   "cell_type": "code",
   "execution_count": 41,
   "metadata": {},
   "outputs": [
    {
     "data": {
      "image/png": "[encoded data removed]",
      "text/plain": [
       "<Figure size 1080x360 with 1 Axes>"
      ]
     },
     "metadata": {
      "needs_background": "light"
     },
     "output_type": "display_data"
    }
   ],
   "source": [
    "plt.figure(figsize = (15,5))\n",
    "lst1 = seats_chain\n",
    "plt.grid(axis = 'y')\n",
    "sns.distplot(lst1,label = 'number of seats', color = \"#3B3024\")\n",
    "\n",
    "#plt.subplots_adjust(top=0.9)\n",
    "plt.suptitle('Jumlah kursi di berbagai jenis usaha (density)')\n",
    "plt.show()"
   ]
  },
  {
   "cell_type": "markdown",
   "metadata": {},
   "source": [
    "**Kesimpulan:**\n",
    "\n",
    "- Berdasarkan grafik, bahwa ada banyak perusahaan dengan jumlah kursi yang sedikit (di bawah 50 kursi) dan lebih sedikit perusahaan dengan banyak kursi."
   ]
  },
  {
   "cell_type": "markdown",
   "metadata": {},
   "source": [
    "<div class=\"alert alert-success\">\n",
    "<b>Chamdani's comment v.1</b> <a class=\"tocSkip\"></a>\n",
    "\n",
    "Hebat, Kerja bagus!\n",
    "\n",
    "</div>"
   ]
  },
  {
   "cell_type": "markdown",
   "metadata": {},
   "source": [
    "## 2.5. Jumlah rata-rata kursi untuk setiap jenis usaha"
   ]
  },
  {
   "cell_type": "markdown",
   "metadata": {},
   "source": [
    "Jenis usaha manakah yang memiliki jumlah kursi terbanyak?"
   ]
  },
  {
   "cell_type": "code",
   "execution_count": 42,
   "metadata": {},
   "outputs": [],
   "source": [
    "rest_seat = rest_data.groupby('object_type').agg(\n",
    "    {'id':'nunique','number':'mean'}).reset_index()\n",
    "rest_seat.columns = ['type','rest_count','avg_seat']\n",
    "rest_seat=rest_seat.sort_values('avg_seat', axis = 0, ascending = False)"
   ]
  },
  {
   "cell_type": "code",
   "execution_count": 43,
   "metadata": {},
   "outputs": [
    {
     "data": {
      "image/png": "[encoded data removed]",
      "text/plain": [
       "<Figure size 1080x576 with 1 Axes>"
      ]
     },
     "metadata": {
      "needs_background": "light"
     },
     "output_type": "display_data"
    }
   ],
   "source": [
    "fig,ax = plt.subplots(figsize = (15,8))\n",
    "\n",
    "ax.scatter(x = rest_seat.type,\n",
    "           y = rest_seat.avg_seat, \n",
    "           s = 200, color = 'black', \n",
    "           alpha = 0.7)\n",
    "sns.barplot(x = rest_seat.type, \n",
    "            y = rest_seat.rest_count, \n",
    "            color = '#A56E3F', \n",
    "            alpha = 0.7)\n",
    "plt.grid(axis = 'y')\n",
    "ax.set_title(\n",
    "    'Rata-rata Jumlah Kursi di Setiap Jenis Usaha', fontdict = {'size':15})\n",
    "ax.set_ylabel(\n",
    "    'Rata-rata Jumlah Kursi - red \\n Jumlah Waralaba - black', fontdict = {'size':14})\n",
    "ax.set_xticks(rest_seat.type)\n",
    "ax.set_xticklabels(\n",
    "    rest_seat.type,\n",
    "    rotation = 30,\n",
    "    fontdict = {'horizontalalignment':'right','size':14}\n",
    ")\n",
    "for row in rest_seat.itertuples():\n",
    "    ax.text(\n",
    "        row.type, row.avg_seat+30, \n",
    "        s = round(row.avg_seat, 2), \n",
    "        color = 'red',\n",
    "        fontdict = {'size':14}\n",
    "    ),\n",
    "    ax.text(\n",
    "        row.type, \n",
    "        row.rest_count+30, \n",
    "        s = round(row.rest_count, 0),\n",
    "        fontdict = {'size':14}\n",
    "    )"
   ]
  },
  {
   "cell_type": "markdown",
   "metadata": {},
   "source": [
    "**Kesimpulan:**\n",
    "\n",
    "- Menurut data, rata-rata jumlah kursi di berbagai jenis usaha di rumah makan (48), bar (44), fast-food (32), tempat pizza (28), kafe (25), dan toko roti (22)."
   ]
  },
  {
   "cell_type": "markdown",
   "metadata": {},
   "source": [
    "<div class=\"alert alert-success\">\n",
    "<b>Chamdani's comment v.1</b> <a class=\"tocSkip\"></a>\n",
    "\n",
    "Hebat, Kerja bagus!\n",
    "\n",
    "</div>"
   ]
  },
  {
   "cell_type": "markdown",
   "metadata": {},
   "source": [
    "## 2.6. Data nama jalan dari kolom address ke kolom terpisah."
   ]
  },
  {
   "cell_type": "code",
   "execution_count": 44,
   "metadata": {},
   "outputs": [
    {
     "data": {
      "text/html": [
       "<div>\n",
       "<style scoped>\n",
       "    .dataframe tbody tr th:only-of-type {\n",
       "        vertical-align: middle;\n",
       "    }\n",
       "\n",
       "    .dataframe tbody tr th {\n",
       "        vertical-align: top;\n",
       "    }\n",
       "\n",
       "    .dataframe thead th {\n",
       "        text-align: right;\n",
       "    }\n",
       "</style>\n",
       "<table border=\"1\" class=\"dataframe\">\n",
       "  <thead>\n",
       "    <tr style=\"text-align: right;\">\n",
       "      <th></th>\n",
       "      <th>id</th>\n",
       "      <th>object_name</th>\n",
       "      <th>chain</th>\n",
       "      <th>object_type</th>\n",
       "      <th>number</th>\n",
       "      <th>clean_street_final</th>\n",
       "      <th>address</th>\n",
       "      <th>street_raw</th>\n",
       "    </tr>\n",
       "  </thead>\n",
       "  <tbody>\n",
       "    <tr>\n",
       "      <th>0</th>\n",
       "      <td>11786</td>\n",
       "      <td>HABITAT COFFEE SHOP</td>\n",
       "      <td>False</td>\n",
       "      <td>Cafe</td>\n",
       "      <td>26</td>\n",
       "      <td>3708 ROCK, Los Angeles,USA</td>\n",
       "      <td>3708 N EAGLE ROCK BLVD</td>\n",
       "      <td>N EAGLE ROCK BLVD</td>\n",
       "    </tr>\n",
       "    <tr>\n",
       "      <th>1</th>\n",
       "      <td>11787</td>\n",
       "      <td>REILLY'S</td>\n",
       "      <td>False</td>\n",
       "      <td>Restaurant</td>\n",
       "      <td>9</td>\n",
       "      <td>100 WORLD, Los Angeles,USA</td>\n",
       "      <td>100 WORLD WAY # 120</td>\n",
       "      <td>WORLD WAY # 120</td>\n",
       "    </tr>\n",
       "    <tr>\n",
       "      <th>2</th>\n",
       "      <td>11788</td>\n",
       "      <td>STREET CHURROS</td>\n",
       "      <td>False</td>\n",
       "      <td>Fast Food</td>\n",
       "      <td>20</td>\n",
       "      <td>6801 HOLLYWOOD, Los Angeles,USA</td>\n",
       "      <td>6801 HOLLYWOOD BLVD # 253</td>\n",
       "      <td>HOLLYWOOD BLVD # 253</td>\n",
       "    </tr>\n",
       "    <tr>\n",
       "      <th>3</th>\n",
       "      <td>11789</td>\n",
       "      <td>TRINITI ECHO PARK</td>\n",
       "      <td>False</td>\n",
       "      <td>Restaurant</td>\n",
       "      <td>22</td>\n",
       "      <td>1814 SUNSET, Los Angeles,USA</td>\n",
       "      <td>1814 W SUNSET BLVD</td>\n",
       "      <td>W SUNSET BLVD</td>\n",
       "    </tr>\n",
       "    <tr>\n",
       "      <th>4</th>\n",
       "      <td>11790</td>\n",
       "      <td>POLLEN</td>\n",
       "      <td>False</td>\n",
       "      <td>Restaurant</td>\n",
       "      <td>20</td>\n",
       "      <td>2100 PARK, Los Angeles,USA</td>\n",
       "      <td>2100 ECHO PARK AVE</td>\n",
       "      <td>ECHO PARK AVE</td>\n",
       "    </tr>\n",
       "  </tbody>\n",
       "</table>\n",
       "</div>"
      ],
      "text/plain": [
       "      id          object_name  chain object_type  number  \\\n",
       "0  11786  HABITAT COFFEE SHOP  False        Cafe      26   \n",
       "1  11787             REILLY'S  False  Restaurant       9   \n",
       "2  11788       STREET CHURROS  False   Fast Food      20   \n",
       "3  11789    TRINITI ECHO PARK  False  Restaurant      22   \n",
       "4  11790               POLLEN  False  Restaurant      20   \n",
       "\n",
       "                clean_street_final                    address  \\\n",
       "0       3708 ROCK, Los Angeles,USA     3708 N EAGLE ROCK BLVD   \n",
       "1       100 WORLD, Los Angeles,USA        100 WORLD WAY # 120   \n",
       "2  6801 HOLLYWOOD, Los Angeles,USA  6801 HOLLYWOOD BLVD # 253   \n",
       "3     1814 SUNSET, Los Angeles,USA         1814 W SUNSET BLVD   \n",
       "4       2100 PARK, Los Angeles,USA         2100 ECHO PARK AVE   \n",
       "\n",
       "             street_raw  \n",
       "0     N EAGLE ROCK BLVD  \n",
       "1       WORLD WAY # 120  \n",
       "2  HOLLYWOOD BLVD # 253  \n",
       "3         W SUNSET BLVD  \n",
       "4         ECHO PARK AVE  "
      ]
     },
     "execution_count": 44,
     "metadata": {},
     "output_type": "execute_result"
    }
   ],
   "source": [
    "# Add column \"street_raw\" \n",
    "rest_data['street_number_raw'] = rest_data['address']\n",
    "rest_data[['street_number_raw','street_raw']] = rest_data['street_number_raw'].str.split(n = 1,expand = True)\n",
    "rest_data= rest_data[['id','object_name','chain','object_type','number','clean_street_final','address','street_raw']]\n",
    "rest_data.head()"
   ]
  },
  {
   "cell_type": "code",
   "execution_count": 45,
   "metadata": {},
   "outputs": [
    {
     "data": {
      "text/plain": [
       "74"
      ]
     },
     "execution_count": 45,
     "metadata": {},
     "output_type": "execute_result"
    }
   ],
   "source": [
    "rest_data.street_raw.value_counts().nunique()"
   ]
  },
  {
   "cell_type": "markdown",
   "metadata": {},
   "source": [
    "**Kesimpulan Sementara:**\n",
    "\n",
    "- Terdapat 74 nama jalan."
   ]
  },
  {
   "cell_type": "markdown",
   "metadata": {},
   "source": [
    "<div class=\"alert alert-success\">\n",
    "<b>Chamdani's comment v.1</b> <a class=\"tocSkip\"></a>\n",
    "\n",
    "Hebat, Kerja bagus!\n",
    "\n",
    "</div>"
   ]
  },
  {
   "cell_type": "code",
   "execution_count": 46,
   "metadata": {},
   "outputs": [
    {
     "data": {
      "text/html": [
       "<div>\n",
       "<style scoped>\n",
       "    .dataframe tbody tr th:only-of-type {\n",
       "        vertical-align: middle;\n",
       "    }\n",
       "\n",
       "    .dataframe tbody tr th {\n",
       "        vertical-align: top;\n",
       "    }\n",
       "\n",
       "    .dataframe thead th {\n",
       "        text-align: right;\n",
       "    }\n",
       "</style>\n",
       "<table border=\"1\" class=\"dataframe\">\n",
       "  <thead>\n",
       "    <tr style=\"text-align: right;\">\n",
       "      <th></th>\n",
       "      <th>id</th>\n",
       "      <th>object_name</th>\n",
       "      <th>chain</th>\n",
       "      <th>object_type</th>\n",
       "      <th>number</th>\n",
       "      <th>clean_street_final</th>\n",
       "      <th>address</th>\n",
       "      <th>street</th>\n",
       "      <th>street_raw</th>\n",
       "    </tr>\n",
       "  </thead>\n",
       "  <tbody>\n",
       "    <tr>\n",
       "      <th>0</th>\n",
       "      <td>11786</td>\n",
       "      <td>HABITAT COFFEE SHOP</td>\n",
       "      <td>False</td>\n",
       "      <td>Cafe</td>\n",
       "      <td>26</td>\n",
       "      <td>3708 ROCK, Los Angeles,USA</td>\n",
       "      <td>3708 N EAGLE ROCK BLVD</td>\n",
       "      <td>ROCK,</td>\n",
       "      <td>N EAGLE ROCK BLVD</td>\n",
       "    </tr>\n",
       "    <tr>\n",
       "      <th>1</th>\n",
       "      <td>11787</td>\n",
       "      <td>REILLY'S</td>\n",
       "      <td>False</td>\n",
       "      <td>Restaurant</td>\n",
       "      <td>9</td>\n",
       "      <td>100 WORLD, Los Angeles,USA</td>\n",
       "      <td>100 WORLD WAY # 120</td>\n",
       "      <td>WORLD,</td>\n",
       "      <td>WORLD WAY # 120</td>\n",
       "    </tr>\n",
       "    <tr>\n",
       "      <th>2</th>\n",
       "      <td>11788</td>\n",
       "      <td>STREET CHURROS</td>\n",
       "      <td>False</td>\n",
       "      <td>Fast Food</td>\n",
       "      <td>20</td>\n",
       "      <td>6801 HOLLYWOOD, Los Angeles,USA</td>\n",
       "      <td>6801 HOLLYWOOD BLVD # 253</td>\n",
       "      <td>HOLLYWOOD,</td>\n",
       "      <td>HOLLYWOOD BLVD # 253</td>\n",
       "    </tr>\n",
       "    <tr>\n",
       "      <th>3</th>\n",
       "      <td>11789</td>\n",
       "      <td>TRINITI ECHO PARK</td>\n",
       "      <td>False</td>\n",
       "      <td>Restaurant</td>\n",
       "      <td>22</td>\n",
       "      <td>1814 SUNSET, Los Angeles,USA</td>\n",
       "      <td>1814 W SUNSET BLVD</td>\n",
       "      <td>SUNSET,</td>\n",
       "      <td>W SUNSET BLVD</td>\n",
       "    </tr>\n",
       "    <tr>\n",
       "      <th>4</th>\n",
       "      <td>11790</td>\n",
       "      <td>POLLEN</td>\n",
       "      <td>False</td>\n",
       "      <td>Restaurant</td>\n",
       "      <td>20</td>\n",
       "      <td>2100 PARK, Los Angeles,USA</td>\n",
       "      <td>2100 ECHO PARK AVE</td>\n",
       "      <td>PARK,</td>\n",
       "      <td>ECHO PARK AVE</td>\n",
       "    </tr>\n",
       "  </tbody>\n",
       "</table>\n",
       "</div>"
      ],
      "text/plain": [
       "      id          object_name  chain object_type  number  \\\n",
       "0  11786  HABITAT COFFEE SHOP  False        Cafe      26   \n",
       "1  11787             REILLY'S  False  Restaurant       9   \n",
       "2  11788       STREET CHURROS  False   Fast Food      20   \n",
       "3  11789    TRINITI ECHO PARK  False  Restaurant      22   \n",
       "4  11790               POLLEN  False  Restaurant      20   \n",
       "\n",
       "                clean_street_final                    address      street  \\\n",
       "0       3708 ROCK, Los Angeles,USA     3708 N EAGLE ROCK BLVD       ROCK,   \n",
       "1       100 WORLD, Los Angeles,USA        100 WORLD WAY # 120      WORLD,   \n",
       "2  6801 HOLLYWOOD, Los Angeles,USA  6801 HOLLYWOOD BLVD # 253  HOLLYWOOD,   \n",
       "3     1814 SUNSET, Los Angeles,USA         1814 W SUNSET BLVD     SUNSET,   \n",
       "4       2100 PARK, Los Angeles,USA         2100 ECHO PARK AVE       PARK,   \n",
       "\n",
       "             street_raw  \n",
       "0     N EAGLE ROCK BLVD  \n",
       "1       WORLD WAY # 120  \n",
       "2  HOLLYWOOD BLVD # 253  \n",
       "3         W SUNSET BLVD  \n",
       "4         ECHO PARK AVE  "
      ]
     },
     "execution_count": 46,
     "metadata": {},
     "output_type": "execute_result"
    }
   ],
   "source": [
    "# Add column \"street\" based on the US address analysis\n",
    "rest_data['street_number'] = rest_data['clean_street_final']\n",
    "rest_data[['street_number','street']] = rest_data['street_number'].str.split(n = 1,expand = True)\n",
    "rest_data[['street','city']] = rest_data['street'].str.split(n = 1,expand = True)\n",
    "rest_data = rest_data[['id','object_name','chain','object_type','number','clean_street_final','address','street','street_raw']]\n",
    "rest_data.head()"
   ]
  },
  {
   "cell_type": "code",
   "execution_count": 47,
   "metadata": {},
   "outputs": [
    {
     "data": {
      "text/plain": [
       "85"
      ]
     },
     "execution_count": 47,
     "metadata": {},
     "output_type": "execute_result"
    }
   ],
   "source": [
    "rest_data.street.value_counts().nunique()"
   ]
  },
  {
   "cell_type": "markdown",
   "metadata": {},
   "source": [
    "**Kesimpulan Sementara:**\n",
    "\n",
    "- Terdapat 85 nama jalan berdasarkan analisis alamat US."
   ]
  },
  {
   "cell_type": "markdown",
   "metadata": {},
   "source": [
    "<div class=\"alert alert-success\">\n",
    "<b>Chamdani's comment v.1</b> <a class=\"tocSkip\"></a>\n",
    "\n",
    "Hebat, Kerja bagus!\n",
    "\n",
    "</div>"
   ]
  },
  {
   "cell_type": "markdown",
   "metadata": {},
   "source": [
    "## 2.7. Sepuluh nama jalan teratas berdasarkan jumlah usaha (tempat makan)."
   ]
  },
  {
   "cell_type": "code",
   "execution_count": 48,
   "metadata": {},
   "outputs": [
    {
     "data": {
      "text/html": [
       "<div>\n",
       "<style scoped>\n",
       "    .dataframe tbody tr th:only-of-type {\n",
       "        vertical-align: middle;\n",
       "    }\n",
       "\n",
       "    .dataframe tbody tr th {\n",
       "        vertical-align: top;\n",
       "    }\n",
       "\n",
       "    .dataframe thead th {\n",
       "        text-align: right;\n",
       "    }\n",
       "</style>\n",
       "<table border=\"1\" class=\"dataframe\">\n",
       "  <thead>\n",
       "    <tr style=\"text-align: right;\">\n",
       "      <th></th>\n",
       "      <th>street</th>\n",
       "      <th>id</th>\n",
       "    </tr>\n",
       "  </thead>\n",
       "  <tbody>\n",
       "    <tr>\n",
       "      <th>415</th>\n",
       "      <td>WILSHIRE,</td>\n",
       "      <td>319</td>\n",
       "    </tr>\n",
       "    <tr>\n",
       "      <th>370</th>\n",
       "      <td>SUNSET,</td>\n",
       "      <td>297</td>\n",
       "    </tr>\n",
       "    <tr>\n",
       "      <th>408</th>\n",
       "      <td>WESTERN,</td>\n",
       "      <td>292</td>\n",
       "    </tr>\n",
       "    <tr>\n",
       "      <th>320</th>\n",
       "      <td>PICO,</td>\n",
       "      <td>283</td>\n",
       "    </tr>\n",
       "    <tr>\n",
       "      <th>304</th>\n",
       "      <td>OLYMPIC,</td>\n",
       "      <td>257</td>\n",
       "    </tr>\n",
       "    <tr>\n",
       "      <th>168</th>\n",
       "      <td>FIGUEROA,</td>\n",
       "      <td>234</td>\n",
       "    </tr>\n",
       "    <tr>\n",
       "      <th>387</th>\n",
       "      <td>VERMONT,</td>\n",
       "      <td>218</td>\n",
       "    </tr>\n",
       "    <tr>\n",
       "      <th>20</th>\n",
       "      <td>3RD,</td>\n",
       "      <td>208</td>\n",
       "    </tr>\n",
       "    <tr>\n",
       "      <th>283</th>\n",
       "      <td>MONICA,</td>\n",
       "      <td>204</td>\n",
       "    </tr>\n",
       "    <tr>\n",
       "      <th>214</th>\n",
       "      <td>HOLLYWOOD,</td>\n",
       "      <td>197</td>\n",
       "    </tr>\n",
       "  </tbody>\n",
       "</table>\n",
       "</div>"
      ],
      "text/plain": [
       "         street   id\n",
       "415   WILSHIRE,  319\n",
       "370     SUNSET,  297\n",
       "408    WESTERN,  292\n",
       "320       PICO,  283\n",
       "304    OLYMPIC,  257\n",
       "168   FIGUEROA,  234\n",
       "387    VERMONT,  218\n",
       "20         3RD,  208\n",
       "283     MONICA,  204\n",
       "214  HOLLYWOOD,  197"
      ]
     },
     "execution_count": 48,
     "metadata": {},
     "output_type": "execute_result"
    }
   ],
   "source": [
    "rest_street = rest_data.query('object_type == \"Restaurant\"').groupby(['street']\n",
    "                               ).agg({'id':'nunique'}).reset_index().sort_values(by = 'id', ascending = False)\n",
    "rest_street.head(10)"
   ]
  },
  {
   "cell_type": "code",
   "execution_count": 49,
   "metadata": {},
   "outputs": [],
   "source": [
    "rest_street_raw = rest_data.query('object_type == \"Restaurant\"').groupby(['street_raw']\n",
    "                               ).agg({'id':'nunique'}).reset_index().sort_values(by = 'id', ascending = False)"
   ]
  },
  {
   "cell_type": "code",
   "execution_count": 50,
   "metadata": {},
   "outputs": [
    {
     "data": {
      "text/html": [
       "<div>\n",
       "<style scoped>\n",
       "    .dataframe tbody tr th:only-of-type {\n",
       "        vertical-align: middle;\n",
       "    }\n",
       "\n",
       "    .dataframe tbody tr th {\n",
       "        vertical-align: top;\n",
       "    }\n",
       "\n",
       "    .dataframe thead th {\n",
       "        text-align: right;\n",
       "    }\n",
       "</style>\n",
       "<table border=\"1\" class=\"dataframe\">\n",
       "  <thead>\n",
       "    <tr style=\"text-align: right;\">\n",
       "      <th></th>\n",
       "      <th>street</th>\n",
       "      <th>n_rest</th>\n",
       "    </tr>\n",
       "  </thead>\n",
       "  <tbody>\n",
       "    <tr>\n",
       "      <th>2133</th>\n",
       "      <td>W PICO BLVD</td>\n",
       "      <td>218</td>\n",
       "    </tr>\n",
       "    <tr>\n",
       "      <th>2184</th>\n",
       "      <td>W SUNSET BLVD</td>\n",
       "      <td>217</td>\n",
       "    </tr>\n",
       "    <tr>\n",
       "      <th>471</th>\n",
       "      <td>HOLLYWOOD BLVD</td>\n",
       "      <td>136</td>\n",
       "    </tr>\n",
       "    <tr>\n",
       "      <th>2302</th>\n",
       "      <td>WILSHIRE BLVD</td>\n",
       "      <td>131</td>\n",
       "    </tr>\n",
       "    <tr>\n",
       "      <th>1757</th>\n",
       "      <td>W 3RD ST</td>\n",
       "      <td>119</td>\n",
       "    </tr>\n",
       "    <tr>\n",
       "      <th>1550</th>\n",
       "      <td>SANTA MONICA BLVD</td>\n",
       "      <td>107</td>\n",
       "    </tr>\n",
       "    <tr>\n",
       "      <th>2058</th>\n",
       "      <td>W OLYMPIC BLVD</td>\n",
       "      <td>107</td>\n",
       "    </tr>\n",
       "    <tr>\n",
       "      <th>1379</th>\n",
       "      <td>S VERMONT AVE</td>\n",
       "      <td>107</td>\n",
       "    </tr>\n",
       "    <tr>\n",
       "      <th>613</th>\n",
       "      <td>MELROSE AVE</td>\n",
       "      <td>106</td>\n",
       "    </tr>\n",
       "    <tr>\n",
       "      <th>125</th>\n",
       "      <td>BEVERLY BLVD</td>\n",
       "      <td>103</td>\n",
       "    </tr>\n",
       "  </tbody>\n",
       "</table>\n",
       "</div>"
      ],
      "text/plain": [
       "                 street  n_rest\n",
       "2133        W PICO BLVD     218\n",
       "2184      W SUNSET BLVD     217\n",
       "471      HOLLYWOOD BLVD     136\n",
       "2302      WILSHIRE BLVD     131\n",
       "1757           W 3RD ST     119\n",
       "1550  SANTA MONICA BLVD     107\n",
       "2058     W OLYMPIC BLVD     107\n",
       "1379      S VERMONT AVE     107\n",
       "613         MELROSE AVE     106\n",
       "125        BEVERLY BLVD     103"
      ]
     },
     "execution_count": 50,
     "metadata": {},
     "output_type": "execute_result"
    }
   ],
   "source": [
    "rest_street_raw.columns = ['street','n_rest']\n",
    "raw_top10 = rest_street_raw.head(10)\n",
    "raw_top10"
   ]
  },
  {
   "cell_type": "code",
   "execution_count": 51,
   "metadata": {},
   "outputs": [],
   "source": [
    "rest_street.columns = ['street','n_rest']\n",
    "top10 = rest_street.head(10)"
   ]
  },
  {
   "cell_type": "code",
   "execution_count": 52,
   "metadata": {},
   "outputs": [
    {
     "data": {
      "image/png": "[encoded data removed]",
      "text/plain": [
       "<Figure size 1080x360 with 1 Axes>"
      ]
     },
     "metadata": {
      "needs_background": "light"
     },
     "output_type": "display_data"
    }
   ],
   "source": [
    "plt.figure(figsize = (15,5))\n",
    "plt.title('10 nama jalan teratas berdasarkan jumlah usaha (tempat makan)')\n",
    "y_pos = np.arange(len(top10.n_rest))\n",
    "plt.bar(y_pos, raw_top10.n_rest,\n",
    "        color = [\"#532F1C\", \"#4F3D32\", \"#A56E3F\", \"#7B5742\", \"#3B3024\", \"#6D4F38\", \"#4D4338\", \"#5D544A\", \"#6C645A\", \"#797269\"])\n",
    "plt.xticks(y_pos, raw_top10.street)\n",
    "plt.xticks(rotation = 30)\n",
    "plt.grid(axis = 'y')\n",
    "plt.show()"
   ]
  },
  {
   "cell_type": "markdown",
   "metadata": {},
   "source": [
    "**Kesimpulan:**\n",
    "\n",
    "- Berdasarkan data jalan teratas yaitu 3 boulevard yaitu West Pico, West Sunset, dan Hollywood dengan 218, 217 dan 136 restaurants secara berurutan."
   ]
  },
  {
   "cell_type": "markdown",
   "metadata": {},
   "source": [
    "<div class=\"alert alert-success\">\n",
    "<b>Chamdani's comment v.1</b> <a class=\"tocSkip\"></a>\n",
    "\n",
    "Hebat, Kerja bagus!\n",
    "\n",
    "</div>"
   ]
  },
  {
   "cell_type": "markdown",
   "metadata": {},
   "source": [
    "## 2.8. Jumlah jalan yang hanya memiliki satu usaha (tempat makan)"
   ]
  },
  {
   "cell_type": "code",
   "execution_count": 53,
   "metadata": {},
   "outputs": [
    {
     "data": {
      "text/plain": [
       "179"
      ]
     },
     "execution_count": 53,
     "metadata": {},
     "output_type": "execute_result"
    }
   ],
   "source": [
    "rest_street.query('n_rest == 1')['street'].nunique()"
   ]
  },
  {
   "cell_type": "markdown",
   "metadata": {},
   "source": [
    "**Kesimpulan:**\n",
    "\n",
    "- Berdasarkan data, terdapat 179 restoran (tempat makan) yang hanya memiliki 1 usaha disetiap jalan."
   ]
  },
  {
   "cell_type": "markdown",
   "metadata": {},
   "source": [
    "<div class=\"alert alert-success\">\n",
    "<b>Chamdani's comment v.1</b> <a class=\"tocSkip\"></a>\n",
    "\n",
    "Hebat, Kerja bagus!\n",
    "\n",
    "</div>"
   ]
  },
  {
   "cell_type": "markdown",
   "metadata": {},
   "source": [
    "## 2.9. Jalan yang dihuni oleh banyak usaha (tempat makan)"
   ]
  },
  {
   "cell_type": "code",
   "execution_count": 54,
   "metadata": {},
   "outputs": [
    {
     "data": {
      "text/html": [
       "<div>\n",
       "<style scoped>\n",
       "    .dataframe tbody tr th:only-of-type {\n",
       "        vertical-align: middle;\n",
       "    }\n",
       "\n",
       "    .dataframe tbody tr th {\n",
       "        vertical-align: top;\n",
       "    }\n",
       "\n",
       "    .dataframe thead th {\n",
       "        text-align: right;\n",
       "    }\n",
       "</style>\n",
       "<table border=\"1\" class=\"dataframe\">\n",
       "  <thead>\n",
       "    <tr style=\"text-align: right;\">\n",
       "      <th></th>\n",
       "      <th>street_raw</th>\n",
       "      <th>id</th>\n",
       "      <th>number</th>\n",
       "    </tr>\n",
       "  </thead>\n",
       "  <tbody>\n",
       "    <tr>\n",
       "      <th>2133</th>\n",
       "      <td>W PICO BLVD</td>\n",
       "      <td>218</td>\n",
       "      <td>45.215596</td>\n",
       "    </tr>\n",
       "    <tr>\n",
       "      <th>2184</th>\n",
       "      <td>W SUNSET BLVD</td>\n",
       "      <td>217</td>\n",
       "      <td>55.705069</td>\n",
       "    </tr>\n",
       "    <tr>\n",
       "      <th>471</th>\n",
       "      <td>HOLLYWOOD BLVD</td>\n",
       "      <td>136</td>\n",
       "      <td>58.441176</td>\n",
       "    </tr>\n",
       "    <tr>\n",
       "      <th>2302</th>\n",
       "      <td>WILSHIRE BLVD</td>\n",
       "      <td>131</td>\n",
       "      <td>67.068702</td>\n",
       "    </tr>\n",
       "    <tr>\n",
       "      <th>1757</th>\n",
       "      <td>W 3RD ST</td>\n",
       "      <td>119</td>\n",
       "      <td>47.655462</td>\n",
       "    </tr>\n",
       "    <tr>\n",
       "      <th>1550</th>\n",
       "      <td>SANTA MONICA BLVD</td>\n",
       "      <td>107</td>\n",
       "      <td>35.158879</td>\n",
       "    </tr>\n",
       "    <tr>\n",
       "      <th>2058</th>\n",
       "      <td>W OLYMPIC BLVD</td>\n",
       "      <td>107</td>\n",
       "      <td>59.644860</td>\n",
       "    </tr>\n",
       "    <tr>\n",
       "      <th>1379</th>\n",
       "      <td>S VERMONT AVE</td>\n",
       "      <td>107</td>\n",
       "      <td>47.841121</td>\n",
       "    </tr>\n",
       "    <tr>\n",
       "      <th>613</th>\n",
       "      <td>MELROSE AVE</td>\n",
       "      <td>106</td>\n",
       "      <td>55.216981</td>\n",
       "    </tr>\n",
       "    <tr>\n",
       "      <th>125</th>\n",
       "      <td>BEVERLY BLVD</td>\n",
       "      <td>103</td>\n",
       "      <td>51.873786</td>\n",
       "    </tr>\n",
       "  </tbody>\n",
       "</table>\n",
       "</div>"
      ],
      "text/plain": [
       "             street_raw   id     number\n",
       "2133        W PICO BLVD  218  45.215596\n",
       "2184      W SUNSET BLVD  217  55.705069\n",
       "471      HOLLYWOOD BLVD  136  58.441176\n",
       "2302      WILSHIRE BLVD  131  67.068702\n",
       "1757           W 3RD ST  119  47.655462\n",
       "1550  SANTA MONICA BLVD  107  35.158879\n",
       "2058     W OLYMPIC BLVD  107  59.644860\n",
       "1379      S VERMONT AVE  107  47.841121\n",
       "613         MELROSE AVE  106  55.216981\n",
       "125        BEVERLY BLVD  103  51.873786"
      ]
     },
     "execution_count": 54,
     "metadata": {},
     "output_type": "execute_result"
    }
   ],
   "source": [
    "rest_street_raw_seats = rest_data.query('object_type==\"Restaurant\"').groupby(['street_raw']\n",
    "                               ).agg({'id':'nunique', 'number':'mean'}).reset_index().sort_values(by ='id', ascending=False)\n",
    "rest_street_raw_seats.head(10)"
   ]
  },
  {
   "cell_type": "code",
   "execution_count": 55,
   "metadata": {},
   "outputs": [],
   "source": [
    "rest_street_raw_seats.columns = ['street','n_rest','avg_seats']\n",
    "top15 = rest_street_raw_seats.head(15)\n",
    "top15 = top15.sort_values(by = 'avg_seats', ascending = False)"
   ]
  },
  {
   "cell_type": "code",
   "execution_count": 56,
   "metadata": {},
   "outputs": [
    {
     "data": {
      "image/png": "[encoded data removed]",
      "text/plain": [
       "<Figure size 936x720 with 1 Axes>"
      ]
     },
     "metadata": {
      "needs_background": "light"
     },
     "output_type": "display_data"
    }
   ],
   "source": [
    "fig,ax = plt.subplots(figsize = (13,10))\n",
    "\n",
    "ax.scatter(x = top15.street,\n",
    "           y = top15.avg_seats, \n",
    "           s = 50, color = 'black', \n",
    "           alpha = 0.8)\n",
    "\n",
    "sns.barplot(x = top15.street, \n",
    "            y = top15.n_rest, \n",
    "            color = '#532F1C', \n",
    "            alpha = 0.4)\n",
    "\n",
    "ax.set_title(\n",
    "    'Rata-rata jumlah kursi di jalan dengan restoran terbanyak', fontdict = {'size':15})\n",
    "ax.set_ylabel(\n",
    "    'Rata-rata jumlah kursi - green (dot) \\n Jumlah restoran - blue (bar)', fontdict = {'size':14})\n",
    "ax.set_xticks(top15.street)\n",
    "ax.set_xticklabels(\n",
    "    top15.street,\n",
    "    rotation = 30,\n",
    "    fontdict = {'horizontalalignment':'right','size':14}\n",
    ")\n",
    "for row in top15.itertuples():\n",
    "    ax.text(\n",
    "        row.street, row.avg_seats, \n",
    "        s = round(row.avg_seats), \n",
    "        color = 'green',\n",
    "        fontdict = {'size':14}\n",
    "    ),\n",
    "    ax.text(\n",
    "        row.street, \n",
    "        row.n_rest, \n",
    "        s = round(row.n_rest),\n",
    "        fontdict = {'size':14}\n",
    "    )"
   ]
  },
  {
   "cell_type": "markdown",
   "metadata": {},
   "source": [
    "**Kesimpulan:**\n",
    "\n",
    "- Berdasarkan data dari 15 jalan dengan restoran terbanyak, rata-rata tertinggi jumlah kursi yaitu di jalan Wilshire boulevards (67), Westwood boulevard (61), dan W Olympic boulevard (60)."
   ]
  },
  {
   "cell_type": "markdown",
   "metadata": {},
   "source": [
    "<div class=\"alert alert-success\">\n",
    "<b>Chamdani's comment v.1</b> <a class=\"tocSkip\"></a>\n",
    "\n",
    "Hebat, Kerja bagus!\n",
    "\n",
    "</div>"
   ]
  },
  {
   "cell_type": "markdown",
   "metadata": {},
   "source": [
    "## Kesimpulan Umum"
   ]
  },
  {
   "cell_type": "markdown",
   "metadata": {},
   "source": [
    "**A. Pra-pemrosesan Data**"
   ]
  },
  {
   "cell_type": "markdown",
   "metadata": {},
   "source": [
    "Dari eksplorasi pra-pemrosesan data, dapat disimpulkan bahwa:\n",
    "\n",
    "- enyangkut data terkait jenis usaha tempat makan di LA. Missing value hanya terdapat 3 data dan dapat diisi dengan nilai False karena setelah diteliti bukan merupakan toko waralaba. Apabila ada kesalahanpun tidak akan mempengaruhi keseluruhan data secara impact.\n",
    "- Duplikat data tidak ditemukan.\n",
    "- Untuk mempermudah analisis data, dilakukan import alamat US. Kemudian dibuat fungsi untuk mendekonstruksi jalan sehingga didapatkan nama dan nomor jalan untuk mendapatkan alamat yang bersih.\n"
   ]
  },
  {
   "cell_type": "markdown",
   "metadata": {},
   "source": [
    "**B. Analisis Data Esksploratif (EDA)**"
   ]
  },
  {
   "cell_type": "markdown",
   "metadata": {},
   "source": [
    "Dari hasil analisis data esksploratif, dapat disimpulkan bahwa:\n",
    "\n",
    "1. Secara proporsi dari berbagai jenis usaha, 75% adalah restoran, 11% adalah makanan cepat saji, 5% adalah kafe, dan 3% adalah toko roti, bar, dan tempat pizza.\n",
    "2. Proporsi dari berbagai jenis usaha, usaha tempat makan nonwaralaba memiliki tingkat tertinggi (83%). Sedangkan tempat makan waralaba yaitu 62%. Kafe waralaba sebanyak 7% dan nonwaralaba 3%. Insight yang menarik adalah toko roti dengan memiliki 8% toko waralaba dan 0% nonwaralaba. Artinya tidak ada toko roti nonwaralaba.\n",
    "3. Jenis usaha yang berbasis waralaba diketahui sebanyak 63% restoran, fast-food (16%), toko roti (8%) dan kafe (7%).\n",
    "4. Karakteristik jenis usaha waralaba diketahui terdapat 203 jenis jumlah kursi disetiap rumah makan waralaba. Ada jenis usaha yang hanya memiliki 1 kursi hingga 229 kursi. Rata-rata jenis usaha memiliki 39 kursi. 25% dari restoran waralaba memiliki 13 kursi, 50% memiliki 25 kursi dan 75% memiliki 44 kursi.\n",
    "5. Data menunjukkan bahwa banyak rumah makan memiliki jumlah kursi yang sedikit yaitu dibawah 50 kursi. Hanya sedikit tempat yang memiliki banyak kursi.\n",
    "6. Rata-rata jumlah kursi di berbagai jenis usaha di rumah makan (48), bar (44), fast-food (32), tempat pizza (28), kafe (25), dan toko roti (22).\n",
    "7. Terdapat 85 nama jalan unik berdasarkan analisis alamat AS.\n",
    "8. Menurut data, top 10 jalan dengan jumlah restoran terbanyak yaitu dipegang oleh 4 di jalan boulevard yaitu West Pico, West Sunset, Hollywood, dan Wilshire dengan 218, 217, 136 dan 131 restaurants secara berurutan.\n",
    "9. Terdapat 179 jalan yang hanya memiliki 1 rumah makan. Dengan mengabaikan nama awalan jalan.\n",
    "10. Di antara 20 jalan dengan jumlah restoran terbanyak, rata-rata jumlah kursi terbanyak ada di jalan Wilshire boulevards (67), Westwood boulevard (61), dan W Olympic boulevard (60)."
   ]
  },
  {
   "cell_type": "markdown",
   "metadata": {},
   "source": [
    "**Rekomendasi**"
   ]
  },
  {
   "cell_type": "markdown",
   "metadata": {},
   "source": [
    "- Berdasarkan data yang telah di analisis, rekomendasi tentang jenis usaha kafe masih sedikit dibandingkan rumah makan. Jenis usaha nonwaralaba tertinggi yaitu rumah makan jika dibandingkan dengan rumah makan waralaba, namun berbanding terbalik dengan kafe yaitu waralaba lebih banyak dari nonwaralaba.\n",
    "\n",
    "- Untuk jumlah kursinya, rata-rata jenis usaha memiliki jumlah kursi 39 kursi dengan data mean sebanyak 25 kursi. Sedangkan apabila dihitung kafe saja, rata-rata sebanyak 25 kursi.\n",
    "\n",
    "- Untuk penempatan kafe, diketahui dalam data bahwa lokasi yang dihuni oleh banyak usaha yaitu di jalan boulevard. Jika dilihat dari jumlah kursi W Pico memiliki rata-rata jumlah kursi yang sedikit namun memiliki jumlah restoran tertinggi. Hal ini dapat mengindikasikan peluang bagi jenis usaha waralaba yang untuk membuka cabang baru di jalan tersebut, dengan memperhatikan kebutuhan tempat duduk yang belum terpenuhi. Namun dengan jalan seperti di Westwood, jalan tersebut memiliki sedikit jenis usaha dengan jumlah kursi yang lebih tinggi, mungkin menunjukkan kurangnya variasi pilihan bagi konsumen. Dalam hal ini, potensi untuk membuka jenis usaha waralaba baru mungkin lebih tinggi, terutama jika jenis usaha tersebut dapat memberikan variasi produk atau layanan yang belum ada di jalan tersebut. Seperti kafe dengan pelayan robot.\n",
    "\n",
    "- Namun, penting juga untuk melihat faktor-faktor lain yang dapat memengaruhi potensi bisnis, seperti populasi target, demografi, dan faktor-faktor lain yang spesifik untuk wilayah tersebut. Selain itu, penting untuk melakukan analisis pasar yang lebih mendalam dengan mengumpulkan data tentang preferensi konsumen, kompetisi di daerah sekitar, dan tren bisnis terkini.\n",
    "\n",
    "Kami menyiapkan presentasi yang menggabungkan poin-poin terpenting yang muncul dari riset pasar kami. Slide dapat diakses dari tautan di bawah ini."
   ]
  },
  {
   "cell_type": "markdown",
   "metadata": {},
   "source": [
    "<div class=\"alert alert-success\">\n",
    "<b>Chamdani's comment v.1</b> <a class=\"tocSkip\"></a>\n",
    "\n",
    "Hebat, Kerja bagus!\n",
    "\n",
    "</div>"
   ]
  },
  {
   "cell_type": "markdown",
   "metadata": {},
   "source": [
    "Presentation : https://drive.google.com/file/d/1M6jw9Od6wwY7FSNEVm2KdG7IQpIR29j9/view?usp=drive_link"
   ]
  },
  {
   "cell_type": "markdown",
   "metadata": {},
   "source": [
    "<div class=\"alert alert-success\">\n",
    "<b>Chamdani's comment v.1</b> <a class=\"tocSkip\"></a>\n",
    "\n",
    "Hebat, Kerja bagus!\n",
    "\n",
    "</div>"
   ]
  },
  {
   "cell_type": "code",
   "execution_count": null,
   "metadata": {},
   "outputs": [],
   "source": []
  },
  {
   "cell_type": "code",
   "execution_count": null,
   "metadata": {},
   "outputs": [],
   "source": []
  }
 ],
 "metadata": {
  "kernelspec": {
   "display_name": "Python 3 (ipykernel)",
   "language": "python",
   "name": "python3"
  },
  "language_info": {
   "codemirror_mode": {
    "name": "ipython",
    "version": 3
   },
   "file_extension": ".py",
   "mimetype": "text/x-python",
   "name": "python",
   "nbconvert_exporter": "python",
   "pygments_lexer": "ipython3",
   "version": "3.9.19"
  },
  "toc": {
   "base_numbering": 1,
   "nav_menu": {},
   "number_sections": true,
   "sideBar": true,
   "skip_h1_title": true,
   "title_cell": "Table of Contents",
   "title_sidebar": "Contents",
   "toc_cell": false,
   "toc_position": {},
   "toc_section_display": true,
   "toc_window_display": true
  }
 },
 "nbformat": 4,
 "nbformat_minor": 2
}
