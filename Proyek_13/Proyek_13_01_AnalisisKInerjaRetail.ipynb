{
 "cells": [
  {
   "cell_type": "markdown",
   "metadata": {},
   "source": [
    "<div style=\"border:solid black 2px; padding: 20px\"><h1 style=\"color:black; margin-bottom:20px\">Reviewer's comment v1</h1>\n",
    "Halo Arie !\n",
    "\n",
    "Perkenalkan saya disini sebagai Code Reviewers, disini dengan senang hati saya akan mereview tugas Arie ya.\n",
    "\n",
    "Saya akan memberikan beberapa komen seperti dibawah ini, tolong jangan dipindah, dirubah, maupun dihapus ya.\n",
    "\n",
    "Komen yang saya berikan akan muncul dalam warna hijau, kuning, atau pun merah seperti ini:\n",
    "\n",
    "<div class=\"alert alert-success\">\n",
    "<b>Code Reviewers's comment v.1</b> <a class=\"tocSkip\"></a>\n",
    "\n",
    "Bagus, code yang dijalankan sudah sesuai dengan instruksi dari project.\n",
    "\n",
    "</div>\n",
    "\n",
    "<div class=\"alert alert-warning\">\n",
    "<b>Code Reviewers's comment v.1</b> <a class=\"tocSkip\"></a>\n",
    "\n",
    "Terdapat beberapa catatan.\n",
    "\n",
    "</div>\n",
    "\n",
    "<div class=\"alert alert-danger\">\n",
    "<b>Code Reviewers's comment v.1</b> <a class=\"tocSkip\"></a>\n",
    "\n",
    "Perlu beberapa perbaikan\n",
    "\n",
    "</div>\n",
    "\n",
    "Dan tentu saja Arie dapat menjawab saya dengan menggunakan ini\n",
    "\n",
    "<div class=\"alert alert-block alert-info\">\n",
    "<b>Student answer.</b> <a class=\"tocSkip\"></a>\n",
    "    \n",
    "Baik kak\n",
    "</div>"
   ]
  },
  {
   "cell_type": "markdown",
   "metadata": {},
   "source": [
    "# Analisis Kinerja Ritel dan Program Loyalitas"
   ]
  },
  {
   "cell_type": "markdown",
   "metadata": {},
   "source": [
    "Dalam proyek ini kami bekerja sebagai analis junior di pengecer bahan bangunan bernama Home World. Manajer Proyek ingin mengevaluasi hasil pengenalan program loyalitas dan merumuskan metrik kinerja untuk outlet penjualan dan menganalisis kinerjanya. Hasil akhirnya ditujukan kepada pelanggan sehingga penting untuk memahami apakah hal ini benar-benar menghasilkan pertumbuhan yang diharapkan dalam ukuran pembelian rata-rata dan jumlah item dalam keranjang dan juga untuk memahami toko mana dalam rantai besar yang memerlukan dukungan."
   ]
  },
  {
   "cell_type": "markdown",
   "metadata": {},
   "source": [
    "## Deskripsi Proyek :"
   ]
  },
  {
   "cell_type": "markdown",
   "metadata": {},
   "source": [
    "Kumpulan dataset berisi data pembelian yang dilakukan di pengecer bahan bangunan Home World. Semua pelanggannya memiliki kartu anggota. Selain itu, mereka dapat menjadi anggota program loyalitas toko dengan biaya $20 per bulan. Program ini mencakup diskon, informasi penawaran khusus, dan hadiah."
   ]
  },
  {
   "cell_type": "markdown",
   "metadata": {},
   "source": [
    "Terdapat dua dataset yang disediakan, yaitu 'retail_dataset_us.csv' dan 'product_codes_us.csv'."
   ]
  },
  {
   "cell_type": "markdown",
   "metadata": {},
   "source": [
    "retail_dataset_us.csv berisi :\n",
    "- purchaseId — customer purchase ID.\n",
    "- item_ID - product ID.\n",
    "- purchasedate - customer purchase date.\n",
    "- Quantity — jumlah barang dalam pembelian.\n",
    "- CustomerID - customer account ID.\n",
    "- ShopID - shop ID.\n",
    "- loyalty_program — apakah pelanggan adalah anggota program loyalitas.\n",
    "\n",
    "product_codes_us.csv berisi :\n",
    "- productID - customer product ID.\n",
    "- price_per_one - product cost per one.\n"
   ]
  },
  {
   "cell_type": "markdown",
   "metadata": {},
   "source": [
    "## Step Perencanaan"
   ]
  },
  {
   "cell_type": "markdown",
   "metadata": {},
   "source": [
    "### Step 1 : Buka file data dan mempelajari informasi umum\n"
   ]
  },
  {
   "cell_type": "markdown",
   "metadata": {},
   "source": [
    "### Step 2 : Memproses data \n",
    "\n",
    "Kami akan memeriksa data lebih detail untuk mengonversinya ke tipe yang diperlukan, mengganti nama kolom, dan menemukan nilai yang hilang. Temukan duplikat dan hilangkan kesalahan dalam data."
   ]
  },
  {
   "cell_type": "markdown",
   "metadata": {},
   "source": [
    "### Step 3 : Exploratory Data Analysis (EDA)"
   ]
  },
  {
   "cell_type": "markdown",
   "metadata": {},
   "source": [
    "- Investigasi Periode\n",
    "- Jumlah dan pangsa anggota dan non-anggota program loyalitas\n",
    "- Pembagian ukuran cek untuk kedua kelompok\n",
    "- Total penjualan untuk kedua grup\n",
    "- Jumlah pembelian menurut tahun\n",
    "- Jumlah pembelian berdasarkan storeID\n",
    "- Cohort analysis\n",
    "    - Tanggal pembelian pertama\n",
    "    - Berapa banyak pembelian yang dilakukan dalam sehari, minggu dan bulan?\n",
    "    - Berapa banyak pembelian yang dilakukan per pelanggan?\n",
    "    - Produk apa yang paling banyak dibeli pelanggan?\n",
    "    - Tanggal bergabung dengan program loyalitas\n",
    "    - Jumlah pembeli menurut kelompok seumur hidup untuk anggota dan non-anggota\n",
    "    - Jumlah pembelian per pelanggan berdasarkan kelompok seumur hidup untuk anggota dan non-anggota\n",
    "    - Ukuran pembelian rata-rata berdasarkan kelompok seumur hidup untuk anggota dan non-anggota\n",
    "    - Ukuran kelompok awal dan total pendapatan menurut kelompok untuk anggota dan non-anggota (untuk menghitung LTV)\n",
    "\n",
    "Membuat grafik yang menampilkan perbedaan metrik tersebut."
   ]
  },
  {
   "cell_type": "markdown",
   "metadata": {},
   "source": [
    "### Step 4 : Uji Hipotesting\n",
    "\n",
    "- Temukan hipotesis untuk pengujian\n",
    "- Penjelasan pengaturan dan tes yang akan digunakan\n",
    "- Merumuskan hipotesis nol dan hipotesis alternatif\n",
    "- Melaksanakan pengujian\n",
    "- Uraian Hasil pengujian"
   ]
  },
  {
   "cell_type": "markdown",
   "metadata": {},
   "source": [
    "### Step 5 : Kesimpulan\n",
    "\n",
    "- Sebuah presentasi\n",
    "- Dashboard\n",
    "- Rekomendasi dasar untuk bekerja dengan pelanggan"
   ]
  },
  {
   "cell_type": "markdown",
   "metadata": {},
   "source": [
    "<div class=\"alert alert-success\">\n",
    "<b>Code Reviewers's comment v.1</b> <a class=\"tocSkip\"></a>\n",
    "\n",
    "Bagus, code yang dijalankan sudah sesuai dengan instruksi dari project.\n",
    "\n",
    "</div>"
   ]
  },
  {
   "cell_type": "code",
   "execution_count": null,
   "metadata": {},
   "outputs": [],
   "source": [
    "                                                    "
   ]
  }
 ],
 "metadata": {
  "kernelspec": {
   "display_name": "Python 3 (ipykernel)",
   "language": "python",
   "name": "python3"
  },
  "language_info": {
   "codemirror_mode": {
    "name": "ipython",
    "version": 3
   },
   "file_extension": ".py",
   "mimetype": "text/x-python",
   "name": "python",
   "nbconvert_exporter": "python",
   "pygments_lexer": "ipython3",
   "version": "3.9.19"
  },
  "toc": {
   "base_numbering": 1,
   "nav_menu": {},
   "number_sections": true,
   "sideBar": true,
   "skip_h1_title": true,
   "title_cell": "Table of Contents",
   "title_sidebar": "Contents",
   "toc_cell": false,
   "toc_position": {},
   "toc_section_display": true,
   "toc_window_display": false
  }
 },
 "nbformat": 4,
 "nbformat_minor": 2
}
