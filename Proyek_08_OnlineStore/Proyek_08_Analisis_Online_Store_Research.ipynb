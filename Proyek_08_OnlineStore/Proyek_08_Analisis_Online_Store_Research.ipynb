{
 "cells": [
  {
   "cell_type": "markdown",
   "metadata": {},
   "source": [
    "<div style=\"border:solid black 2px; padding: 20px\">\n",
    "\n",
    "# Reviewer's feedback v.1\n",
    "\n",
    "**Halo Arie**\n",
    "    \n",
    "**Greetings from Chamdani**\n",
    "\n",
    "Terima kasih telah mengirimkan project kamu dengan ini kamu sudah memulai sebuah langkah yang luar biasa saat ini. Disini saya akan mereview proyek kamu ya.\n",
    "\n",
    "Saya akan memberikan beberapa komentar dan feedback seperti dibawah ini, **mohon jangan dipindah, dirubah, maupun dihapus ya :).**\n",
    "    \n",
    "> Mohon diperhatikan bahwa apabila ada temuan atau kesalahan yang sama namun tidak ada komentar perbaikan disana, itu berarti kamu masih tetap harus memperbaikinya yaa.\n",
    "\n",
    "Komentar yang saya berikan akan muncul dalam warna hijau, kuning, atau pun merah seperti ini:\n",
    "\n",
    "</div>\n",
    "\n",
    "<div class=\"alert alert-success\">\n",
    "<b>Chamdani's comment v.*</b> <a class=\"tocSkip\"></a>\n",
    "\n",
    "Bagus, semua berjalan lancar.\n",
    "\n",
    "</div>\n",
    "\n",
    "<div class=\"alert alert-warning\">\n",
    "<b>Chamdani's comment v.*</b> <a class=\"tocSkip\"></a>\n",
    "\n",
    "Ada beberapa catatan.\n",
    "\n",
    "</div>\n",
    "\n",
    "<div class=\"alert alert-danger\">\n",
    "<b>Chamdani's comment v.*</b> <a class=\"tocSkip\"></a>\n",
    "\n",
    "Perlu beberapa perbaikan.\n",
    "\n",
    "</div>\n",
    "\n",
    "<div class=\"alert alert-info\">\n",
    "<b>Chamdani's info v.1</b> <a class=\"tocSkip\"></a>\n",
    "\n",
    "Catatan umum:\n",
    "* Fungsi `print` tidak diperlukan untuk mencetak suatu nilai\n",
    "* Lebih baik tulis kode pada bagian akhir cell code untuk menampilkan output tanpa `print`\n",
    "* Perintah soal yang ada dalam tanda kurung siku `[...]` sebaiknya dihilangkan\n",
    "* Sangat disarankan untuk menggunakan cell markdown untuk memberikan deskripsi temuan atau kesimpulan.\n",
    "* Tidak disarankan menggunakan cell code untuk memberikan penjelasan / deskripsi.\n",
    "* Untuk menghindari galat pada notebook project kamu. Batasi jumlah output yang dikeluarkan setiap kode dengan batas max 10 baris data.\n",
    "\n",
    "</div>\n",
    "\n",
    "<div style=\"border:solid gray 5px; padding: 20px\" class=\"alert alert-warning\">\n",
    "\n",
    "**INGATLAH** \n",
    "* Project kamu tidak akan bisa diterima bila kamu masih memiliki feedback berwarna merah. \n",
    "* Kamu hanya memiliki 3 kali kesempatan iterasi submission disetiap projectnya \n",
    "* Jika merasa kesulitan kamu dapat menuliskan responmu atas feedback saya menggunakan blok markdown warna biru dan kamu bisa mengirimkan project pada submission selanjutnya untuk mendapatkan jawaban / respon dari saya segera yaa\n",
    "\n",
    "Kamu dapat menjawab saya dengan menggunakan blok berwarna biru seperti ini\n",
    "\n",
    "<div class=\"alert alert-info\">\n",
    "<b>Student answer</b> <a class=\"tocSkip\"></a>\n",
    "\n",
    "Siap kak.\n",
    "\n",
    "</div>"
   ]
  },
  {
   "cell_type": "markdown",
   "metadata": {},
   "source": [
    "<div style=\"border:solid black 2px; padding: 20px\" class=\"alert alert-success\">\n",
    "    \n",
    "# General feedback v.1 *Project Accepted*\n",
    "\n",
    "Terima kasih banyak telah mengirimkan proyek Anda! \n",
    "<br>\n",
    "    \n",
    "Secara keseluruhan, proyek Anda **SANGAT** mengesankan. Semoga apa yang kamu pelajari dalam project ini dapat membantu meningkatkan kemampuanmu. Pertahankan apa yang sudah bagus, dan tingkatkan apa yang menurutmu masih perlu ditingkatkan. Semoga berhasil pada project selanjutnya yaa :)\n",
    "\n",
    "**TETAP SEMANGAT!!**\n",
    "    \n",
    "</div>"
   ]
  },
  {
   "cell_type": "markdown",
   "metadata": {},
   "source": [
    "# Analisis Online Store Research"
   ]
  },
  {
   "cell_type": "markdown",
   "metadata": {},
   "source": [
    "Kami adalah seorang analis di sebuah toko online besar. Kami bersama tim pemasaran telah menyusun daftar hipotesis untuk membantu meningkatkan pendapatan."
   ]
  },
  {
   "cell_type": "markdown",
   "metadata": {},
   "source": [
    "## Tujuan"
   ]
  },
  {
   "cell_type": "markdown",
   "metadata": {},
   "source": [
    "Proyek ini berfokus pada pengambilan keputusan bisnis berdasarkan data Online Store. Data dilakukan pre-processing untuk membersihkan dan merapihkan data agar dapat diolah. Selanjutnya data di olah hipotesisnya lalu menjalankan A/B testing, dan menganalisis hasilnya.\n",
    "\n",
    "Dalam proyek ini akan melalui tahapan sebagai berikut :\n",
    "\n",
    "- 1. Pra Pemrosesan Data\n",
    "- 1.1. Membuat Data\n",
    "- 1.2. Menganalisis Data Hipotesis\n",
    "- 1.2.1. Framework ICE\n",
    "- 1.2.2. Framework RICE\n",
    "- 1.2.3. ICE VS RICE : Perubahan dalam Memprioritaskan Hipotesis\n",
    "- 1.3. Menganalisis Data Hasil A/B Testing\n",
    "- 1.3.1. Data Preprocessing & Computing cumulative & relative metrics\n",
    "- 1.3.2. Outlier analysis in orders & prices\n",
    "- 1.3.3. Statistical significance of the difference in performance between groups\n",
    "- KESIMPULAN UMUM\n"
   ]
  },
  {
   "cell_type": "markdown",
   "metadata": {},
   "source": [
    "<div class=\"alert alert-success\">\n",
    "<b>Chamdani's comment v.1</b> <a class=\"tocSkip\"></a>\n",
    "\n",
    "Hebat, Kerja bagus!\n",
    "\n",
    "</div>"
   ]
  },
  {
   "cell_type": "markdown",
   "metadata": {},
   "source": [
    "## 1. Pra-Pemrosesan Data"
   ]
  },
  {
   "cell_type": "code",
   "execution_count": 1,
   "metadata": {},
   "outputs": [],
   "source": [
    "# Import library\n",
    "import pandas as pd\n",
    "import matplotlib.pyplot as plt\n",
    "import seaborn as sns\n",
    "import numpy as np\n",
    "from scipy import stats as st\n",
    "\n",
    "from datetime import date, timedelta\n",
    "import datetime as dt\n",
    "\n",
    "import warnings\n",
    "warnings.filterwarnings('ignore')\n",
    "from IPython.display import Markdown, display"
   ]
  },
  {
   "cell_type": "code",
   "execution_count": 2,
   "metadata": {},
   "outputs": [],
   "source": [
    "# Menentukan fungsi printmd() untuk mencetak kode dengan warna biru.\n",
    "def printmd(string, color=None):\n",
    "    colorstr = \"<span style='color:{}'>{}</span>\".format(color, string)\n",
    "    display(Markdown(colorstr))"
   ]
  },
  {
   "cell_type": "markdown",
   "metadata": {},
   "source": [
    "<div class=\"alert alert-success\">\n",
    "<b>Chamdani's comment v.1</b> <a class=\"tocSkip\"></a>\n",
    "\n",
    "Hebat, Kerja bagus!\n",
    "\n",
    "</div>"
   ]
  },
  {
   "cell_type": "markdown",
   "metadata": {},
   "source": [
    "## 1.1. Memuat Data"
   ]
  },
  {
   "cell_type": "markdown",
   "metadata": {},
   "source": [
    "**a. Data yang digunakan pada bagian pertama proyek**"
   ]
  },
  {
   "cell_type": "code",
   "execution_count": 3,
   "metadata": {},
   "outputs": [],
   "source": [
    "hipotesis = pd.read_csv('https://practicum-content.s3.us-west-1.amazonaws.com/datasets/hypotheses_us.csv', sep=';')"
   ]
  },
  {
   "cell_type": "markdown",
   "metadata": {},
   "source": [
    "**b. Data yang digunakan pada bagian kedua proyek**"
   ]
  },
  {
   "cell_type": "code",
   "execution_count": 4,
   "metadata": {},
   "outputs": [],
   "source": [
    "orders = pd.read_csv('https://practicum-content.s3.us-west-1.amazonaws.com/datasets/orders_us.csv')\n",
    "visits = pd.read_csv('https://practicum-content.s3.us-west-1.amazonaws.com/datasets/visits_us.csv')"
   ]
  },
  {
   "cell_type": "markdown",
   "metadata": {},
   "source": [
    "<div class=\"alert alert-success\">\n",
    "<b>Chamdani's comment v.1</b> <a class=\"tocSkip\"></a>\n",
    "\n",
    "Hebat, Kerja bagus!\n",
    "\n",
    "</div>"
   ]
  },
  {
   "cell_type": "markdown",
   "metadata": {},
   "source": [
    "## 1.2. Menganalisis Data Hipotesis"
   ]
  },
  {
   "cell_type": "code",
   "execution_count": 5,
   "metadata": {},
   "outputs": [
    {
     "data": {
      "text/html": [
       "<div>\n",
       "<style scoped>\n",
       "    .dataframe tbody tr th:only-of-type {\n",
       "        vertical-align: middle;\n",
       "    }\n",
       "\n",
       "    .dataframe tbody tr th {\n",
       "        vertical-align: top;\n",
       "    }\n",
       "\n",
       "    .dataframe thead th {\n",
       "        text-align: right;\n",
       "    }\n",
       "</style>\n",
       "<table border=\"1\" class=\"dataframe\">\n",
       "  <thead>\n",
       "    <tr style=\"text-align: right;\">\n",
       "      <th></th>\n",
       "      <th>Hypothesis</th>\n",
       "      <th>Reach</th>\n",
       "      <th>Impact</th>\n",
       "      <th>Confidence</th>\n",
       "      <th>Effort</th>\n",
       "    </tr>\n",
       "  </thead>\n",
       "  <tbody>\n",
       "    <tr>\n",
       "      <th>0</th>\n",
       "      <td>Add two new channels for attracting traffic. T...</td>\n",
       "      <td>3</td>\n",
       "      <td>10</td>\n",
       "      <td>8</td>\n",
       "      <td>6</td>\n",
       "    </tr>\n",
       "    <tr>\n",
       "      <th>1</th>\n",
       "      <td>Launch your own delivery service. This will sh...</td>\n",
       "      <td>2</td>\n",
       "      <td>5</td>\n",
       "      <td>4</td>\n",
       "      <td>10</td>\n",
       "    </tr>\n",
       "    <tr>\n",
       "      <th>2</th>\n",
       "      <td>Add product recommendation blocks to the store...</td>\n",
       "      <td>8</td>\n",
       "      <td>3</td>\n",
       "      <td>7</td>\n",
       "      <td>3</td>\n",
       "    </tr>\n",
       "    <tr>\n",
       "      <th>3</th>\n",
       "      <td>Change the category structure. This will incre...</td>\n",
       "      <td>8</td>\n",
       "      <td>3</td>\n",
       "      <td>3</td>\n",
       "      <td>8</td>\n",
       "    </tr>\n",
       "    <tr>\n",
       "      <th>4</th>\n",
       "      <td>Change the background color on the main page. ...</td>\n",
       "      <td>3</td>\n",
       "      <td>1</td>\n",
       "      <td>1</td>\n",
       "      <td>1</td>\n",
       "    </tr>\n",
       "    <tr>\n",
       "      <th>5</th>\n",
       "      <td>Add a customer review page. This will increase...</td>\n",
       "      <td>3</td>\n",
       "      <td>2</td>\n",
       "      <td>2</td>\n",
       "      <td>3</td>\n",
       "    </tr>\n",
       "    <tr>\n",
       "      <th>6</th>\n",
       "      <td>Show banners with current offers and sales on ...</td>\n",
       "      <td>5</td>\n",
       "      <td>3</td>\n",
       "      <td>8</td>\n",
       "      <td>3</td>\n",
       "    </tr>\n",
       "    <tr>\n",
       "      <th>7</th>\n",
       "      <td>Add a subscription form to all the main pages....</td>\n",
       "      <td>10</td>\n",
       "      <td>7</td>\n",
       "      <td>8</td>\n",
       "      <td>5</td>\n",
       "    </tr>\n",
       "    <tr>\n",
       "      <th>8</th>\n",
       "      <td>Launch a promotion that gives users discounts ...</td>\n",
       "      <td>1</td>\n",
       "      <td>9</td>\n",
       "      <td>9</td>\n",
       "      <td>5</td>\n",
       "    </tr>\n",
       "  </tbody>\n",
       "</table>\n",
       "</div>"
      ],
      "text/plain": [
       "                                          Hypothesis  Reach  Impact  \\\n",
       "0  Add two new channels for attracting traffic. T...      3      10   \n",
       "1  Launch your own delivery service. This will sh...      2       5   \n",
       "2  Add product recommendation blocks to the store...      8       3   \n",
       "3  Change the category structure. This will incre...      8       3   \n",
       "4  Change the background color on the main page. ...      3       1   \n",
       "5  Add a customer review page. This will increase...      3       2   \n",
       "6  Show banners with current offers and sales on ...      5       3   \n",
       "7  Add a subscription form to all the main pages....     10       7   \n",
       "8  Launch a promotion that gives users discounts ...      1       9   \n",
       "\n",
       "   Confidence  Effort  \n",
       "0           8       6  \n",
       "1           4      10  \n",
       "2           7       3  \n",
       "3           3       8  \n",
       "4           1       1  \n",
       "5           2       3  \n",
       "6           8       3  \n",
       "7           8       5  \n",
       "8           9       5  "
      ]
     },
     "execution_count": 5,
     "metadata": {},
     "output_type": "execute_result"
    }
   ],
   "source": [
    "hipotesis"
   ]
  },
  {
   "cell_type": "markdown",
   "metadata": {},
   "source": [
    "**Deskripsi data:**\n",
    "\n",
    "- Hypothesis — deskripsi singkat tentang hipotesis\n",
    "- Reach — jangkauan pengguna, dalam skala satu hingga sepuluh\n",
    "- Impact — dampak terhadap pengguna, dalam skala satu hingga sepuluh\n",
    "- Confidence — keyakinan pada hipotesis, dalam skala satu sampai sepuluh\n",
    "- Effort — sumber daya yang diperlukan untuk menguji hipotesis, dalam skala satu sampai sepuluh. Semakin tinggi nilai Effort, semakin intensif sumber daya pengujiannya."
   ]
  },
  {
   "cell_type": "markdown",
   "metadata": {},
   "source": [
    "<div class=\"alert alert-success\">\n",
    "<b>Chamdani's comment v.1</b> <a class=\"tocSkip\"></a>\n",
    "\n",
    "Hebat, Kerja bagus!\n",
    "\n",
    "</div>"
   ]
  },
  {
   "cell_type": "code",
   "execution_count": 6,
   "metadata": {},
   "outputs": [
    {
     "name": "stdout",
     "output_type": "stream",
     "text": [
      "<class 'pandas.core.frame.DataFrame'>\n",
      "RangeIndex: 9 entries, 0 to 8\n",
      "Data columns (total 5 columns):\n",
      " #   Column      Non-Null Count  Dtype \n",
      "---  ------      --------------  ----- \n",
      " 0   Hypothesis  9 non-null      object\n",
      " 1   Reach       9 non-null      int64 \n",
      " 2   Impact      9 non-null      int64 \n",
      " 3   Confidence  9 non-null      int64 \n",
      " 4   Effort      9 non-null      int64 \n",
      "dtypes: int64(4), object(1)\n",
      "memory usage: 488.0+ bytes\n"
     ]
    }
   ],
   "source": [
    "# Check data info\n",
    "hipotesis.info()"
   ]
  },
  {
   "cell_type": "code",
   "execution_count": 7,
   "metadata": {},
   "outputs": [
    {
     "data": {
      "text/plain": [
       "Hypothesis    0\n",
       "Reach         0\n",
       "Impact        0\n",
       "Confidence    0\n",
       "Effort        0\n",
       "dtype: int64"
      ]
     },
     "execution_count": 7,
     "metadata": {},
     "output_type": "execute_result"
    }
   ],
   "source": [
    "# Check total nilai yang hilang secara menurun\n",
    "hipotesis.isna().sum().sort_values(ascending=False)"
   ]
  },
  {
   "cell_type": "code",
   "execution_count": 8,
   "metadata": {},
   "outputs": [
    {
     "data": {
      "text/plain": [
       "0"
      ]
     },
     "execution_count": 8,
     "metadata": {},
     "output_type": "execute_result"
    }
   ],
   "source": [
    "# Check data duplikat\n",
    "hipotesis.duplicated().sum()"
   ]
  },
  {
   "cell_type": "markdown",
   "metadata": {},
   "source": [
    "**Kesimpulan Sementara:**\n",
    "\n",
    "- Nama kolom tidak huruf kecil. Namun tidak masalah.\n",
    "- Tidak terdapat nilai yang hilang dan tidak ada data duplikat."
   ]
  },
  {
   "cell_type": "markdown",
   "metadata": {},
   "source": [
    "<div class=\"alert alert-success\">\n",
    "<b>Chamdani's comment v.1</b> <a class=\"tocSkip\"></a>\n",
    "\n",
    "Hebat, Kerja bagus!\n",
    "\n",
    "</div>"
   ]
  },
  {
   "cell_type": "code",
   "execution_count": 9,
   "metadata": {},
   "outputs": [
    {
     "name": "stdout",
     "output_type": "stream",
     "text": [
      "Index(['hypothesis', 'reach', 'impact', 'confidence', 'effort'], dtype='object')\n"
     ]
    }
   ],
   "source": [
    "# Mengubah kolom menjadi huruf kecil.\n",
    "hipotesis.columns = hipotesis.columns.str.lower()\n",
    "print(hipotesis.columns)"
   ]
  },
  {
   "cell_type": "code",
   "execution_count": 10,
   "metadata": {},
   "outputs": [
    {
     "data": {
      "text/markdown": [
       "<span style='color:blue'>Deskripsi Hipotesis:</span>"
      ],
      "text/plain": [
       "<IPython.core.display.Markdown object>"
      ]
     },
     "metadata": {},
     "output_type": "display_data"
    },
    {
     "name": "stdout",
     "output_type": "stream",
     "text": [
      "Add two new channels for attracting traffic. This will bring 30% more users.\n",
      "\n",
      "Launch your own delivery service. This will shorten delivery time.\n",
      "\n",
      "Add product recommendation blocks to the store's site. This will increase conversion and average purchase size.\n",
      "\n",
      "Change the category structure. This will increase conversion since users will find the products they want more quickly.\n",
      "\n",
      "Change the background color on the main page. This will increase user engagement.\n",
      "\n",
      "Add a customer review page. This will increase the number of orders.\n",
      "\n",
      "Show banners with current offers and sales on the main page. This will boost conversion.\n",
      "\n",
      "Add a subscription form to all the main pages. This will help you compile a mailing list.\n",
      "\n",
      "Launch a promotion that gives users discounts on their birthdays.\n",
      "\n"
     ]
    }
   ],
   "source": [
    "printmd(\"Deskripsi Hipotesis:\", color='blue')\n",
    "\n",
    "for i in range(9):\n",
    "    print(\"{}.\".format(hipotesis['hypothesis'].iloc[i]))\n",
    "    print()"
   ]
  },
  {
   "cell_type": "markdown",
   "metadata": {},
   "source": [
    "<div class=\"alert alert-success\">\n",
    "<b>Chamdani's comment v.1</b> <a class=\"tocSkip\"></a>\n",
    "\n",
    "Hebat, Kerja bagus!\n",
    "\n",
    "</div>"
   ]
  },
  {
   "cell_type": "markdown",
   "metadata": {},
   "source": [
    "Hipotesis tidak terbaca dengan full karena keterbatasan tampilan. Untuk mempermudah analisa, hipotesis akan diubah menjadi angka."
   ]
  },
  {
   "cell_type": "code",
   "execution_count": 11,
   "metadata": {},
   "outputs": [],
   "source": [
    "# Membuat dictionary kosong dengan kunci bilangan bulat dari 1 hingga 9\n",
    "hyp_dict= dict.fromkeys(range(1, 10))"
   ]
  },
  {
   "cell_type": "code",
   "execution_count": 12,
   "metadata": {},
   "outputs": [],
   "source": [
    "# Mengisi nilai dictionary values dengan deskripsi melalui for loop\n",
    "for i in range(9):\n",
    "   hyp_dict[i+1] = hipotesis['hypothesis'].iloc[i]"
   ]
  },
  {
   "cell_type": "code",
   "execution_count": 13,
   "metadata": {},
   "outputs": [
    {
     "name": "stdout",
     "output_type": "stream",
     "text": [
      "<class 'pandas.core.frame.DataFrame'>\n",
      "RangeIndex: 9 entries, 0 to 8\n",
      "Data columns (total 5 columns):\n",
      " #   Column      Non-Null Count  Dtype\n",
      "---  ------      --------------  -----\n",
      " 0   hypothesis  9 non-null      int64\n",
      " 1   reach       9 non-null      int64\n",
      " 2   impact      9 non-null      int64\n",
      " 3   confidence  9 non-null      int64\n",
      " 4   effort      9 non-null      int64\n",
      "dtypes: int64(5)\n",
      "memory usage: 488.0 bytes\n"
     ]
    }
   ],
   "source": [
    "# Mengubah isi kolom hipotesis menjadi nilai numerik\n",
    "# Menggunakan indeks kerangka data. Tipe data akan disimpulkan secara otomatis.\n",
    "hipotesis['hypothesis'] = hipotesis.index + 1\n",
    "\n",
    "hipotesis.info()"
   ]
  },
  {
   "cell_type": "markdown",
   "metadata": {},
   "source": [
    "## 1.2.1 Framework ICE"
   ]
  },
  {
   "cell_type": "markdown",
   "metadata": {},
   "source": [
    "Menerapkan framework Impact (dampak), confidence (keyakinan), effort (usaha)/ease (kemudahan), atau disingkat ICE, merupakan salah satu metode paling populer yang digunakan untuk memprioritaskan masalah."
   ]
  },
  {
   "cell_type": "markdown",
   "metadata": {},
   "source": [
    "**Kesimpulan Sementara:**\n",
    "\n",
    "- Hasil ICE memilih hipotesis 9, 1, 8, 7 dan 3 sebagai hipotesis paling menjanjikan."
   ]
  },
  {
   "cell_type": "markdown",
   "metadata": {},
   "source": [
    "<div class=\"alert alert-success\">\n",
    "<b>Chamdani's comment v.1</b> <a class=\"tocSkip\"></a>\n",
    "\n",
    "Hebat, Kerja bagus!\n",
    "\n",
    "</div>"
   ]
  },
  {
   "cell_type": "markdown",
   "metadata": {},
   "source": [
    "## 1.2.2 Framework RICE"
   ]
  },
  {
   "cell_type": "markdown",
   "metadata": {},
   "source": [
    "Menerapkan framework Reach (Jangkauan), Impact (dampak), confidence (keyakinan), effort (usaha)/ease (kemudahan), atau disingkat RICE, merupakan salah satu metode modifikasi ICE yang digunakan untuk memprioritaskan masalah."
   ]
  },
  {
   "cell_type": "code",
   "execution_count": 14,
   "metadata": {},
   "outputs": [
    {
     "name": "stdout",
     "output_type": "stream",
     "text": [
      "   hypothesis   RICE\n",
      "0           8  112.0\n",
      "1           3   56.0\n",
      "2           1   40.0\n",
      "3           7   40.0\n",
      "4           9   16.2\n",
      "5           4    9.0\n",
      "6           2    4.0\n",
      "7           6    4.0\n",
      "8           5    3.0\n"
     ]
    }
   ],
   "source": [
    "hipotesis['RICE'] = (hipotesis['reach']*hipotesis['impact']*hipotesis['confidence'])/hipotesis['effort']\n",
    "print(hipotesis[['hypothesis','RICE']].sort_values(by='RICE', ascending=False).reset_index(drop=True))"
   ]
  },
  {
   "cell_type": "markdown",
   "metadata": {},
   "source": [
    "**Kesimpulan Sementara:**\n",
    "\n",
    "- Hasil RICE memilih hipotesis 8, 3, 1, 7 dan 9 sebagai hipotesis paling menjanjikan."
   ]
  },
  {
   "cell_type": "markdown",
   "metadata": {},
   "source": [
    "<div class=\"alert alert-success\">\n",
    "<b>Chamdani's comment v.1</b> <a class=\"tocSkip\"></a>\n",
    "\n",
    "Hebat, Kerja bagus!\n",
    "\n",
    "</div>"
   ]
  },
  {
   "cell_type": "markdown",
   "metadata": {},
   "source": [
    "## 1.2.3 ICE VS RICE: Perubahan dalam Memprioritaskan Hipotesis"
   ]
  },
  {
   "cell_type": "code",
   "execution_count": 15,
   "metadata": {},
   "outputs": [
    {
     "data": {
      "image/png": "[encoded data removed]",
      "text/plain": [
       "<Figure size 720x432 with 1 Axes>"
      ]
     },
     "metadata": {
      "needs_background": "light"
     },
     "output_type": "display_data"
    }
   ],
   "source": [
    "if 'ICE' not in hipotesis.columns:\n",
    "    hipotesis['ICE'] = (hipotesis['impact'] * hipotesis['confidence']) / hipotesis['effort']\n",
    "plt.figure(figsize=(10, 6))\n",
    "plt.scatter(hipotesis['hypothesis'], hipotesis['ICE'], s=75, label='ICE score')\n",
    "plt.scatter(hipotesis['hypothesis'], hipotesis['RICE'], alpha= 0.6, s=75, label='RICE score')\n",
    "plt.title('ICE vs RICE Scores for The A/B Test Hypotheses', fontsize=18)\n",
    "plt.xlabel('Hypothesis id', fontsize=16)\n",
    "plt.ylabel('Score', fontsize=16)\n",
    "plt.xticks(fontsize=16)\n",
    "plt.yticks(fontsize=16)\n",
    "plt.grid()\n",
    "plt.legend(fontsize=16)\n",
    "plt.show()"
   ]
  },
  {
   "cell_type": "markdown",
   "metadata": {},
   "source": [
    "**Kesimpulan Sementara:**\n",
    "\n",
    "- Ketika membandingkan skor yang diperoleh dari kedua framework, kami melihat bahwa daftar lima hipotesis yang paling menjanjikan masih terdiri dari hipotesis 9, 1, 8, 7, dan 3. Namun, peringkat hipotesis ini berubah secara signifikan antara ICE dan RICE.\n",
    "\n",
    "- Untuk mengidentifikasi hipotesis yang paling menjanjikan, kami menghitung skor ICE dan RICE dari setiap hipotesis, mengurutkannya dari yang tertinggi hingga terendah, dan juga membandingkan skor yang dihasilkan dari kedua framework tersebut. Karena skor dari kedua framework ini hanya berbeda dengan faktor perkalian yang menilai jangkauan setiap hipotesis, maka skor hipotesis dengan faktor jangkauan yang lebih tinggi terdongkrak jauh lebih tinggi. Hasilnya, meskipun peringkat 5 hipotesis teratas tidak berubah di kedua kerangka kerja, peringkat dan skor relatif dari 5 hipotesis teratas berubah secara signifikan."
   ]
  },
  {
   "cell_type": "markdown",
   "metadata": {},
   "source": [
    "<div class=\"alert alert-success\">\n",
    "<b>Chamdani's comment v.1</b> <a class=\"tocSkip\"></a>\n",
    "\n",
    "Hebat, Kerja bagus!\n",
    "\n",
    "</div>"
   ]
  },
  {
   "cell_type": "markdown",
   "metadata": {},
   "source": [
    "## 1.3. Menganalisis Data Hasil A/B Testing"
   ]
  },
  {
   "cell_type": "code",
   "execution_count": 16,
   "metadata": {},
   "outputs": [
    {
     "name": "stdout",
     "output_type": "stream",
     "text": [
      "      transactionId   visitorId        date  revenue group\n",
      "0        3667963787  3312258926  2019-08-15     30.4     B\n",
      "1        2804400009  3642806036  2019-08-15     15.2     B\n",
      "2        2961555356  4069496402  2019-08-15     10.2     A\n",
      "3        3797467345  1196621759  2019-08-15    155.1     B\n",
      "4        2282983706  2322279887  2019-08-15     40.5     B\n",
      "...             ...         ...         ...      ...   ...\n",
      "1192     2662137336  3733762160  2019-08-14    100.8     B\n",
      "1193     2203539145   370388673  2019-08-14     50.1     A\n",
      "1194     1807773912   573423106  2019-08-14    165.3     A\n",
      "1195     1947021204  1614305549  2019-08-14      5.5     A\n",
      "1196     3936777065  2108080724  2019-08-15   3120.1     B\n",
      "\n",
      "[1197 rows x 5 columns]\n",
      "          date group  visits\n",
      "0   2019-08-01     A     719\n",
      "1   2019-08-02     A     619\n",
      "2   2019-08-03     A     507\n",
      "3   2019-08-04     A     717\n",
      "4   2019-08-05     A     756\n",
      "..         ...   ...     ...\n",
      "57  2019-08-27     B     720\n",
      "58  2019-08-28     B     654\n",
      "59  2019-08-29     B     531\n",
      "60  2019-08-30     B     490\n",
      "61  2019-08-31     B     718\n",
      "\n",
      "[62 rows x 3 columns]\n"
     ]
    }
   ],
   "source": [
    "print(orders)\n",
    "print(visits)"
   ]
  },
  {
   "cell_type": "markdown",
   "metadata": {},
   "source": [
    "**Deskripsi data Orders:**\n",
    "\n",
    "- transactionId — ID pesanan\n",
    "- visitorId — ID pengguna yang membuat pesanan\n",
    "- date — tanggal dibuatnya pesanan\n",
    "- revenue — pendapatan dari pesanan\n",
    "- group — kelompok uji (test group) A/B tempat pengguna berada"
   ]
  },
  {
   "cell_type": "markdown",
   "metadata": {},
   "source": [
    "<div class=\"alert alert-success\">\n",
    "<b>Chamdani's comment v.1</b> <a class=\"tocSkip\"></a>\n",
    "\n",
    "Hebat, Kerja bagus!\n",
    "\n",
    "</div>"
   ]
  },
  {
   "cell_type": "code",
   "execution_count": 17,
   "metadata": {},
   "outputs": [
    {
     "name": "stdout",
     "output_type": "stream",
     "text": [
      "<class 'pandas.core.frame.DataFrame'>\n",
      "RangeIndex: 1197 entries, 0 to 1196\n",
      "Data columns (total 5 columns):\n",
      " #   Column         Non-Null Count  Dtype  \n",
      "---  ------         --------------  -----  \n",
      " 0   transactionId  1197 non-null   int64  \n",
      " 1   visitorId      1197 non-null   int64  \n",
      " 2   date           1197 non-null   object \n",
      " 3   revenue        1197 non-null   float64\n",
      " 4   group          1197 non-null   object \n",
      "dtypes: float64(1), int64(2), object(2)\n",
      "memory usage: 46.9+ KB\n"
     ]
    }
   ],
   "source": [
    "# Check data info\n",
    "orders.info()"
   ]
  },
  {
   "cell_type": "code",
   "execution_count": 18,
   "metadata": {},
   "outputs": [
    {
     "data": {
      "text/plain": [
       "transactionId    0\n",
       "visitorId        0\n",
       "date             0\n",
       "revenue          0\n",
       "group            0\n",
       "dtype: int64"
      ]
     },
     "execution_count": 18,
     "metadata": {},
     "output_type": "execute_result"
    }
   ],
   "source": [
    "# Check total nilai yang hilang secara menurun\n",
    "orders.isna().sum().sort_values(ascending=False)"
   ]
  },
  {
   "cell_type": "code",
   "execution_count": 19,
   "metadata": {},
   "outputs": [
    {
     "data": {
      "text/plain": [
       "0"
      ]
     },
     "execution_count": 19,
     "metadata": {},
     "output_type": "execute_result"
    }
   ],
   "source": [
    "# Check data duplikat\n",
    "orders.duplicated().sum()"
   ]
  },
  {
   "cell_type": "markdown",
   "metadata": {},
   "source": [
    "**Kesimpulan Sementara:**\n",
    "\n",
    "- date harus diubah menjadi datetime\n",
    "\n",
    "**Deskripsi data Visits:**\n",
    "\n",
    "- date — tanggal\n",
    "- group — kelompok uji (test group) A/B\n",
    "- visits — jumlah kunjungan pada tanggal yang ditentukan untuk kelompok uji A/B yang ditentukan"
   ]
  },
  {
   "cell_type": "markdown",
   "metadata": {},
   "source": [
    "<div class=\"alert alert-success\">\n",
    "<b>Chamdani's comment v.1</b> <a class=\"tocSkip\"></a>\n",
    "\n",
    "Hebat, Kerja bagus!\n",
    "\n",
    "</div>"
   ]
  },
  {
   "cell_type": "code",
   "execution_count": 20,
   "metadata": {},
   "outputs": [
    {
     "name": "stdout",
     "output_type": "stream",
     "text": [
      "<class 'pandas.core.frame.DataFrame'>\n",
      "RangeIndex: 1197 entries, 0 to 1196\n",
      "Data columns (total 5 columns):\n",
      " #   Column         Non-Null Count  Dtype  \n",
      "---  ------         --------------  -----  \n",
      " 0   transactionId  1197 non-null   int64  \n",
      " 1   visitorId      1197 non-null   int64  \n",
      " 2   date           1197 non-null   object \n",
      " 3   revenue        1197 non-null   float64\n",
      " 4   group          1197 non-null   object \n",
      "dtypes: float64(1), int64(2), object(2)\n",
      "memory usage: 46.9+ KB\n"
     ]
    }
   ],
   "source": [
    "# Check data info\n",
    "orders.info()"
   ]
  },
  {
   "cell_type": "code",
   "execution_count": 21,
   "metadata": {},
   "outputs": [
    {
     "data": {
      "text/plain": [
       "date      0\n",
       "group     0\n",
       "visits    0\n",
       "dtype: int64"
      ]
     },
     "execution_count": 21,
     "metadata": {},
     "output_type": "execute_result"
    }
   ],
   "source": [
    "# Check total nilai yang hilang secara menurun\n",
    "visits.isna().sum().sort_values(ascending=False)"
   ]
  },
  {
   "cell_type": "code",
   "execution_count": 22,
   "metadata": {},
   "outputs": [
    {
     "data": {
      "text/plain": [
       "0"
      ]
     },
     "execution_count": 22,
     "metadata": {},
     "output_type": "execute_result"
    }
   ],
   "source": [
    "# Check data data duplikat\n",
    "visits.duplicated().sum()"
   ]
  },
  {
   "cell_type": "markdown",
   "metadata": {},
   "source": [
    "**Kesimpulan Sementara:**\n",
    "\n",
    "- date harus diubah menjadi datetime"
   ]
  },
  {
   "cell_type": "markdown",
   "metadata": {},
   "source": [
    "<div class=\"alert alert-success\">\n",
    "<b>Chamdani's comment v.1</b> <a class=\"tocSkip\"></a>\n",
    "\n",
    "Hebat, Kerja bagus!\n",
    "\n",
    "</div>"
   ]
  },
  {
   "cell_type": "code",
   "execution_count": 23,
   "metadata": {},
   "outputs": [
    {
     "name": "stdout",
     "output_type": "stream",
     "text": [
      "   transactionId   visitorId       date  revenue group\n",
      "0     3667963787  3312258926 2019-08-15     30.4     B\n",
      "1     2804400009  3642806036 2019-08-15     15.2     B\n",
      "2     2961555356  4069496402 2019-08-15     10.2     A\n",
      "3     3797467345  1196621759 2019-08-15    155.1     B\n",
      "4     2282983706  2322279887 2019-08-15     40.5     B\n",
      "        date group  visits\n",
      "0 2019-08-01     A     719\n",
      "1 2019-08-02     A     619\n",
      "2 2019-08-03     A     507\n",
      "3 2019-08-04     A     717\n",
      "4 2019-08-05     A     756\n"
     ]
    }
   ],
   "source": [
    "orders['date'] = orders['date'].map(\n",
    "    lambda x: dt.datetime.strptime(x, '%Y-%m-%d')\n",
    ")\n",
    "\n",
    "visits['date'] = visits['date'].map(\n",
    "    lambda x: dt.datetime.strptime(x, '%Y-%m-%d')\n",
    ")\n",
    "\n",
    "print(orders.head(5))\n",
    "print(visits.head(5))"
   ]
  },
  {
   "cell_type": "markdown",
   "metadata": {},
   "source": [
    "## 1.3.1 Data Preprocessing & Computing cumulative and relative metrics"
   ]
  },
  {
   "cell_type": "markdown",
   "metadata": {},
   "source": [
    "**a. Pendapatan kumulatif berdasarkan kelompok.**"
   ]
  },
  {
   "cell_type": "code",
   "execution_count": 24,
   "metadata": {},
   "outputs": [],
   "source": [
    "datesGroups = orders[['date','group']].drop_duplicates()"
   ]
  },
  {
   "cell_type": "code",
   "execution_count": 25,
   "metadata": {},
   "outputs": [],
   "source": [
    "ordersAggregated = datesGroups.apply(\n",
    "    lambda x: orders[\n",
    "        np.logical_and(\n",
    "            orders['date'] <= x['date'], orders['group'] == x['group']\n",
    "        )\n",
    "    ].agg(\n",
    "        {\n",
    "            'date': 'max',\n",
    "            'group': 'max',\n",
    "            'transactionId': pd.Series.nunique,\n",
    "            'visitorId': pd.Series.nunique,\n",
    "            'revenue': 'sum',\n",
    "        }\n",
    "    ),\n",
    "    axis=1,\n",
    ").sort_values(by=['date', 'group'])"
   ]
  },
  {
   "cell_type": "code",
   "execution_count": 26,
   "metadata": {},
   "outputs": [],
   "source": [
    "visitsAggregated = datesGroups.apply(\n",
    "    lambda x: visits[\n",
    "        np.logical_and(\n",
    "            visits['date'] <= x['date'], visits['group'] == x['group']\n",
    "        )\n",
    "    ].agg({'date': 'max', 'group': 'max', 'visits': 'sum'}),\n",
    "    axis=1,\n",
    ").sort_values(by=['date', 'group'])"
   ]
  },
  {
   "cell_type": "code",
   "execution_count": 27,
   "metadata": {},
   "outputs": [
    {
     "name": "stdout",
     "output_type": "stream",
     "text": [
      "        date group  orders  buyers  revenue  visitors\n",
      "0 2019-08-01     A      24      20   2356.8       719\n",
      "1 2019-08-01     B      21      20   1620.0       713\n",
      "2 2019-08-02     A      44      38   3860.3      1338\n",
      "3 2019-08-02     B      45      43   4243.8      1294\n",
      "4 2019-08-03     A      68      62   5675.5      1845\n"
     ]
    }
   ],
   "source": [
    "cumulativeData = ordersAggregated.merge(\n",
    "    visitsAggregated, left_on=['date', 'group'], right_on=['date', 'group']\n",
    ")\n",
    "cumulativeData.columns = [\n",
    "    'date',\n",
    "    'group',\n",
    "    'orders',\n",
    "    'buyers',\n",
    "    'revenue',\n",
    "    'visitors',\n",
    "]\n",
    "\n",
    "print(cumulativeData.head(5))"
   ]
  },
  {
   "cell_type": "markdown",
   "metadata": {},
   "source": [
    "<div class=\"alert alert-success\">\n",
    "<b>Chamdani's comment v.1</b> <a class=\"tocSkip\"></a>\n",
    "\n",
    "Hebat, Kerja bagus!\n",
    "\n",
    "</div>"
   ]
  },
  {
   "cell_type": "code",
   "execution_count": 28,
   "metadata": {},
   "outputs": [],
   "source": [
    "cumulativeRevenueA = cumulativeData[cumulativeData['group'] == 'A'][\n",
    "    ['date', 'revenue', 'orders']\n",
    "]\n",
    "cumulativeRevenueB = cumulativeData[cumulativeData['group'] == 'B'][\n",
    "    ['date', 'revenue', 'orders']\n",
    "]"
   ]
  },
  {
   "cell_type": "code",
   "execution_count": 29,
   "metadata": {},
   "outputs": [
    {
     "data": {
      "image/png": "[encoded data removed]",
      "text/plain": [
       "<Figure size 936x432 with 1 Axes>"
      ]
     },
     "metadata": {
      "needs_background": "light"
     },
     "output_type": "display_data"
    }
   ],
   "source": [
    "plt.figure(figsize=(13, 6))\n",
    "plt.plot(cumulativeRevenueA['date'], cumulativeRevenueA['revenue'], label='A')\n",
    "plt.plot(cumulativeRevenueB['date'], cumulativeRevenueB['revenue'], label='B')\n",
    "plt.title('Cumulative Revenue by A/B Test Group')\n",
    "plt.grid()\n",
    "plt.legend(fontsize=16)\n",
    "plt.show()"
   ]
  },
  {
   "cell_type": "markdown",
   "metadata": {},
   "source": [
    "**Kesimpulan Sementara:**\n",
    "\n",
    "- Pendapatan meningkat secara stabil sepanjang pengujian.\n",
    "- Terdapat lonjakan tinggi pada grup B di pertengahan bulan. Hal ini mungkin disebabkan oleh lonjakan jumlah pesanan atau adanya pesanan yang sangat mahal dari grup B."
   ]
  },
  {
   "cell_type": "markdown",
   "metadata": {},
   "source": [
    "<div class=\"alert alert-success\">\n",
    "<b>Chamdani's comment v.1</b> <a class=\"tocSkip\"></a>\n",
    "\n",
    "Hebat, Kerja bagus!\n",
    "\n",
    "</div>"
   ]
  },
  {
   "cell_type": "markdown",
   "metadata": {},
   "source": [
    "**b. Pesanan rata-rata kumulatif berdasarkan kelompok.**"
   ]
  },
  {
   "cell_type": "code",
   "execution_count": 30,
   "metadata": {},
   "outputs": [
    {
     "data": {
      "image/png": "[encoded data removed]",
      "text/plain": [
       "<Figure size 936x432 with 1 Axes>"
      ]
     },
     "metadata": {
      "needs_background": "light"
     },
     "output_type": "display_data"
    }
   ],
   "source": [
    "plt.figure(figsize=(13, 6))\n",
    "plt.plot(\n",
    "    cumulativeRevenueA['date'],\n",
    "    cumulativeRevenueA['revenue'] / cumulativeRevenueA['orders'],\n",
    "    label='A',\n",
    ")\n",
    "plt.plot(\n",
    "    cumulativeRevenueB['date'],\n",
    "    cumulativeRevenueB['revenue'] / cumulativeRevenueB['orders'],\n",
    "    label='B',\n",
    ")\n",
    "plt.title('Cumulative Average Order Size by A/B Test Group')\n",
    "plt.grid()\n",
    "plt.legend(fontsize=16)\n",
    "plt.show()"
   ]
  },
  {
   "cell_type": "markdown",
   "metadata": {},
   "source": [
    "**Kesimpulan Sementara:**\n",
    "\n",
    "- Pada awal bulan, terjadi penurunan dan kemudian lonjakan dalam ukuran pesanan rata-rata grup A. Seterusnya menunjukkan perilaku yang relatif datar.\n",
    "- Dalam grup B, terdapat 3 lonjakan besar, satu di beberapa hari pertama setiap bulan, satu lagi setelah hari ke-5, kemudian lonjakan yang sangat besar di pertengahan bulan.\n",
    "- Pesanan rata-rata menunjukkan perilaku yang stabil pada akhir pengujian untuk kedua kelompok.\n",
    "- Dengan demikian, kami menyimpulkan bahwa lonjakan pendapatan kumulatif yang terjadi pada hari yang sama di pertengahan bulan, juga mengakibatkan lonjakan ukuran pesanan rata-rata kumulatif. Ini berarti sekali lagi bahwa pesanan dalam jumlah besar dan/atau mahal dilakukan pada hari itu.\n",
    "- Nilai kumulatif jumlah pembelian rata-rata pembelian di semua segmen masih berfluktasi, sehingga terlalu dini untuk membuat keputusan berdasarkan metrik ini. Perlu menganalisis outlier yang mendistorsi hasi ini."
   ]
  },
  {
   "cell_type": "markdown",
   "metadata": {},
   "source": [
    "<div class=\"alert alert-success\">\n",
    "<b>Chamdani's comment v.1</b> <a class=\"tocSkip\"></a>\n",
    "\n",
    "Hebat, Kerja bagus!\n",
    "\n",
    "</div>"
   ]
  },
  {
   "cell_type": "markdown",
   "metadata": {},
   "source": [
    "**c. Perbedaan relatif untuk ukuran pesanan rata-rata kumulatif kelompok B dibandingkan dengan kelompok A.**"
   ]
  },
  {
   "cell_type": "code",
   "execution_count": 31,
   "metadata": {},
   "outputs": [],
   "source": [
    "mergedCumulativeRevenue = cumulativeRevenueA.merge(\n",
    "    cumulativeRevenueB,\n",
    "    left_on='date',\n",
    "    right_on='date',\n",
    "    how='left',\n",
    "    suffixes=['A', 'B'],\n",
    ")"
   ]
  },
  {
   "cell_type": "code",
   "execution_count": 32,
   "metadata": {},
   "outputs": [
    {
     "data": {
      "image/png": "[encoded data removed]",
      "text/plain": [
       "<Figure size 936x432 with 1 Axes>"
      ]
     },
     "metadata": {
      "needs_background": "light"
     },
     "output_type": "display_data"
    }
   ],
   "source": [
    "plt.figure(figsize=(13, 6))\n",
    "plt.plot(\n",
    "    mergedCumulativeRevenue['date'],\n",
    "    (mergedCumulativeRevenue['revenueB'] / mergedCumulativeRevenue['ordersB'])\n",
    "    / (\n",
    "        mergedCumulativeRevenue['revenueA']\n",
    "        / mergedCumulativeRevenue['ordersA']\n",
    "    )\n",
    "    - 1,\n",
    ")\n",
    "plt.title('The Relative difference between the Cumulative Average Purchase Amount of Group B Compared to Group A.')\n",
    "plt.axhline(y=0, color='red', linestyle='--')\n",
    "plt.grid()\n",
    "plt.show()"
   ]
  },
  {
   "cell_type": "markdown",
   "metadata": {},
   "source": [
    "**Kesimpulan Sementara:**\n",
    "\n",
    "- Terdapat lonjakan di beberapa titik dalam perbedaan antara kelompok. Lokasi lonjakan memang sesuai dengan lokasi lonjakan yang diamati pada ukuran pesanan rata-rata grup B. Lonjakan ini mengisyaratkan adanya beberapa pesanan besar dan outlier.\n",
    "- Hal ini mungkin ada hubungannya dengan pembelian berjumlah besar yang tidak normal."
   ]
  },
  {
   "cell_type": "markdown",
   "metadata": {},
   "source": [
    "<div class=\"alert alert-success\">\n",
    "<b>Chamdani's comment v.1</b> <a class=\"tocSkip\"></a>\n",
    "\n",
    "Hebat, Kerja bagus!\n",
    "\n",
    "</div>"
   ]
  },
  {
   "cell_type": "markdown",
   "metadata": {},
   "source": [
    "d. Tingkat konversi setiap kelompok sebagai rasio pesanan terhadap jumlah kunjungan setiap hari"
   ]
  },
  {
   "cell_type": "code",
   "execution_count": 33,
   "metadata": {},
   "outputs": [
    {
     "data": {
      "image/png": "[encoded data removed]",
      "text/plain": [
       "<Figure size 936x432 with 1 Axes>"
      ]
     },
     "metadata": {
      "needs_background": "light"
     },
     "output_type": "display_data"
    }
   ],
   "source": [
    "cumulativeData['conversion'] = (\n",
    "    cumulativeData['orders'] / cumulativeData['visitors']\n",
    ")\n",
    "\n",
    "cumulativeDataA = cumulativeData[cumulativeData['group'] == 'A']\n",
    "cumulativeDataB = cumulativeData[cumulativeData['group'] == 'B']\n",
    "plt.figure(figsize=(13, 6))\n",
    "plt.plot(cumulativeDataA['date'], cumulativeDataA['conversion'], label='A')\n",
    "plt.plot(cumulativeDataB['date'], cumulativeDataB['conversion'], label='B')\n",
    "plt.title('Cumulative conversion rates till given date by groups', fontsize=18)\n",
    "plt.legend()\n",
    "plt.axis([pd.to_datetime('2019-08-01'), pd.to_datetime('2019-09-01'), 0.025, 0.04])\n",
    "plt.grid()\n",
    "plt.show()"
   ]
  },
  {
   "cell_type": "markdown",
   "metadata": {},
   "source": [
    "**Kesimpulan Sementara:**\n",
    "\n",
    "- Dalam pengujian awal bulan, Grup A memimpin namun setelah 6 Agustus 2019, grup B mulai meningkat.\n",
    "- Tingkat konversi kumulatif berfluktuasi dengan kuat hanya pada beberapa hari pertama setiap bulan. Setelah beberapa hari pertama, tingkat konversi grup B naik dan stabil di sekitar pita 3.2% hingga 3.5%, sementara tingkat konversi grup A turun dan stabil tepat di bawah ambang batas 3.2%."
   ]
  },
  {
   "cell_type": "markdown",
   "metadata": {},
   "source": [
    "<div class=\"alert alert-success\">\n",
    "<b>Chamdani's comment v.1</b> <a class=\"tocSkip\"></a>\n",
    "\n",
    "Hebat, Kerja bagus!\n",
    "\n",
    "</div>"
   ]
  },
  {
   "cell_type": "code",
   "execution_count": 34,
   "metadata": {},
   "outputs": [],
   "source": [
    "mergedCumulativeConversions = cumulativeDataA[['date', 'conversion']].merge(\n",
    "    cumulativeDataB[['date', 'conversion']],\n",
    "    left_on='date',\n",
    "    right_on='date',\n",
    "    how='left',\n",
    "    suffixes=['A', 'B'],\n",
    ")"
   ]
  },
  {
   "cell_type": "code",
   "execution_count": 35,
   "metadata": {},
   "outputs": [
    {
     "data": {
      "image/png": "[encoded data removed]",
      "text/plain": [
       "<Figure size 936x432 with 1 Axes>"
      ]
     },
     "metadata": {
      "needs_background": "light"
     },
     "output_type": "display_data"
    }
   ],
   "source": [
    "plt.figure(figsize=(13, 6))\n",
    "plt.plot(\n",
    "    mergedCumulativeConversions['date'],\n",
    "    mergedCumulativeConversions['conversionB']\n",
    "    / mergedCumulativeConversions['conversionA']\n",
    "    - 1,\n",
    ")\n",
    "plt.title('Relative difference in cumulative conversion rates \\n'\n",
    "          'for group B compared with group A', fontsize=18)\n",
    "plt.axhline(y=0, color='red', linestyle='--')\n",
    "plt.axhline(y=-0.2, color='green', linestyle='--')\n",
    "plt.axis([pd.to_datetime('2019-08-01'), pd.to_datetime('2019-09-01'), -0.5, 0.5])\n",
    "plt.grid()\n",
    "plt.show()"
   ]
  },
  {
   "cell_type": "markdown",
   "metadata": {},
   "source": [
    "**Kesimpulan Sementara:**\n",
    "\n",
    "- Hingga hari ke-6 pengujian, grup B tertinggal dari grup A dalam hal tingkat konversi, tetapi tingkat konversi grup A terus menurun (kecuali lonjakan pada hari ketiga). Kemudian, grup B memimpin dan tingkat konversi grup A terus menurun hingga hari ke-10. Setelah itu rasio konversi tampaknya stabil.\n",
    "- Sebelum menarik kesimpulan tentang pengujian, perlu mempelajari lebih dekat outlier dan dampaknya terhadap hasil pengujian."
   ]
  },
  {
   "cell_type": "markdown",
   "metadata": {},
   "source": [
    "<div class=\"alert alert-success\">\n",
    "<b>Chamdani's comment v.1</b> <a class=\"tocSkip\"></a>\n",
    "\n",
    "Hebat, Kerja bagus!\n",
    "\n",
    "</div>"
   ]
  },
  {
   "cell_type": "markdown",
   "metadata": {},
   "source": [
    "## 1.3.2 Outlier analysis in orders and prices"
   ]
  },
  {
   "cell_type": "markdown",
   "metadata": {},
   "source": [
    "**a. Scatter chart untuk jumlah pesanan per pengguna & Menentukan persentil ke-95 dan ke-99 untuk jumlah pesanan per pengguna.**"
   ]
  },
  {
   "cell_type": "code",
   "execution_count": 36,
   "metadata": {},
   "outputs": [
    {
     "data": {
      "text/html": [
       "<div>\n",
       "<style scoped>\n",
       "    .dataframe tbody tr th:only-of-type {\n",
       "        vertical-align: middle;\n",
       "    }\n",
       "\n",
       "    .dataframe tbody tr th {\n",
       "        vertical-align: top;\n",
       "    }\n",
       "\n",
       "    .dataframe thead th {\n",
       "        text-align: right;\n",
       "    }\n",
       "</style>\n",
       "<table border=\"1\" class=\"dataframe\">\n",
       "  <thead>\n",
       "    <tr style=\"text-align: right;\">\n",
       "      <th></th>\n",
       "      <th>transactionId</th>\n",
       "      <th>visitorId</th>\n",
       "      <th>date</th>\n",
       "      <th>revenue</th>\n",
       "      <th>group</th>\n",
       "    </tr>\n",
       "  </thead>\n",
       "  <tbody>\n",
       "    <tr>\n",
       "      <th>0</th>\n",
       "      <td>3667963787</td>\n",
       "      <td>3312258926</td>\n",
       "      <td>2019-08-15</td>\n",
       "      <td>30.4</td>\n",
       "      <td>B</td>\n",
       "    </tr>\n",
       "    <tr>\n",
       "      <th>1</th>\n",
       "      <td>2804400009</td>\n",
       "      <td>3642806036</td>\n",
       "      <td>2019-08-15</td>\n",
       "      <td>15.2</td>\n",
       "      <td>B</td>\n",
       "    </tr>\n",
       "    <tr>\n",
       "      <th>2</th>\n",
       "      <td>2961555356</td>\n",
       "      <td>4069496402</td>\n",
       "      <td>2019-08-15</td>\n",
       "      <td>10.2</td>\n",
       "      <td>A</td>\n",
       "    </tr>\n",
       "    <tr>\n",
       "      <th>3</th>\n",
       "      <td>3797467345</td>\n",
       "      <td>1196621759</td>\n",
       "      <td>2019-08-15</td>\n",
       "      <td>155.1</td>\n",
       "      <td>B</td>\n",
       "    </tr>\n",
       "    <tr>\n",
       "      <th>4</th>\n",
       "      <td>2282983706</td>\n",
       "      <td>2322279887</td>\n",
       "      <td>2019-08-15</td>\n",
       "      <td>40.5</td>\n",
       "      <td>B</td>\n",
       "    </tr>\n",
       "  </tbody>\n",
       "</table>\n",
       "</div>"
      ],
      "text/plain": [
       "   transactionId   visitorId       date  revenue group\n",
       "0     3667963787  3312258926 2019-08-15     30.4     B\n",
       "1     2804400009  3642806036 2019-08-15     15.2     B\n",
       "2     2961555356  4069496402 2019-08-15     10.2     A\n",
       "3     3797467345  1196621759 2019-08-15    155.1     B\n",
       "4     2282983706  2322279887 2019-08-15     40.5     B"
      ]
     },
     "execution_count": 36,
     "metadata": {},
     "output_type": "execute_result"
    }
   ],
   "source": [
    "orders.head()                                                                                                                              "
   ]
  },
  {
   "cell_type": "code",
   "execution_count": 37,
   "metadata": {},
   "outputs": [],
   "source": [
    "# Compute the number of orders for each visitor.\n",
    "orders_per_visitor = orders.groupby(by='visitorId').agg({'transactionId':'nunique'}).reset_index()\n",
    "orders_per_visitor = orders_per_visitor.sort_values(by='transactionId')"
   ]
  },
  {
   "cell_type": "code",
   "execution_count": 38,
   "metadata": {},
   "outputs": [
    {
     "data": {
      "image/png": "[encoded data removed]",
      "text/plain": [
       "<Figure size 1440x576 with 2 Axes>"
      ]
     },
     "metadata": {
      "needs_background": "light"
     },
     "output_type": "display_data"
    },
    {
     "name": "stdout",
     "output_type": "stream",
     "text": [
      "The 95th and 99th percentiles for the number of orders per user are: [2. 4.]\n"
     ]
    }
   ],
   "source": [
    "# Show scatter plot of the number of orders per visitors\n",
    "fig, ax = plt.subplots(1, 2, figsize=(20,8), gridspec_kw={'width_ratios': [1.5, 1]})\n",
    "\n",
    "x_values = pd.Series(range(len(orders_per_visitor['transactionId'])))\n",
    "sns.scatterplot(x=x_values, y=orders_per_visitor['transactionId'], s = 100, ax = ax[0])\n",
    "ax[0].set_title('Scatterplot of the number of orders per visitor', fontsize=16)\n",
    "ax[0].set_xlabel('Visitors ids (mapped to start from 0)', fontsize=14)\n",
    "ax[0].set_ylabel('Number of orders', fontsize=14)\n",
    "ax[0].tick_params(axis='both', labelsize=14)\n",
    "ax[0].grid()\n",
    "ax[0].set_yticks(range(0, 13))\n",
    "# Compute the number of visitors per number of orders.\n",
    "visitors_per_orders = orders_per_visitor.groupby(by='transactionId').agg({'visitorId':'count'}).reset_index()\n",
    "# display(visitors_per_orders)\n",
    "\n",
    "# Show barplot of the number of orders per visitors\n",
    "sns.barplot(y='transactionId', x='visitorId', data=visitors_per_orders, orient='h', color='C0', ax=ax[1])\n",
    "ax[1].set_title('Barplot of the number of visitors by placed orders',\n",
    "          fontsize=16)\n",
    "ax[1].set_xlabel('Number of visitors', fontsize=14)\n",
    "ax[1].set_ylabel('Number of orders', fontsize=14)\n",
    "ax[1].tick_params(axis='both', labelsize=14)\n",
    "ax[1].grid()\n",
    "ax[1].invert_yaxis()\n",
    "ax[1].set_xlim(right=1200)\n",
    "# create a list to collect the plt.patches data\n",
    "totals = []\n",
    "\n",
    "# find the values and append to list\n",
    "for i in ax[1].patches:\n",
    "    totals.append(i.get_width())\n",
    "\n",
    "# set individual bar lables using above list\n",
    "total = sum(totals)\n",
    "\n",
    "# set individual bar lables using above list\n",
    "for i in ax[1].patches:\n",
    "    # get_width pulls left or right; get_y pushes up or down\n",
    "    ax[1].text(i.get_width()+20, i.get_y()+.3, \\\n",
    "            str(round((i.get_width()/total)*100, 2))+'%', fontsize=15,\n",
    "color='black')\n",
    "\n",
    "plt.show()\n",
    "\n",
    "# Get the 95th and 99th percentiles using np.percentile() method\n",
    "orders_per_visitor_perc = np.percentile(orders_per_visitor['transactionId'], [95, 99])\n",
    "\n",
    "print('The 95th and 99th percentiles for the number of orders per user are:', \n",
    "      orders_per_visitor_perc) "
   ]
  },
  {
   "cell_type": "markdown",
   "metadata": {},
   "source": [
    "**Kesimpulan Sementara:**\n",
    "\n",
    "- Grafik scatter menunjukkan sebagian besar pengunjung hanya melakukan 1x pemesanan. Yang bisa dilihat di barplot.\n",
    "- Persentil secara alami sejalan dengan perilaku yang diamati: hampir 95% dari waktu, pengunjung melakukan kurang dari 2 pesanan, dan hampir 99% dari waktu, mereka melakukan kurang dari 4 pesanan.\n",
    "- Pengunjung yang melakukan lebih dari 3 pesanan sebagai kasus luar biasa.\n",
    "- Ketika memeriksa persentil sampel ke-95 dan ke-99 untuk jumlah pesanan per pengguna, bahwa tidak lebih dari 3% pengguna melakukan lebih dari 2 pesanan, dan 0,6% pengguna melakukan 3 pesanan. Dengan demikian, akan masuk akal untuk menetapkan satu pesanan per pengguna sebagai batas bawah untuk jumlah pesanan dan menyaring anomali atas dasar itu."
   ]
  },
  {
   "cell_type": "markdown",
   "metadata": {},
   "source": [
    "<div class=\"alert alert-success\">\n",
    "<b>Chamdani's comment v.1</b> <a class=\"tocSkip\"></a>\n",
    "\n",
    "Hebat, Kerja bagus!\n",
    "\n",
    "</div>"
   ]
  },
  {
   "cell_type": "markdown",
   "metadata": {},
   "source": [
    "**b. Scatter chart untuk harga pesanan & Menentukan persentil ke-95 dan ke-99 untuk harga pesanan.**"
   ]
  },
  {
   "cell_type": "code",
   "execution_count": 39,
   "metadata": {},
   "outputs": [
    {
     "data": {
      "image/png": "[encoded data removed]",
      "text/plain": [
       "<Figure size 864x432 with 1 Axes>"
      ]
     },
     "metadata": {
      "needs_background": "light"
     },
     "output_type": "display_data"
    }
   ],
   "source": [
    "# Show scatter plot of the orders prices\n",
    "plt.figure(figsize=(12,6))\n",
    "x_values = pd.Series(range(0, len(orders['revenue'])))\n",
    "plt.scatter(x=x_values, y=orders['revenue'], s = 50)\n",
    "plt.title('Order prices', fontsize=16)\n",
    "plt.xlabel('Order ids (mapped to start from 0)', fontsize=14)\n",
    "plt.ylabel('Prices (US dollars)', fontsize=14)\n",
    "plt.xticks(fontsize=14)\n",
    "plt.yticks(fontsize=14)\n",
    "plt.grid()\n",
    "plt.show()"
   ]
  },
  {
   "cell_type": "markdown",
   "metadata": {},
   "source": [
    "**Kesimpulan Sementara:**\n",
    "\n",
    "- Grafik scatter menunjukkan ada 1 pesanan yang luar biasa, dan pesanan dibawah 2500 usd tidak jelas. Maka dilakukan plot ulang dengan mengatur batas sumbu y."
   ]
  },
  {
   "cell_type": "markdown",
   "metadata": {},
   "source": [
    "<div class=\"alert alert-success\">\n",
    "<b>Chamdani's comment v.1</b> <a class=\"tocSkip\"></a>\n",
    "\n",
    "Hebat, Kerja bagus!\n",
    "\n",
    "</div>"
   ]
  },
  {
   "cell_type": "code",
   "execution_count": 40,
   "metadata": {},
   "outputs": [
    {
     "data": {
      "image/png": "[encoded data removed]",
      "text/plain": [
       "<Figure size 864x432 with 1 Axes>"
      ]
     },
     "metadata": {
      "needs_background": "light"
     },
     "output_type": "display_data"
    },
    {
     "name": "stdout",
     "output_type": "stream",
     "text": [
      "The 95th and 99th percentiles of order prices are 436 and 901 US dollars\n"
     ]
    }
   ],
   "source": [
    "# Show scatter plot of the order prices for up to 2500 US dollars\n",
    "plt.figure(figsize=(12,6))\n",
    "x_values = pd.Series(range(0, len(orders['revenue'])))\n",
    "plt.scatter(x=x_values, y=orders['revenue'], s = 50)\n",
    "\n",
    "plt.title('Order prices', fontsize=16)\n",
    "plt.xlabel('Order ids (mapped to start from 0)', fontsize=14)\n",
    "plt.ylabel('Prices (US dollars)', fontsize=14)\n",
    "plt.xticks(fontsize=14)\n",
    "plt.yticks(fontsize=14)\n",
    "plt.ylim(top=2500)\n",
    "plt.ylim(bottom=-150)\n",
    "plt.grid()\n",
    "plt.show()\n",
    "\n",
    "# Get the 95th and 99th percentiles using np.percentile() method\n",
    "order_prices_perc = np.percentile(orders['revenue'], [95, 99]).round(0).astype('int')\n",
    "\n",
    "print('The 95th and 99th percentiles of order prices are {} and {} US dollars'.format(\n",
    "      order_prices_perc[0], order_prices_perc[1]))"
   ]
  },
  {
   "cell_type": "markdown",
   "metadata": {},
   "source": [
    "**Kesimpulan Sementara:**\n",
    "\n",
    "- Grafik scatter menunjukkan sebagian besar pesanan di bawah 1000 usd.\n",
    "- Persentil 95 dan 99 disekitar 436 dan 901 USD.\n",
    "- Berdasarkan grafik dan persentil, rentang tipikal sebagai berikut: Hingga dan termasuk 3 pesanan per pengunjung serta hingga dan termasuk 1000 dolar AS per pesanan. Dengan demikian, sebuah titik data diperlakukan sebagai anomali baik ketika pengunjung melakukan 4 pesanan atau lebih atau ketika harga pesanan melebihi 1000 dolar AS."
   ]
  },
  {
   "cell_type": "markdown",
   "metadata": {},
   "source": [
    "<div class=\"alert alert-success\">\n",
    "<b>Chamdani's comment v.1</b> <a class=\"tocSkip\"></a>\n",
    "\n",
    "Hebat, Kerja bagus!\n",
    "\n",
    "</div>"
   ]
  },
  {
   "cell_type": "markdown",
   "metadata": {},
   "source": [
    "## 1.3.3 Statistical significance of the difference in performance between groups"
   ]
  },
  {
   "cell_type": "markdown",
   "metadata": {},
   "source": [
    "Pertama-tama kami melakukan perhitungan menggunakan data mentah. Kemudian, kami mengulangi perhitungan yang sama dengan data di mana nilai outlier (berdasarkan nilai persentil ke-99 yang kami identifikasi pada langkah sebelumnya) dihilangkan."
   ]
  },
  {
   "cell_type": "markdown",
   "metadata": {},
   "source": [
    "**a. Signifikansi statistik perbedaan konversi antar kelompok menggunakan data mentah.**"
   ]
  },
  {
   "cell_type": "code",
   "execution_count": 41,
   "metadata": {},
   "outputs": [],
   "source": [
    "ordersByUsersA = (orders.loc[orders['group']=='A']\n",
    "                  .groupby('visitorId', as_index=False)\n",
    "                  .agg({'transactionId' : pd.Series.nunique}))\n",
    "\n",
    "ordersByUsersA.columns = ['visitorId', 'orders']\n",
    "\n",
    "ordersByUsersB = (orders.loc[orders['group']=='B']\n",
    "                  .groupby('visitorId', as_index=False)\n",
    "                  .agg({'transactionId' : pd.Series.nunique}))\n",
    "ordersByUsersB.columns = ['visitorId', 'orders']\n",
    "\n",
    "sampleA = pd.concat([ordersByUsersA['orders'],\n",
    "                     pd.Series(0, index=np.arange(\n",
    "                         visits[visits['group']=='A']['visits'].sum() \n",
    "                         - len(ordersByUsersA['orders'])), name='orders')],axis=0)\n",
    "\n",
    "sampleB = pd.concat([ordersByUsersB['orders'],\n",
    "                     pd.Series(0, index=np.arange(\n",
    "                         visits[visits['group']=='B']['visits'].sum() \n",
    "                         - len(ordersByUsersB['orders'])), name='orders')],axis=0)"
   ]
  },
  {
   "cell_type": "markdown",
   "metadata": {},
   "source": [
    "Di bawah ini kami akan menguji hipotesis H0 dan H1 berikut ini:\n",
    "\n",
    "- H0 = Null Hypothesis: There isn't a statistically significant difference in conversion rates between the group A and group B.\n",
    "- H1 = Alternative Hypothesis: The difference in conversion rates of the groups A and B are statistically significant."
   ]
  },
  {
   "cell_type": "code",
   "execution_count": 42,
   "metadata": {},
   "outputs": [
    {
     "name": "stdout",
     "output_type": "stream",
     "text": [
      "The relative conversion gain for group B is 0.138.\n",
      "p-value of Wilcoxon-Mann-Whitney non-parametric test for convertion rate samples is 0.017\n",
      "Rejecting the null hypothesis: there is a significant difference between the groups' convertion rates.\n"
     ]
    }
   ],
   "source": [
    "print(\"The relative conversion gain for group B is {0:.3f}.\".format(sampleB.mean()/sampleA.mean()-1)) \n",
    "\n",
    "\n",
    "p_value = st.mannwhitneyu(sampleA, sampleB)[1]\n",
    "print(\"p-value of Wilcoxon-Mann-Whitney non-parametric test for convertion rate samples is {0:.3f}\".format(p_value))\n",
    "\n",
    "alpha = 0.05\n",
    "if (p_value < alpha):\n",
    "    print(\"Rejecting the null hypothesis: there is a significant difference between the groups' convertion rates.\")\n",
    "else:\n",
    "    print(\"Failed to reject the null hypothesis: we can't make conclusions about the difference in \" \n",
    "          \"the groups' convertion rates.\") "
   ]
  },
  {
   "cell_type": "markdown",
   "metadata": {},
   "source": [
    "**Kesimpulan Sementara:**\n",
    "\n",
    "- Perbedaan relatif dalam tingkat konversi kelompok B adalah 13%.\n",
    "- Berdasarkan p-value, kita dapat menolak hipotesis nol bahwa tidak ada perbedaan yang signifikan secara statistik dalam konversi antara kedua kelompok."
   ]
  },
  {
   "cell_type": "markdown",
   "metadata": {},
   "source": [
    "<div class=\"alert alert-success\">\n",
    "<b>Chamdani's comment v.1</b> <a class=\"tocSkip\"></a>\n",
    "\n",
    "Hebat, Kerja bagus!\n",
    "\n",
    "</div>"
   ]
  },
  {
   "cell_type": "markdown",
   "metadata": {},
   "source": [
    "**b. Signifikansi statistik perbedaan ukuran pesanan rata-rata antar kelompok menggunakan data mentah.**"
   ]
  },
  {
   "cell_type": "markdown",
   "metadata": {},
   "source": [
    "Di bawah ini kami akan menguji hipotesis H0 dan H1 berikut ini:\n",
    "\n",
    "- H0 = Null Hypothesis: There isn't a statistically significant difference in order sizes between the groups A and B.\n",
    "- H1 = Alternative Hypothesis: The difference between order sizes of the groups A and B are statistically significant."
   ]
  },
  {
   "cell_type": "code",
   "execution_count": 43,
   "metadata": {},
   "outputs": [
    {
     "name": "stdout",
     "output_type": "stream",
     "text": [
      "The relative order size for group B is 0.252.\n",
      "p-value of Wilcoxon-Mann-Whitney non-parametric test for order size samples is 0.692\n",
      "Failed to reject the null hypothesis: we can't make conclusions about the difference in the groups' order sizes.\n"
     ]
    }
   ],
   "source": [
    "print('The relative order size for group B is {0:.3f}.'.format(\n",
    "    orders[orders['group']=='B']['revenue'].mean()\n",
    "    /orders[orders['group']=='A']['revenue'].mean()-1))\n",
    "\n",
    "p_value = (st.mannwhitneyu(orders[orders['group']=='A']['revenue'], \n",
    "                                       orders[orders['group']=='B']['revenue'])[1])\n",
    "\n",
    "print(\"p-value of Wilcoxon-Mann-Whitney non-parametric test for order size samples is {0:.3f}\".format(p_value))\n",
    "\n",
    "alpha = 0.05\n",
    "if (p_value < alpha):\n",
    "    print(\"Rejecting the null hypothesis: there is a significant difference between the groups' order sizes.\")\n",
    "else:\n",
    "    print(\"Failed to reject the null hypothesis: we can't make conclusions about the difference in \"\n",
    "          \"the groups' order sizes.\") "
   ]
  },
  {
   "cell_type": "markdown",
   "metadata": {},
   "source": [
    "**Kesimpulan Sementara:**\n",
    "\n",
    "- Ukuran pesanan rata-rata untuk grup B jauh lebih besar daripada grup A. Namun, karena nilai p-value sebesar 0.692 jauh lebih besar daripada ambang batas 0.05, kami tidak dapat menolak hipotesis nol.\n",
    "- Dengan demikian, kami tidak dapat menyimpulkan bahwa ada perbedaan yang signifikan secara statistik dalam ukuran pesanan kelompok."
   ]
  },
  {
   "cell_type": "markdown",
   "metadata": {},
   "source": [
    "**Kesimpulan:**\n",
    "\n",
    "Berdasarkan uji hipotesis yang kami lakukan dengan data mentah, kami belum dapat memutuskan apakah uji A/B yang dilakukan berhasil atau tidak. Mari kita lihat apakah menghilangkan outlier akan memperjelas gambarannya."
   ]
  },
  {
   "cell_type": "markdown",
   "metadata": {},
   "source": [
    "<div class=\"alert alert-success\">\n",
    "<b>Chamdani's comment v.1</b> <a class=\"tocSkip\"></a>\n",
    "\n",
    "Hebat, Kerja bagus!\n",
    "\n",
    "</div>"
   ]
  },
  {
   "cell_type": "markdown",
   "metadata": {},
   "source": [
    "**c. Signifikansi statistik perbedaan konversi antar kelompok menggunakan data yang telah difilter.**"
   ]
  },
  {
   "cell_type": "markdown",
   "metadata": {},
   "source": [
    "Kita akan mengulangi perhitungan signifikansi statistik, tetapi kali ini dengan tidak menyertakan data outlier. Pada langkah sebelumnya persentil ke-99 dari jumlah pesanan per pengunjung adalah 4 dan persentil ke-99 dari harga pesanan adalah 901 dolar AS."
   ]
  },
  {
   "cell_type": "code",
   "execution_count": 44,
   "metadata": {},
   "outputs": [
    {
     "name": "stdout",
     "output_type": "stream",
     "text": [
      "The following 13 visitors displayed atypical behaviors in their number of orders and order prices behavior:\n",
      "1099     148427295\n",
      "744      888512513\n",
      "1103    1164614297\n",
      "1136    1307669133\n",
      "858     1316129916\n",
      "425     1920142716\n",
      "227     2038680547\n",
      "1196    2108080724\n",
      "326     2378935119\n",
      "278     2458001652\n",
      "743     4133034833\n",
      "499     4256040402\n",
      "662     4266935830\n",
      "Name: visitorId, dtype: int64\n"
     ]
    }
   ],
   "source": [
    "usersWithManyOrders = pd.concat([ordersByUsersA[ordersByUsersA['orders'] > 4]['visitorId'], \n",
    "                                 ordersByUsersB[ordersByUsersB['orders'] > 4]['visitorId']], axis = 0)\n",
    "usersWithExpensiveOrders = orders[orders['revenue'] > 1000]['visitorId']\n",
    "abnormalUsers = pd.concat([usersWithManyOrders, usersWithExpensiveOrders], axis = 0).drop_duplicates().sort_values()\n",
    "print('The following {} visitors displayed atypical behaviors in their number of orders and order prices behavior:'\n",
    "      .format(abnormalUsers.shape[0]))\n",
    "print(abnormalUsers)"
   ]
  },
  {
   "cell_type": "code",
   "execution_count": 45,
   "metadata": {},
   "outputs": [],
   "source": [
    "sampleAFiltered = pd.concat([ordersByUsersA[np.logical_not(ordersByUsersA['visitorId']\n",
    "                                                           .isin(abnormalUsers))]['orders'],\n",
    "                             pd.Series(0, index=np.arange(\n",
    "                                 visits[visits['group']=='A']['visits'].sum() \n",
    "                                 - len(ordersByUsersA['orders'])),name='orders')],axis=0)\n",
    "\n",
    "sampleBFiltered = pd.concat([ordersByUsersB[np.logical_not(ordersByUsersB['visitorId']\n",
    "                                                           .isin(abnormalUsers))]['orders'],\n",
    "                             pd.Series(0, index=np.arange(\n",
    "                                 visits[visits['group']=='B']['visits'].sum()\n",
    "                                 - len(ordersByUsersB['orders'])),name='orders')],axis=0)"
   ]
  },
  {
   "cell_type": "markdown",
   "metadata": {},
   "source": [
    "**Kesimpulan Sementara:**\n",
    "\n",
    "- Data telah disaring.\n",
    "\n",
    "Seperti sebelumnya, pertama-tama kita akan menguji hipotesis nol dan hipotesis alternatif berikut ini:\n",
    "\n",
    "- H0 = Null Hypothesis: There isn't a statistically significant difference in conversion rates between the groups A and B (based on filtered data).\n",
    "- H1 = Alternative Hypothesis: The difference in conversion rates of the groups A and B are statistically significant (based on filtered data)."
   ]
  },
  {
   "cell_type": "markdown",
   "metadata": {},
   "source": [
    "<div class=\"alert alert-success\">\n",
    "<b>Chamdani's comment v.1</b> <a class=\"tocSkip\"></a>\n",
    "\n",
    "Hebat, Kerja bagus!\n",
    "\n",
    "</div>"
   ]
  },
  {
   "cell_type": "code",
   "execution_count": 46,
   "metadata": {},
   "outputs": [
    {
     "name": "stdout",
     "output_type": "stream",
     "text": [
      "The relative conversion gain for group B is -0.133.\n",
      "p-value of Wilcoxon-Mann-Whitney non-parametric test for convertion rate samples is 0.014\n",
      "Rejecting the null hypothesis: there is a significant difference between the groups' convertion rates.\n"
     ]
    }
   ],
   "source": [
    "print(\"The relative conversion gain for group B is {0:.3f}.\".format(sampleAFiltered.mean()/sampleBFiltered.mean()-1)) \n",
    "\n",
    "\n",
    "p_value = st.mannwhitneyu(sampleAFiltered, sampleBFiltered)[1]\n",
    "print(\"p-value of Wilcoxon-Mann-Whitney non-parametric test for convertion rate samples is {0:.3f}\".format(p_value))\n",
    "\n",
    "alpha = 0.05\n",
    "if (p_value < alpha):\n",
    "    print(\"Rejecting the null hypothesis: there is a significant difference between the groups' convertion rates.\")\n",
    "else:\n",
    "    print(\"Failed to reject the null hypothesis: we can't make conclusions about the difference in \" \n",
    "          \"the groups' convertion rates.\") "
   ]
  },
  {
   "cell_type": "markdown",
   "metadata": {},
   "source": [
    "**Kesimpulan Sementara:**\n",
    "\n",
    "- Keuntungan relatif yang sebelumnya ditemukan sebesar 13% untuk kelompok B dalam tingkat konversi berubah menjadi kerugian relatif sebesar 13%.\n",
    "- Kesimpulan kami tentang signifikansi statistik dalam perbedaan tingkat konversi tidak berubah. Kami masih dapat menolak hipotesis nol dan menyimpulkan bahwa ada perbedaan dalam tingkat konversi kelompok. Mari kita periksa juga bagaimana hasil untuk ukuran pesanan terpengaruh."
   ]
  },
  {
   "cell_type": "markdown",
   "metadata": {},
   "source": [
    "<div class=\"alert alert-success\">\n",
    "<b>Chamdani's comment v.1</b> <a class=\"tocSkip\"></a>\n",
    "\n",
    "Hebat, Kerja bagus!\n",
    "\n",
    "</div>"
   ]
  },
  {
   "cell_type": "markdown",
   "metadata": {},
   "source": [
    "**d. Signifikansi statistik perbedaan ukuran pesanan rata-rata antar kelompok menggunakan data yang telah difilter.**"
   ]
  },
  {
   "cell_type": "markdown",
   "metadata": {},
   "source": [
    "Kali ini kami menguji hipotesis nol dan alternatif berikut:\n",
    "\n",
    "- H0 = Null Hypothesis: There isn't a statistically significant difference in order sizes between the groups A and B (based on filtered data).\n",
    "- H1 = Alternative Hypothesis: The difference between order sizes of the group A and group B are statistically significant (based on filtered data)."
   ]
  },
  {
   "cell_type": "code",
   "execution_count": 47,
   "metadata": {},
   "outputs": [
    {
     "name": "stdout",
     "output_type": "stream",
     "text": [
      "The relative order size for group B is -0.008.\n",
      "p-value of Wilcoxon-Mann-Whitney non-parametric test for order size samples is 0.826\n",
      "Failed to reject the null hypothesis: we can't make conclusions about the difference in the groups' order sizes.\n"
     ]
    }
   ],
   "source": [
    "print('The relative order size for group B is {0:.3f}.'.format(\n",
    "    orders[np.logical_and(orders['group']=='B',\n",
    "                          np.logical_not(orders['visitorId']\n",
    "                                         .isin(abnormalUsers)))]['revenue'].mean()/\n",
    "    orders[np.logical_and(orders['group']=='A',\n",
    "                          np.logical_not(orders['visitorId']\n",
    "                                         .isin(abnormalUsers)))]['revenue'].mean() - 1))\n",
    "\n",
    "p_value = (st.mannwhitneyu(\n",
    "    orders[np.logical_and(\n",
    "        orders['group']=='A',\n",
    "        np.logical_not(orders['visitorId'].isin(abnormalUsers)))]['revenue'],\n",
    "    orders[np.logical_and(\n",
    "        orders['group']=='B',\n",
    "        np.logical_not(orders['visitorId'].isin(abnormalUsers)))]['revenue'])[1])\n",
    "\n",
    "print(\"p-value of Wilcoxon-Mann-Whitney non-parametric test for order size samples is {0:.3f}\".format(p_value))\n",
    "\n",
    "alpha = 0.05\n",
    "if (p_value < alpha):\n",
    "    print(\"Rejecting the null hypothesis: there is a significant difference between the groups' order sizes.\")\n",
    "else:\n",
    "    print(\"Failed to reject the null hypothesis: we can't make conclusions about the difference in \"\n",
    "          \"the groups' order sizes.\")"
   ]
  },
  {
   "cell_type": "markdown",
   "metadata": {},
   "source": [
    "**Kesimpulan Sementara:**\n",
    "\n",
    "- Ukuran pesanan rata-rata untuk grup B sekarang hanya sedikit lebih besar daripada grup A. Sedangkan untuk tingkat konversi, kesimpulan kami tentang perbedaan ukuran pesanan untuk grup juga tidak berubah.\n",
    "- Berdasarkan data yang disaring, kami masih tidak dapat menolak hipotesis nol. Dengan demikian, kami menyimpulkan bahwa tidak ada perbedaan dalam ukuran pesanan kelompok."
   ]
  },
  {
   "cell_type": "markdown",
   "metadata": {},
   "source": [
    "<div class=\"alert alert-success\">\n",
    "<b>Chamdani's comment v.1</b> <a class=\"tocSkip\"></a>\n",
    "\n",
    "Hebat, Kerja bagus!\n",
    "\n",
    "</div>"
   ]
  },
  {
   "cell_type": "markdown",
   "metadata": {},
   "source": [
    "## Kesimpulan Umum"
   ]
  },
  {
   "cell_type": "markdown",
   "metadata": {},
   "source": [
    "Kesimpulan yang bisa kita tarik dari pengujian ini adalah :\n",
    "\n",
    "Data mentah maupun data yang telah difilter tidak menunjukkan adanya perbedaan yang signifikan secara statistik dalam hal konversi antar kelompok. Baik data mentah maupun data yang telah difilter tidak menunjukkan adanya perbedaan yang signifikan secara statistik dalam ukuran pesanan rata-rata di antara kedua kelompok. Ketika kami melihat grafik, ini menunjukkan perbedaan konversi antara kelompok di mana hasil kelompok B lebih baik Grafik yang menunjukkan perbedaan dalam ukuran pesanan rata-rata antara kelompok memberi tahu kita bahwa hasil kelompok B juga lebih baik"
   ]
  },
  {
   "cell_type": "markdown",
   "metadata": {},
   "source": [
    "**A. Pra-Pemrosesan**"
   ]
  },
  {
   "cell_type": "markdown",
   "metadata": {},
   "source": [
    "Hasil dari eksplorasi pra-pemrosesan data, dapat disimpulkan bahwa:\n",
    "\n",
    "- Terdapat 3 data, hipotesis, visit, dan order.\n",
    "- Data hipotesis mengandung data tentang hipotesis-hipotesis. Tidak ada masalah dalam data tersebut.\n",
    "- Hipotesis yang menjanjikkan adalah hipotesis 9, 1, 8, 7, dan 3. Namun berubah secara signifikan antara ICE dan RICE.\n",
    "- Data pada order dan visits cukup diubah kolom date menjadi datetime. Tidak ada duplikat/nilai hilang.\n",
    "- Dalam Data preprocessing, pendapatan kumulatif berdasarkan kelompok meningkat secara stabil sepanjang pengujian. Pada pertengahan bulan terdapat lonjakan tinggi di grup B akibat pesanan yang sangat mahal.\n",
    "- Dalam Data preprocessing, pesanan rata-rata kumulatif berdasarkan kelompok terjadi secara fluktuasi. Terdapat outlier dalam data.\n",
    "- Tingkat konversi kumulatif berfluktuasi dengan kuat hanya pada beberapa hari pertama setiap bulan. Setelah beberapa hari pertama, tingkat konversi grup B naik dan stabil di sekitar pita 3.2% hingga 3.5%, sementara tingkat konversi grup A turun dan stabil tepat di bawah ambang batas 3.2%.\n",
    "- Ketika memeriksa persentil sampel ke-95 dan ke-99 untuk jumlah pesanan per pengguna, bahwa tidak lebih dari 3% pengguna melakukan lebih dari 2 pesanan, dan 0,6% pengguna melakukan 3 pesanan. Dengan demikian, akan masuk akal untuk menetapkan satu pesanan per pengguna sebagai batas bawah untuk jumlah pesanan dan menyaring anomali atas dasar itu.\n",
    "- Berdasarkan grafik dan persentil, rentang tipikal sebagai berikut: Hingga dan termasuk 3 pesanan per pengunjung serta hingga dan termasuk 1000 dolar AS per pesanan. Dengan demikian, sebuah titik data diperlakukan sebagai anomali baik ketika pengunjung melakukan 4 pesanan atau lebih atau ketika harga pesanan melebihi 1000 dolar AS.\n",
    "- Keputusan tentang keberhasilan uji A/B: Berdasarkan fakta-fakta di atas, kami menyimpulkan bahwa pengujian dapat dihentikan. Meskipun pada akhir pengujian, kami tidak mengidentifikasi adanya perbedaan yang signifikan secara statistik dalam pendapatan rata-rata yang dihasilkan antara pesanan kedua kelompok, kelompok B jelas lebih berhasil dalam mengubah pengunjung menjadi pembeli. Karena probabilitas bahwa kelompok A akan menjadi lebih baik daripada kelompok B sangat rendah, maka tidak ada gunanya melanjutkan pengujian. Kita dapat menyatakan kelompok B sebagai pemimpin."
   ]
  },
  {
   "cell_type": "markdown",
   "metadata": {},
   "source": [
    "<div class=\"alert alert-success\">\n",
    "<b>Chamdani's comment v.1</b> <a class=\"tocSkip\"></a>\n",
    "\n",
    "Hebat, Kerja bagus!\n",
    "\n",
    "</div>"
   ]
  },
  {
   "cell_type": "code",
   "execution_count": null,
   "metadata": {},
   "outputs": [],
   "source": []
  }
 ],
 "metadata": {
  "kernelspec": {
   "display_name": "Python 3 (ipykernel)",
   "language": "python",
   "name": "python3"
  },
  "language_info": {
   "codemirror_mode": {
    "name": "ipython",
    "version": 3
   },
   "file_extension": ".py",
   "mimetype": "text/x-python",
   "name": "python",
   "nbconvert_exporter": "python",
   "pygments_lexer": "ipython3",
   "version": "3.9.19"
  },
  "toc": {
   "base_numbering": 1,
   "nav_menu": {},
   "number_sections": true,
   "sideBar": true,
   "skip_h1_title": true,
   "title_cell": "Table of Contents",
   "title_sidebar": "Contents",
   "toc_cell": false,
   "toc_position": {},
   "toc_section_display": true,
   "toc_window_display": true
  }
 },
 "nbformat": 4,
 "nbformat_minor": 2
}
