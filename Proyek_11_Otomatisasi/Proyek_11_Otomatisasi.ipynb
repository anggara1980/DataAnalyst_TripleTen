{
 "cells": [
  {
   "cell_type": "markdown",
   "id": "10df655c",
   "metadata": {},
   "source": [
    "Tugas Sprint 11 Otomatisasi\n",
    "\n",
    "1. Data yang digunakan : trending_by_time.csv\n",
    "2. Link dashboard Tableau : https://public.tableau.com/views/AnalisisTrendingVideoYoutube/Dashboard1?:language=en-US&:sid=&:display_count=n&:origin=viz_share_link\n",
    "3. File pdf Presentasi : Arie A Anggara _ Analisis Trending Video YouTube"
   ]
  },
  {
   "cell_type": "code",
   "execution_count": null,
   "id": "70d29c15",
   "metadata": {},
   "outputs": [],
   "source": []
  }
 ],
 "metadata": {
  "kernelspec": {
   "display_name": "Python 3 (ipykernel)",
   "language": "python",
   "name": "python3"
  },
  "language_info": {
   "codemirror_mode": {
    "name": "ipython",
    "version": 3
   },
   "file_extension": ".py",
   "mimetype": "text/x-python",
   "name": "python",
   "nbconvert_exporter": "python",
   "pygments_lexer": "ipython3",
   "version": "3.11.5"
  }
 },
 "nbformat": 4,
 "nbformat_minor": 5
}
